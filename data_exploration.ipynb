{
 "cells": [
  {
   "cell_type": "markdown",
   "metadata": {},
   "source": [
    "# First data exploration"
   ]
  },
  {
   "cell_type": "markdown",
   "metadata": {},
   "source": [
    "### Extracting and cleaning plot summaries "
   ]
  },
  {
   "cell_type": "code",
   "execution_count": 1,
   "metadata": {},
   "outputs": [
    {
     "name": "stderr",
     "output_type": "stream",
     "text": [
      "C:\\Users\\Mathieu\\anaconda3\\envs\\ada\\Lib\\site-packages\\tqdm\\auto.py:21: TqdmWarning: IProgress not found. Please update jupyter and ipywidgets. See https://ipywidgets.readthedocs.io/en/stable/user_install.html\n",
      "  from .autonotebook import tqdm as notebook_tqdm\n",
      "[nltk_data] Downloading package punkt to\n",
      "[nltk_data]     C:\\Users\\Mathieu\\AppData\\Roaming\\nltk_data...\n",
      "[nltk_data]   Package punkt is already up-to-date!\n",
      "[nltk_data] Downloading package punkt_tab to\n",
      "[nltk_data]     C:\\Users\\Mathieu\\AppData\\Roaming\\nltk_data...\n",
      "[nltk_data]   Package punkt_tab is already up-to-date!\n"
     ]
    }
   ],
   "source": [
    "import pandas as pd\n",
    "import numpy as np\n",
    "import matplotlib.pyplot as plt\n",
    "import seaborn as sns\n",
    "import re\n",
    "\n",
    "from transformers import AutoModelForSequenceClassification\n",
    "from transformers import TFAutoModelForSequenceClassification\n",
    "from transformers import AutoTokenizer, AutoConfig\n",
    "from transformers import pipeline\n",
    "from scipy.special import softmax\n",
    "\n",
    "\n",
    "import nltk\n",
    "nltk.download('punkt')\n",
    "nltk.download('punkt_tab')\n",
    "\n",
    "#Setting pandas display options\n",
    "pd.set_option(\"max_colwidth\", None)\n",
    "\n",
    "\n",
    "#Src folder path\n",
    "src_folder = 'src/data/'"
   ]
  },
  {
   "cell_type": "code",
   "execution_count": 2,
   "metadata": {},
   "outputs": [
    {
     "data": {
      "text/html": [
       "<div>\n",
       "<style scoped>\n",
       "    .dataframe tbody tr th:only-of-type {\n",
       "        vertical-align: middle;\n",
       "    }\n",
       "\n",
       "    .dataframe tbody tr th {\n",
       "        vertical-align: top;\n",
       "    }\n",
       "\n",
       "    .dataframe thead th {\n",
       "        text-align: right;\n",
       "    }\n",
       "</style>\n",
       "<table border=\"1\" class=\"dataframe\">\n",
       "  <thead>\n",
       "    <tr style=\"text-align: right;\">\n",
       "      <th></th>\n",
       "      <th>id</th>\n",
       "      <th>summary</th>\n",
       "    </tr>\n",
       "  </thead>\n",
       "  <tbody>\n",
       "    <tr>\n",
       "      <th>37889</th>\n",
       "      <td>29081683</td>\n",
       "      <td>Jerry McGuire  is a dress designer who is tired of being looked upon as a wimp. He begins secretly training as a boxer to take on Spike Mullins  and win the affections of store clerk Hilda Jensen .http://www.allmovie.com/work/so-this-is-love-110791</td>\n",
       "    </tr>\n",
       "    <tr>\n",
       "      <th>39595</th>\n",
       "      <td>25862838</td>\n",
       "      <td>Set in modern Birmingham, Land Gold Women revolves around a small British Asian family caught between their traditional past and the tumultuous, faction-driven present. Nazir Ali Khan, a soft-spoken, 45-year-old professor of History at a University in Birmingham, emigrated from India in the 1980s. He made Birmingham his home with his conservative wife Rizwana and their two children, Saira, 17 and Asif, 14. He indulges their interests in all things English and Western but now finds himself increasingly nostalgic about his roots. Saira, with a year to complete her graduation, is excited at the prospect of going to university to pursue her interest in Literature. She also hopes that this will give her more time to spend with David, her aspiring writer boyfriend. At this critical juncture in her life, Nazir finds himself feeling increasingly conflicted at the thought of his daughter going out into the big bad world. His fears are further strengthened by the arrival of his older brother Riyaaz from India. A staunch traditional man, Riyaaz arrives with a proposal of marriage for Saira. A man of his word, who takes great pride in his roots, Riyaaz doesn’t intend on taking a ‘no’ for an answer. With the threat of an illicit relationship looming over his head and the prospect of getting cut off from the rest of his family, Nazir finds himself at the brink of a terrible decision to make: Should he save face? Or save his daughter?</td>\n",
       "    </tr>\n",
       "  </tbody>\n",
       "</table>\n",
       "</div>"
      ],
      "text/plain": [
       "             id  \\\n",
       "37889  29081683   \n",
       "39595  25862838   \n",
       "\n",
       "                                                                                                                                                                                                                                                                                                                                                                                                                                                                                                                                                                                                                                                                                                                                                                                                                                                                                                                                                                                                                                                                                                                                                                                                                                                                                                                                                                                                                                                                                                   summary  \n",
       "37889                                                                                                                                                                                                                                                                                                                                                                                                                                                                                                                                                                                                                                                                                                                                                                                                                                                                                                                                                                                                                                                                                                                                                                                                                                             Jerry McGuire  is a dress designer who is tired of being looked upon as a wimp. He begins secretly training as a boxer to take on Spike Mullins  and win the affections of store clerk Hilda Jensen .http://www.allmovie.com/work/so-this-is-love-110791  \n",
       "39595  Set in modern Birmingham, Land Gold Women revolves around a small British Asian family caught between their traditional past and the tumultuous, faction-driven present. Nazir Ali Khan, a soft-spoken, 45-year-old professor of History at a University in Birmingham, emigrated from India in the 1980s. He made Birmingham his home with his conservative wife Rizwana and their two children, Saira, 17 and Asif, 14. He indulges their interests in all things English and Western but now finds himself increasingly nostalgic about his roots. Saira, with a year to complete her graduation, is excited at the prospect of going to university to pursue her interest in Literature. She also hopes that this will give her more time to spend with David, her aspiring writer boyfriend. At this critical juncture in her life, Nazir finds himself feeling increasingly conflicted at the thought of his daughter going out into the big bad world. His fears are further strengthened by the arrival of his older brother Riyaaz from India. A staunch traditional man, Riyaaz arrives with a proposal of marriage for Saira. A man of his word, who takes great pride in his roots, Riyaaz doesn’t intend on taking a ‘no’ for an answer. With the threat of an illicit relationship looming over his head and the prospect of getting cut off from the rest of his family, Nazir finds himself at the brink of a terrible decision to make: Should he save face? Or save his daughter?  "
      ]
     },
     "execution_count": 2,
     "metadata": {},
     "output_type": "execute_result"
    }
   ],
   "source": [
    "df_plot_summaries = pd.read_csv(src_folder + 'plot_summaries.txt', sep='\\t', header=None,  names=['id', 'summary'])\n",
    "df_plot_summaries.sample(2)"
   ]
  },
  {
   "cell_type": "markdown",
   "metadata": {},
   "source": [
    "Some cleaning is necessary for the plot summaries. There appears to be in the data:\n",
    "\n",
    "1) {{annotation}}\n",
    "2) links (references to wikipedia)\n",
    "3) <> html delimiters\n",
    "4) ... further inspection needed\n",
    "\n",
    "That need to be removed\n"
   ]
  },
  {
   "cell_type": "code",
   "execution_count": 3,
   "metadata": {},
   "outputs": [],
   "source": [
    "def clean_plot(txt):\n",
    "\n",
    "    #Remove URLs\n",
    "    txt = re.sub(r\"http\\S+|www\\.\\S+\", '', txt)\n",
    "\n",
    "    #Remove HTML tags\n",
    "    txt = re.sub(r'<.*?>', '', txt)\n",
    "\n",
    "    #Remove {{annotations}}\n",
    "    txt = re.sub(r'\\{\\{.*?\\}\\}', '', txt)\n",
    "\n",
    "    #Remove the ([[ annotation that is never closed\n",
    "    txt = re.sub(r'\\(\\[\\[', '', txt)\n",
    "\n",
    "    #Remove the synopsis from context\n",
    "    txt = re.sub(r'Synopsis from', '', txt)\n",
    "\n",
    "    #Remove <ref...}} tags\n",
    "    txt = re.sub(r'<ref[^}]*}}', '', txt)\n",
    "\n",
    "    return txt"
   ]
  },
  {
   "cell_type": "code",
   "execution_count": 4,
   "metadata": {},
   "outputs": [
    {
     "data": {
      "text/html": [
       "<div>\n",
       "<style scoped>\n",
       "    .dataframe tbody tr th:only-of-type {\n",
       "        vertical-align: middle;\n",
       "    }\n",
       "\n",
       "    .dataframe tbody tr th {\n",
       "        vertical-align: top;\n",
       "    }\n",
       "\n",
       "    .dataframe thead th {\n",
       "        text-align: right;\n",
       "    }\n",
       "</style>\n",
       "<table border=\"1\" class=\"dataframe\">\n",
       "  <thead>\n",
       "    <tr style=\"text-align: right;\">\n",
       "      <th></th>\n",
       "      <th>id</th>\n",
       "      <th>summary</th>\n",
       "    </tr>\n",
       "  </thead>\n",
       "  <tbody>\n",
       "    <tr>\n",
       "      <th>32940</th>\n",
       "      <td>5604917</td>\n",
       "      <td>Repossession men Laurel and Hardy serve a summons to Mr. Kennedy, who has failed to pay the installments for his radio. They wind up destroying both their car and the radio, as Mrs. Kennedy returns home to announce she's just paid for the radio.</td>\n",
       "    </tr>\n",
       "    <tr>\n",
       "      <th>35691</th>\n",
       "      <td>32169995</td>\n",
       "      <td>A nameless horse butcher, whose wife left him soon after their autistic daughter was born, operates his own business while trying to raise the daughter. Despite that she has become a teenager, the butcher continues to wash her like a baby, and struggles to resist the temptation of committing incest. On the day of the daughter's menstruation, the butcher misinterprets the situation and assumes that she has been raped by a worker, whom he immediately seeks out and stabs as revenge. The butcher is imprisoned for the assault and is forced to sell his butcher shop and apartment.</td>\n",
       "    </tr>\n",
       "  </tbody>\n",
       "</table>\n",
       "</div>"
      ],
      "text/plain": [
       "             id  \\\n",
       "32940   5604917   \n",
       "35691  32169995   \n",
       "\n",
       "                                                                                                                                                                                                                                                                                                                                                                                                                                                                                                                                                                                                    summary  \n",
       "32940                                                                                                                                                                                                                                                                                                                                                 Repossession men Laurel and Hardy serve a summons to Mr. Kennedy, who has failed to pay the installments for his radio. They wind up destroying both their car and the radio, as Mrs. Kennedy returns home to announce she's just paid for the radio.  \n",
       "35691  A nameless horse butcher, whose wife left him soon after their autistic daughter was born, operates his own business while trying to raise the daughter. Despite that she has become a teenager, the butcher continues to wash her like a baby, and struggles to resist the temptation of committing incest. On the day of the daughter's menstruation, the butcher misinterprets the situation and assumes that she has been raped by a worker, whom he immediately seeks out and stabs as revenge. The butcher is imprisoned for the assault and is forced to sell his butcher shop and apartment.  "
      ]
     },
     "execution_count": 4,
     "metadata": {},
     "output_type": "execute_result"
    }
   ],
   "source": [
    "df_test_clean = df_plot_summaries.copy()\n",
    "df_test_clean[\"summary\"] = df_plot_summaries['summary'].apply(clean_plot)\n",
    "df_test_clean.sample(2)"
   ]
  },
  {
   "cell_type": "markdown",
   "metadata": {},
   "source": [
    "    histogram of the length of the summary"
   ]
  },
  {
   "cell_type": "code",
   "execution_count": 5,
   "metadata": {},
   "outputs": [],
   "source": [
    "df_length_summary = df_test_clean['summary'].copy(deep=True)\n",
    "df_length_summary = df_length_summary.apply(len) \n"
   ]
  },
  {
   "cell_type": "code",
   "execution_count": 6,
   "metadata": {
    "scrolled": true
   },
   "outputs": [
    {
     "data": {
      "text/plain": [
       "0         178\n",
       "1        4559\n",
       "2        3090\n",
       "3        4917\n",
       "4        2425\n",
       "         ... \n",
       "42298     220\n",
       "42299    2971\n",
       "42300     871\n",
       "42301    1289\n",
       "42302    3489\n",
       "Name: summary, Length: 42303, dtype: int64"
      ]
     },
     "execution_count": 6,
     "metadata": {},
     "output_type": "execute_result"
    }
   ],
   "source": [
    "df_length_summary"
   ]
  },
  {
   "cell_type": "code",
   "execution_count": null,
   "metadata": {},
   "outputs": [],
   "source": [
    "plt.hist(df_length_summary, bins=50, edgecolor='black')\n",
    "plt.xlabel('length of summary')\n",
    "plt.ylabel('amount of summary')\n",
    "plt.title('distribution of the length of the summary')\n",
    "plt.show()"
   ]
  },
  {
   "cell_type": "markdown",
   "metadata": {},
   "source": [
    "#### Sentiment analysis test"
   ]
  },
  {
   "cell_type": "markdown",
   "metadata": {},
   "source": [
    "I see two possibilities: making classical sentiment analysis using twitter-roberta-base-sentiment trained on tweets or using distilbert-base-uncased-emotions for emotions"
   ]
  },
  {
   "cell_type": "code",
   "execution_count": 9,
   "metadata": {},
   "outputs": [
    {
     "name": "stderr",
     "output_type": "stream",
     "text": [
      "C:\\Users\\Mathieu\\anaconda3\\envs\\ada\\Lib\\site-packages\\huggingface_hub\\file_download.py:139: UserWarning: `huggingface_hub` cache-system uses symlinks by default to efficiently store duplicated files but your machine does not support them in C:\\Users\\Mathieu\\.cache\\huggingface\\hub\\models--cardiffnlp--twitter-roberta-base-sentiment-latest. Caching files will still work but in a degraded version that might require more space on your disk. This warning can be disabled by setting the `HF_HUB_DISABLE_SYMLINKS_WARNING` environment variable. For more details, see https://huggingface.co/docs/huggingface_hub/how-to-cache#limitations.\n",
      "To support symlinks on Windows, you either need to activate Developer Mode or to run Python as an administrator. In order to activate developer mode, see this article: https://docs.microsoft.com/en-us/windows/apps/get-started/enable-your-device-for-development\n",
      "  warnings.warn(message)\n",
      "Some weights of the model checkpoint at cardiffnlp/twitter-roberta-base-sentiment-latest were not used when initializing RobertaForSequenceClassification: ['roberta.pooler.dense.bias', 'roberta.pooler.dense.weight']\n",
      "- This IS expected if you are initializing RobertaForSequenceClassification from the checkpoint of a model trained on another task or with another architecture (e.g. initializing a BertForSequenceClassification model from a BertForPreTraining model).\n",
      "- This IS NOT expected if you are initializing RobertaForSequenceClassification from the checkpoint of a model that you expect to be exactly identical (initializing a BertForSequenceClassification model from a BertForSequenceClassification model).\n"
     ]
    },
    {
     "name": "stdout",
     "output_type": "stream",
     "text": [
      "The story is about three sisters Srividya, Subha and Jayachitra, each getting attracted to their tenant, a young man played by Sivakumar.\n",
      "neutral 0.8701348\n",
      "Sivakumar falls in love with Jayachitra.\n",
      "neutral 0.5637661\n",
      "However, things take a turn to the worse in the typical Balachander style when Jayachitra sacrifices herself to the whims of a playboy, played by Kamal Haasan in order to save her friend  from his exploits.\n",
      "negative 0.77866256\n",
      "What happens next, who marries whom, is the crux of a dramatic climax.\n",
      "neutral 0.84232396\n",
      "The movie turns the entire concept of romantic movies by its head - the concept being that the hero does not always have to get the girl.\n",
      "neutral 0.6040655\n"
     ]
    }
   ],
   "source": [
    "#First possibility: sentence by sentence sentiment classification\n",
    "\n",
    "MODEL = f\"cardiffnlp/twitter-roberta-base-sentiment-latest\"\n",
    "tokenizer = AutoTokenizer.from_pretrained(MODEL)\n",
    "config = AutoConfig.from_pretrained(MODEL)\n",
    "model = AutoModelForSequenceClassification.from_pretrained(MODEL)\n",
    "\n",
    "\n",
    "\n",
    "dict_labels = {0: 'negative', 1: 'neutral', 2: 'positive'}\n",
    "for t in df_test_clean['summary'].sample(1):\n",
    "    for sentence in nltk.sent_tokenize(t):\n",
    "        print(sentence)\n",
    "        t_encoded = tokenizer(sentence, return_tensors='pt')\n",
    "        t_output = model(**t_encoded)\n",
    "        t_scores = softmax(t_output.logits.detach().numpy(), axis=1)\n",
    "        t_predicted = np.argmax(t_scores)\n",
    "        print(dict_labels[t_predicted], t_scores[0][t_predicted])\n",
    "    "
   ]
  },
  {
   "cell_type": "code",
   "execution_count": 10,
   "metadata": {},
   "outputs": [
    {
     "name": "stderr",
     "output_type": "stream",
     "text": [
      "C:\\Users\\Mathieu\\anaconda3\\envs\\ada\\Lib\\site-packages\\huggingface_hub\\file_download.py:139: UserWarning: `huggingface_hub` cache-system uses symlinks by default to efficiently store duplicated files but your machine does not support them in C:\\Users\\Mathieu\\.cache\\huggingface\\hub\\models--j-hartmann--emotion-english-distilroberta-base. Caching files will still work but in a degraded version that might require more space on your disk. This warning can be disabled by setting the `HF_HUB_DISABLE_SYMLINKS_WARNING` environment variable. For more details, see https://huggingface.co/docs/huggingface_hub/how-to-cache#limitations.\n",
      "To support symlinks on Windows, you either need to activate Developer Mode or to run Python as an administrator. In order to activate developer mode, see this article: https://docs.microsoft.com/en-us/windows/apps/get-started/enable-your-device-for-development\n",
      "  warnings.warn(message)\n",
      "C:\\Users\\Mathieu\\anaconda3\\envs\\ada\\Lib\\site-packages\\transformers\\pipelines\\text_classification.py:106: UserWarning: `return_all_scores` is now deprecated,  if want a similar functionality use `top_k=None` instead of `return_all_scores=True` or `top_k=1` instead of `return_all_scores=False`.\n",
      "  warnings.warn(\n"
     ]
    },
    {
     "name": "stdout",
     "output_type": "stream",
     "text": [
      "An extremist right-wing candidate is elected to the French presidency, sparking riots in Paris.\n",
      "anger 0.5820716023445129\n",
      "Hoping to escape Paris but needing cash, Alex, Tom, Farid, the pregnant Yasmine, and her brother Sami take advantage of the chaos to pull off a robbery.\n",
      "fear 0.4334038197994232\n",
      "Sami is shot and the group splits up: Alex and Yasmine take Sami to a hospital, and Tom and Farid take the money to a family-run inn near the border.\n",
      "sadness 0.7484657764434814\n",
      "Innkeepers Gilberte and Klaudia claim their rooms are free and seduce the two men.\n",
      "neutral 0.6540887951850891\n",
      "At the hospital, the emergency room staff report Sami's injury to the police.\n",
      "sadness 0.7390162944793701\n",
      "Sami insists Yasmine run before the police catch her.\n",
      "neutral 0.45305579900741577\n",
      "His dying wish is that Yasmine not have an abortion.\n",
      "sadness 0.9689406156539917\n",
      "Alex and Yasmine flee, phoning their friends for directions to the inn.\n",
      "fear 0.48608505725860596\n",
      "Tom and Farid give them directions but soon after are brutally attacked by Gilberte, Klaudia, and Goetz.\n",
      "anger 0.76302170753479\n",
      "When Tom and Farid try to escape, Goetz runs their car off a cliff.\n",
      "fear 0.9306033849716187\n",
      "The injured men wander into a mine shaft, where Tom is quickly recaptured.\n",
      "fear 0.5727176666259766\n",
      "Farid must fend for himself in the mine with the family's rejected children.\n",
      "sadness 0.2895881235599518\n",
      "Unaware of the danger, Alex and Yasmine arrive at the inn and are captured by the family.\n",
      "fear 0.9487703442573547\n",
      "Alex and Yasmine are chained in a muddy floored pig pen.\n",
      "disgust 0.5927096009254456\n",
      "Alex breaks Yasmine's chains and allows her to escape.\n",
      "neutral 0.8432667851448059\n",
      "When the captors discover Yasmine's escape, the father of the family, von Geisler, cut Alex's achilles tendons.\n",
      "disgust 0.4962734878063202\n",
      "Meanwhile in the mine, Farid finds the storage area for the victims.\n",
      "disgust 0.5137590169906616\n",
      "The family realizes something is amiss in the mine, and Hans chases Farid into a boiler where Farid is cooked alive.\n",
      "anger 0.4466092586517334\n",
      "Yasmine flees from the inn but is quickly picked back up by Goetz.\n",
      "neutral 0.8044087886810303\n",
      "Back in the pig pen, von Geisler personally grants Alex's last wish, which is to be put down quickly.\n",
      "neutral 0.8976669907569885\n",
      "Initially, von Geisler wishes for Karl to \"wed\" Yasmine to carry on the family lineage, but when von Geisler learns she is already pregnant, he entrusts her to the meek Eva.\n",
      "disgust 0.41201305389404297\n",
      "Eva tells Yasmine that she came to the family in a very similar manner and that she is obedient because the family promised her that her parents would return for her some day.\n",
      "neutral 0.8497979640960693\n",
      "Eva also tells Yasmine of the rejected children she and Hans care for in the mine.\n",
      "sadness 0.9079031944274902\n",
      "Eventually, Eva leads Yasmine down to dinner, where the family awaits her.\n",
      "neutral 0.7219197750091553\n",
      "Von Geisler is revealed to be a former  Nazi.\n",
      "disgust 0.7027312517166138\n",
      "Von Geisler offers up a toast to the new blood and Yasmine quickly grabs a large knife and takes von Geisler hostage.\n",
      "anger 0.4775513708591461\n",
      "Hans grabs a shotgun and shoots and kills von Geisler in the confusion; Karl shoots Hans dead in turn.\n",
      "anger 0.7548298835754395\n",
      "Yasmine escapes and is chased by Karl and Goetz into the mine.\n",
      "fear 0.7059817910194397\n",
      "Yasmine eventually makes her way into one of the body storage rooms where she fights with Goetz.\n",
      "neutral 0.8064357042312622\n",
      "After a bloody struggle, she repeatedly hits him with an axe before impaling him on a rotating table saw.\n",
      "anger 0.808818519115448\n",
      "Karl catches Yasmine as she tries to return to the surface, but Eva comes to the rescue, blowing off Karl's head.\n",
      "anger 0.7905834913253784\n",
      "Yasmine searches for car keys, but is ambushed by Gilberte and Klaudia.\n",
      "fear 0.9642940759658813\n",
      "During the shootout, Yasmine hits a gas tank, blowing up the room.\n",
      "anger 0.4876863360404968\n",
      "Gilberte survives the explosion and attempts to kill Yasmine only to have her throat torn out by her.\n",
      "sadness 0.3463485538959503\n",
      "With everyone else dead, Yasmine tries to persuade Eva to leave with her, but Eva stays to take care of the children in the mine.\n",
      "anger 0.5231538414955139\n",
      "On the road, Yasmine runs into a police blockade where she surrenders to the authorities.\n",
      "fear 0.8500204682350159\n"
     ]
    }
   ],
   "source": [
    "# Second possibility: sentence to sentence emotion classification\n",
    "\n",
    "#the emotions are anger, fear, joy, love, sadness, surprise and neutral\n",
    "\n",
    "classifier = pipeline(\"text-classification\", model=\"j-hartmann/emotion-english-distilroberta-base\", return_all_scores=True)\n",
    "\n",
    "for t in df_test_clean['summary'].sample(1):\n",
    "    for sentence in nltk.sent_tokenize(t):\n",
    "        print(sentence)\n",
    "        out = classifier(sentence)[0]\n",
    "        best_emotion_dict = max(out, key=lambda x: x['score'])\n",
    "        best_label = best_emotion_dict['label']\n",
    "        best_score = best_emotion_dict['score']\n",
    "        print(best_label, best_score)    "
   ]
  },
  {
   "cell_type": "code",
   "execution_count": null,
   "metadata": {},
   "outputs": [],
   "source": []
  },
  {
   "cell_type": "code",
   "execution_count": null,
   "metadata": {},
   "outputs": [],
   "source": []
  }
 ],
 "metadata": {
  "kernelspec": {
   "display_name": "Python (ada)",
   "language": "python",
   "name": "ada"
  },
  "language_info": {
   "codemirror_mode": {
    "name": "ipython",
    "version": 3
   },
   "file_extension": ".py",
   "mimetype": "text/x-python",
   "name": "python",
   "nbconvert_exporter": "python",
   "pygments_lexer": "ipython3",
   "version": "3.11.9"
  }
 },
 "nbformat": 4,
 "nbformat_minor": 2
}

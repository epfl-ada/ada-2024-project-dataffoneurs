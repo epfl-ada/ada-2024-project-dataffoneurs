{
 "cells": [
  {
   "cell_type": "markdown",
   "metadata": {},
   "source": [
    "# First data exploration"
   ]
  },
  {
   "cell_type": "markdown",
   "metadata": {},
   "source": [
    "### Extracting and cleaning plot summaries "
   ]
  },
  {
   "cell_type": "code",
   "execution_count": 15,
   "metadata": {},
   "outputs": [
    {
     "name": "stderr",
     "output_type": "stream",
     "text": [
      "[nltk_data] Downloading package punkt to\n",
      "[nltk_data]     C:\\Users\\march\\AppData\\Roaming\\nltk_data...\n",
      "[nltk_data]   Package punkt is already up-to-date!\n",
      "[nltk_data] Downloading package punkt_tab to\n",
      "[nltk_data]     C:\\Users\\march\\AppData\\Roaming\\nltk_data...\n",
      "[nltk_data]   Package punkt_tab is already up-to-date!\n"
     ]
    }
   ],
   "source": [
    "import pandas as pd\n",
    "import numpy as np\n",
    "import matplotlib.pyplot as plt\n",
    "import seaborn as sns\n",
    "import re\n",
    "\n",
    "from transformers import AutoModelForSequenceClassification\n",
    "from transformers import TFAutoModelForSequenceClassification\n",
    "from transformers import AutoTokenizer, AutoConfig\n",
    "from transformers import pipeline\n",
    "import numpy as np\n",
    "from scipy.special import softmax\n",
    "\n",
    "\n",
    "import nltk\n",
    "nltk.download('punkt')\n",
    "nltk.download('punkt_tab')\n",
    "\n",
    "#Setting pandas display options\n",
    "pd.set_option(\"max_colwidth\", None)\n",
    "\n",
    "\n",
    "#Src folder path\n",
    "src_folder = 'src/data/'"
   ]
  },
  {
   "cell_type": "code",
   "execution_count": 9,
   "metadata": {},
   "outputs": [
    {
     "data": {
      "text/html": [
       "<div>\n",
       "<style scoped>\n",
       "    .dataframe tbody tr th:only-of-type {\n",
       "        vertical-align: middle;\n",
       "    }\n",
       "\n",
       "    .dataframe tbody tr th {\n",
       "        vertical-align: top;\n",
       "    }\n",
       "\n",
       "    .dataframe thead th {\n",
       "        text-align: right;\n",
       "    }\n",
       "</style>\n",
       "<table border=\"1\" class=\"dataframe\">\n",
       "  <thead>\n",
       "    <tr style=\"text-align: right;\">\n",
       "      <th></th>\n",
       "      <th>id</th>\n",
       "      <th>summary</th>\n",
       "    </tr>\n",
       "  </thead>\n",
       "  <tbody>\n",
       "    <tr>\n",
       "      <th>12594</th>\n",
       "      <td>3195590</td>\n",
       "      <td>The story is on the concept of karma and bad deeds. It follows Viren Sahai , underworld don who rules over India. His son Abhir  is spoilt and believes he can do anything due to his father's power. When Viren's enemy Khan  attacks Abhir, Viren demands revenge. The plot then moves onto the life of a simple cook, Shekhar Bhatia  who is married to Dr. Kavita . Shekhar lives with his parents, wife and his adorable younger brother Aryan , who is just as spoilt as Abhir. When Aryan runs away from home, Shekhar searches the whole city to find him. During his search, he witnesses Viren attacking a cinema theater as Khan is inside it, and Shekhar begins to help the innocent people who are being shot in the theater. He helps them out to the hospital, and as Viren sees him helping the people, he believes Shekhar is part of Khan's gang, and Viren shoots Shekhar however he survives. Viren also shoots Khan's nephew, and as Khan escapes, Viren also flees. As Shekhar, who is in critical condition, is trying to reach home to his family before he dies, he is run over by Viren's car accidentally and Shekhar dies. When Aryan arrives home, he realizes Viren has murdered Shekhar, and he loses his temper. Together, Aryan and his group of friends form a gang and kidnap Viren's family including Abhir. However, Abhir escapes and reaches to his father. Since the police decide to help Viren, Aryan's plan fails. Aryan tries not to do harm to any of his family member as he knows how precious they are, though Viren's wife suddenly dies of suffercation. Viren believes Aryan is responsible for this, and takes his whole gang, and starts a huge war with Aryan and his gang. The war breaks out, and Khan enters. As Viren murders Khan, he realizes that his son Abhir was part of Khan's gang all along. Abhir tries to shoot his father Viren, but Aryan rescues Viren and kills Abhir. He leaves the scene, and as Viren demands Aryan to kill him now, Aryan ends the film on a note on karma, and explains his punishment is not death, but life as he has nothing to live for. In the end, Aryan becomes a cook like his late brother and him and his friends start to work in the same canteen Shekhar used to work in.</td>\n",
       "    </tr>\n",
       "    <tr>\n",
       "      <th>15078</th>\n",
       "      <td>4018828</td>\n",
       "      <td>Bob Munro , a successful California beverage company executive, is struggling with a dysfunctional family, with his materialistic wife Jamie , his spoiled, sharp-tongued teenage daughter Cassie ([[JoJo , and young son Carl  an adolescent weightlifter who likes Hip hop. At a company picnic, Bob is embarrassed in front of his self-absorbed boss Todd  by Cassie's militant friend Gretchen, who hurls a tub of disgusting slime over Todd. Looking forward to a big family vacation in Hawaii, Bob is punished by Todd by having to present a merger proposal to the grassroots Alpine Soda company in Boulder, Colorado instead. Concealing the real reason for going to Boulder, Bob rents an RV from the dodgy dealer Irv  and tells his family they are traveling to the Rockies. On their trip, Bob and his family encounter many mishaps. These include Bob damaging the parking brake, crashing into and running over objects such as shopping carts, flushing out a trio of raccoons with a stink bomb, and fixing a clogged sewage system. Along the way, the Munros meet another traveling family, the Gornickes, consisting of Travis , Mary Jo , and their sons and daughter, Earl , Billy \"Not Earl\" , and Moon . Earl develops a romantic interest in Cassie and Carl starts to like Moon, but thinking that the Gornickes are too strange for them, the adult Munros decide to ditch them; when the Gornickes reappear at another stop, the Munros believe they are stalking them. Meanwhile, to disguise his business trip, Bob tries to e-mail a proposal outline from his laptop, working in restrooms; eventually, a hitchhiker steals Bob's laptop, leaving him with only a BlackBerry PDA, which he does manage to use to compose and wirelessly send his proposal to his company. The Gornickes then recover the stolen laptop after picking up the same hitchhiker, and pursue the Munros to return it. Eventually the entire family begins to enjoy their vacation. In order to attend the merger meeting, though, Bob distracts his family by feigning illness and sends them on a hike. The meeting with Alpine Soda is a success, but Bob is invited to talk to the whole company again the next day. Rushing back to his family in the RV, Bob takes a treacherous 4 wheel drive trail, and gets the huge vehicle stuck atop a jutting boulder in the middle of the trail. . Bob eventually manages to dislodge the RV from the boulder by getting on the front of the RV and rocking it until it eventually wobbles and tips forward enough to slide down from atop the stone. Now riding on the front of the RV while it is traveling at a frenzied pace, Bob barely manages to return to his family in time, succeeding in fooling them, but while he is attempting a similar ruse the next day, the RV brakes fail again and it rolls into a lake. Bob lets it slip about the real intentions of the Colorado vacation, and his family is upset that he would use them like that. Still needing to get to the meeting, a desperate Bob retrieves one of his family's bicycles from the lake and pedals off. Jamie, Carl, and Cassie are then picked up by the Gornickes, and soon realize how well they get along, when Bob appears again, climbing atop the moving bus. After apologizing to his family, Bob is just about to blow off the meeting when it turns out he's right outside the headquarters. At the second meeting, Bob starts his speech and it goes well, but then -- Bob has an epiphany, and so he recommends against the merger, realizing that Todd's selfishness would destroy a great independent company. Carl gets angry at Todd and flips him over his shoulder, onto the ground. Moon exclaims \"My Hero!\" Bob is then fired but he quits anyway, and soon retrieves the sodden-but-still-operable RV from the lake. At the end, Bob is offered a job by the owners of Alpine Soda, who want to go national independently. As the credits roll, the two families are shown dancing and singing the song, \"Route 66\" .</td>\n",
       "    </tr>\n",
       "  </tbody>\n",
       "</table>\n",
       "</div>"
      ],
      "text/plain": [
       "            id  \\\n",
       "12594  3195590   \n",
       "15078  4018828   \n",
       "\n",
       "                                                                                                                                                                                                                                                                                                                                                                                                                                                                                                                                                                                                                                                                                                                                                                                                                                                                                                                                                                                                                                                                                                                                                                                                                                                                                                                                                                                                                                                                                                                                                                                                                                                                                                                                                                                                                                                                                                                                                                                                                                                                                                                                                                                                                                                                                                                                                                                                                                                                                                                                                                                                                                                                                                                                                                                                                                                                                                                                                                                                                                                                                                                                                                                                                                                                                                                                                                                                                                                                                                                                                                                                                                                                                                                                                                                                                                                                                                                                                                                                                                                                                       summary  \n",
       "12594                                                                                                                                                                                                                                                                                                                                                                                                                                                                                                                                                                                                                                                                                                                                                                                                                                                                                                                                                                                                                                                                                                                                                                                                                                                                                                                                                                                                                                                                                                                                                                                                                                                                                                                                                                                                    The story is on the concept of karma and bad deeds. It follows Viren Sahai , underworld don who rules over India. His son Abhir  is spoilt and believes he can do anything due to his father's power. When Viren's enemy Khan  attacks Abhir, Viren demands revenge. The plot then moves onto the life of a simple cook, Shekhar Bhatia  who is married to Dr. Kavita . Shekhar lives with his parents, wife and his adorable younger brother Aryan , who is just as spoilt as Abhir. When Aryan runs away from home, Shekhar searches the whole city to find him. During his search, he witnesses Viren attacking a cinema theater as Khan is inside it, and Shekhar begins to help the innocent people who are being shot in the theater. He helps them out to the hospital, and as Viren sees him helping the people, he believes Shekhar is part of Khan's gang, and Viren shoots Shekhar however he survives. Viren also shoots Khan's nephew, and as Khan escapes, Viren also flees. As Shekhar, who is in critical condition, is trying to reach home to his family before he dies, he is run over by Viren's car accidentally and Shekhar dies. When Aryan arrives home, he realizes Viren has murdered Shekhar, and he loses his temper. Together, Aryan and his group of friends form a gang and kidnap Viren's family including Abhir. However, Abhir escapes and reaches to his father. Since the police decide to help Viren, Aryan's plan fails. Aryan tries not to do harm to any of his family member as he knows how precious they are, though Viren's wife suddenly dies of suffercation. Viren believes Aryan is responsible for this, and takes his whole gang, and starts a huge war with Aryan and his gang. The war breaks out, and Khan enters. As Viren murders Khan, he realizes that his son Abhir was part of Khan's gang all along. Abhir tries to shoot his father Viren, but Aryan rescues Viren and kills Abhir. He leaves the scene, and as Viren demands Aryan to kill him now, Aryan ends the film on a note on karma, and explains his punishment is not death, but life as he has nothing to live for. In the end, Aryan becomes a cook like his late brother and him and his friends start to work in the same canteen Shekhar used to work in.  \n",
       "15078  Bob Munro , a successful California beverage company executive, is struggling with a dysfunctional family, with his materialistic wife Jamie , his spoiled, sharp-tongued teenage daughter Cassie ([[JoJo , and young son Carl  an adolescent weightlifter who likes Hip hop. At a company picnic, Bob is embarrassed in front of his self-absorbed boss Todd  by Cassie's militant friend Gretchen, who hurls a tub of disgusting slime over Todd. Looking forward to a big family vacation in Hawaii, Bob is punished by Todd by having to present a merger proposal to the grassroots Alpine Soda company in Boulder, Colorado instead. Concealing the real reason for going to Boulder, Bob rents an RV from the dodgy dealer Irv  and tells his family they are traveling to the Rockies. On their trip, Bob and his family encounter many mishaps. These include Bob damaging the parking brake, crashing into and running over objects such as shopping carts, flushing out a trio of raccoons with a stink bomb, and fixing a clogged sewage system. Along the way, the Munros meet another traveling family, the Gornickes, consisting of Travis , Mary Jo , and their sons and daughter, Earl , Billy \"Not Earl\" , and Moon . Earl develops a romantic interest in Cassie and Carl starts to like Moon, but thinking that the Gornickes are too strange for them, the adult Munros decide to ditch them; when the Gornickes reappear at another stop, the Munros believe they are stalking them. Meanwhile, to disguise his business trip, Bob tries to e-mail a proposal outline from his laptop, working in restrooms; eventually, a hitchhiker steals Bob's laptop, leaving him with only a BlackBerry PDA, which he does manage to use to compose and wirelessly send his proposal to his company. The Gornickes then recover the stolen laptop after picking up the same hitchhiker, and pursue the Munros to return it. Eventually the entire family begins to enjoy their vacation. In order to attend the merger meeting, though, Bob distracts his family by feigning illness and sends them on a hike. The meeting with Alpine Soda is a success, but Bob is invited to talk to the whole company again the next day. Rushing back to his family in the RV, Bob takes a treacherous 4 wheel drive trail, and gets the huge vehicle stuck atop a jutting boulder in the middle of the trail. . Bob eventually manages to dislodge the RV from the boulder by getting on the front of the RV and rocking it until it eventually wobbles and tips forward enough to slide down from atop the stone. Now riding on the front of the RV while it is traveling at a frenzied pace, Bob barely manages to return to his family in time, succeeding in fooling them, but while he is attempting a similar ruse the next day, the RV brakes fail again and it rolls into a lake. Bob lets it slip about the real intentions of the Colorado vacation, and his family is upset that he would use them like that. Still needing to get to the meeting, a desperate Bob retrieves one of his family's bicycles from the lake and pedals off. Jamie, Carl, and Cassie are then picked up by the Gornickes, and soon realize how well they get along, when Bob appears again, climbing atop the moving bus. After apologizing to his family, Bob is just about to blow off the meeting when it turns out he's right outside the headquarters. At the second meeting, Bob starts his speech and it goes well, but then -- Bob has an epiphany, and so he recommends against the merger, realizing that Todd's selfishness would destroy a great independent company. Carl gets angry at Todd and flips him over his shoulder, onto the ground. Moon exclaims \"My Hero!\" Bob is then fired but he quits anyway, and soon retrieves the sodden-but-still-operable RV from the lake. At the end, Bob is offered a job by the owners of Alpine Soda, who want to go national independently. As the credits roll, the two families are shown dancing and singing the song, \"Route 66\" .  "
      ]
     },
     "execution_count": 9,
     "metadata": {},
     "output_type": "execute_result"
    }
   ],
   "source": [
    "df_plot_summaries = pd.read_csv(src_folder + 'plot_summaries.txt', sep='\\t', header=None,  names=['id', 'summary'])\n",
    "df_plot_summaries.sample(2)"
   ]
  },
  {
   "cell_type": "markdown",
   "metadata": {},
   "source": [
    "Some cleaning is necessary for the plot summaries. There appears to be in the data:\n",
    "\n",
    "1) {{annotation}}\n",
    "2) links (references to wikipedia)\n",
    "3) <> html delimiters\n",
    "4) ... further inspection needed\n",
    "\n",
    "That need to be removed\n"
   ]
  },
  {
   "cell_type": "code",
   "execution_count": 10,
   "metadata": {},
   "outputs": [],
   "source": [
    "def clean_plot(txt):\n",
    "\n",
    "    #Remove URLs\n",
    "    txt = re.sub(r\"http\\S+|www\\.\\S+\", '', txt)\n",
    "\n",
    "    #Remove HTML tags\n",
    "    txt = re.sub(r'<.*?>', '', txt)\n",
    "\n",
    "    #Remove {{annotations}}\n",
    "    txt = re.sub(r'\\{\\{.*?\\}\\}', '', txt)\n",
    "\n",
    "    #Remove the ([[ annotation that is never closed\n",
    "    txt = re.sub(r'\\(\\[\\[', '', txt)\n",
    "\n",
    "    #Remove the synopsis from context\n",
    "    txt = re.sub(r'Synopsis from', '', txt)\n",
    "\n",
    "    #Remove <ref...}} tags\n",
    "    txt = re.sub(r'<ref[^}]*}}', '', txt)\n",
    "\n",
    "    return txt"
   ]
  },
  {
   "cell_type": "code",
   "execution_count": 5,
   "metadata": {},
   "outputs": [
    {
     "data": {
      "text/html": [
       "<div>\n",
       "<style scoped>\n",
       "    .dataframe tbody tr th:only-of-type {\n",
       "        vertical-align: middle;\n",
       "    }\n",
       "\n",
       "    .dataframe tbody tr th {\n",
       "        vertical-align: top;\n",
       "    }\n",
       "\n",
       "    .dataframe thead th {\n",
       "        text-align: right;\n",
       "    }\n",
       "</style>\n",
       "<table border=\"1\" class=\"dataframe\">\n",
       "  <thead>\n",
       "    <tr style=\"text-align: right;\">\n",
       "      <th></th>\n",
       "      <th>id</th>\n",
       "      <th>summary</th>\n",
       "    </tr>\n",
       "  </thead>\n",
       "  <tbody>\n",
       "    <tr>\n",
       "      <th>9885</th>\n",
       "      <td>27768311</td>\n",
       "      <td>Hanae and Chōko are two hard-working sisters living in the countryside with their father. Hanae runs a snack shop and Chōko works in a hair salon. Teruhiko, Hanae's first boyfriend from high school who now works for a large company in Tokyo, visits the snack shop one day. They become reacquainted and Teruhiko wishes to marry Hanae. Romantic complications ensue when he meets Chōko.</td>\n",
       "    </tr>\n",
       "    <tr>\n",
       "      <th>39947</th>\n",
       "      <td>17038281</td>\n",
       "      <td>The film follows a young woman, Wu Hongyan Liu Dan , who works as a prison guard who aids in the execution of female prisoners. Lonely and widowed, Wu finds herself taking the night train to a dating service in a neighboring city. After a series of unsuccessful dates, she meets Li Jun Qi Dao , with whom she begins a relationship. It soon becomes clear that Li Jun is hiding a secret: that he is the widower of one of Wu's executed prisoners. Li Jun is torn both by his attraction to Wu, but also his desire to exact some sort of vengeance. Wu, meanwhile, must consider her own safety in this new volatile relationship.</td>\n",
       "    </tr>\n",
       "  </tbody>\n",
       "</table>\n",
       "</div>"
      ],
      "text/plain": [
       "             id  \\\n",
       "9885   27768311   \n",
       "39947  17038281   \n",
       "\n",
       "                                                                                                                                                                                                                                                                                                                                                                                                                                                                                                                                                                                                                                            summary  \n",
       "9885                                                                                                                                                                                                                                                Hanae and Chōko are two hard-working sisters living in the countryside with their father. Hanae runs a snack shop and Chōko works in a hair salon. Teruhiko, Hanae's first boyfriend from high school who now works for a large company in Tokyo, visits the snack shop one day. They become reacquainted and Teruhiko wishes to marry Hanae. Romantic complications ensue when he meets Chōko.  \n",
       "39947  The film follows a young woman, Wu Hongyan Liu Dan , who works as a prison guard who aids in the execution of female prisoners. Lonely and widowed, Wu finds herself taking the night train to a dating service in a neighboring city. After a series of unsuccessful dates, she meets Li Jun Qi Dao , with whom she begins a relationship. It soon becomes clear that Li Jun is hiding a secret: that he is the widower of one of Wu's executed prisoners. Li Jun is torn both by his attraction to Wu, but also his desire to exact some sort of vengeance. Wu, meanwhile, must consider her own safety in this new volatile relationship.  "
      ]
     },
     "execution_count": 5,
     "metadata": {},
     "output_type": "execute_result"
    }
   ],
   "source": [
    "df_test_clean = df_plot_summaries.copy()\n",
    "df_test_clean[\"summary\"] = df_plot_summaries['summary'].apply(clean_plot)\n",
    "df_test_clean.sample(2)"
   ]
  },
  {
   "cell_type": "markdown",
   "metadata": {},
   "source": [
    "#### Sentiment analysis test"
   ]
  },
  {
   "cell_type": "markdown",
   "metadata": {},
   "source": [
    "I see two possibilities: making classical sentiment analysis using twitter-roberta-base-sentiment trained on tweets or using distilbert-base-uncased-emotions for emotions"
   ]
  },
  {
   "cell_type": "code",
   "execution_count": null,
   "metadata": {},
   "outputs": [
    {
     "name": "stderr",
     "output_type": "stream",
     "text": [
      "Some weights of the model checkpoint at cardiffnlp/twitter-roberta-base-sentiment-latest were not used when initializing RobertaForSequenceClassification: ['roberta.pooler.dense.bias', 'roberta.pooler.dense.weight']\n",
      "- This IS expected if you are initializing RobertaForSequenceClassification from the checkpoint of a model trained on another task or with another architecture (e.g. initializing a BertForSequenceClassification model from a BertForPreTraining model).\n",
      "- This IS NOT expected if you are initializing RobertaForSequenceClassification from the checkpoint of a model that you expect to be exactly identical (initializing a BertForSequenceClassification model from a BertForSequenceClassification model).\n"
     ]
    },
    {
     "name": "stdout",
     "output_type": "stream",
     "text": [
      "A senator's grandson is murdered while incarcerated at California's notorious \"Doscher State Prison\", nicknamed \"Dachau\" by convicts for the number of unsolved murders of inmates that have taken place therein.\n",
      "negative 0.78488505\n",
      "Hired by the senator, Gulf War veteran John Woodrow  infiltrates the prison to find the murderer, and learns that the grandson was killed by corrupt head guard Lt. Hopkins .\n",
      "negative 0.5758992\n",
      "When Hopkins discovers Woodrow's true identity, he has him tortured by inamates and guards.\n",
      "neutral 0.595048\n",
      "After an arduous shooting chase through the desert, Woodrow escapes.\n",
      "neutral 0.74044\n"
     ]
    }
   ],
   "source": [
    "#First possibility: sentence by sentence sentiment classification\n",
    "\n",
    "MODEL = f\"cardiffnlp/twitter-roberta-base-sentiment-latest\"\n",
    "tokenizer = AutoTokenizer.from_pretrained(MODEL)\n",
    "config = AutoConfig.from_pretrained(MODEL)\n",
    "model = AutoModelForSequenceClassification.from_pretrained(MODEL)\n",
    "\n",
    "\n",
    "\n",
    "dict_labels = {0: 'negative', 1: 'neutral', 2: 'positive'}\n",
    "for t in df_test_clean['summary'].sample(1):\n",
    "    for sentence in nltk.sent_tokenize(t):\n",
    "        print(sentence)\n",
    "        t_encoded = tokenizer(sentence, return_tensors='pt')\n",
    "        t_output = model(**t_encoded)\n",
    "        t_scores = softmax(t_output.logits.detach().numpy(), axis=1)\n",
    "        t_predicted = np.argmax(t_scores)\n",
    "        print(dict_labels[t_predicted], t_scores[0][t_predicted])\n",
    "    "
   ]
  },
  {
   "cell_type": "code",
   "execution_count": null,
   "metadata": {},
   "outputs": [
    {
     "name": "stdout",
     "output_type": "stream",
     "text": [
      "The story is about a lawsuit concerning injuries caused by a defective automobile.\n",
      "neutral 0.6862418055534363\n",
      "The suit takes on a personal dimension because the injured plaintiff's attorney, Jedediah Tucker Ward  discovers that the automobile manufacturer's attorney Maggie Ward  is his estranged daughter.\n",
      "sadness 0.7743082046508789\n",
      "The central premise of the film is roughly analogous to the controversy surrounding the Ford Pinto.\n",
      "neutral 0.7334937453269958\n",
      "Jedediah Ward is a liberal civil rights lawyer who has based his career on helping people avoid being taken for a ride by the rich and powerful; he's pursued principle at the expense of profit, though he has a bad habit of not following up on his clients after their cases are settled.\n",
      "neutral 0.6313906908035278\n",
      "Jed's daughter, Maggie, has had a bad relationship with her father ever since she discovered that he was cheating on her mother, Estelle , and while she also has made a career in law, she has taken a very different professional route by working for a high-powered corporate law firm and has adopted a conservative political agenda.\n",
      "neutral 0.5859901309013367\n",
      "Jed is hired to help field a lawsuit against a major auto manufacturer whose station wagons have a dangerous propensity to explode on impact while making a left turn, but while his research indicates he has an all but airtight case against them, the case becomes more complicated for him when he discovers that Maggie is representing the firm he's suing.\n",
      "anger 0.4735300838947296\n",
      "The auto manufacturer in the film also utilizes a \"bean-counting\" approach to risk management, whereby the projections of actuaries for probable deaths and injured car-owners is weighed against the cost of re-tooling and re-manufacturing the car without the defect  with the resulting decision to keep the car as-is to positively benefit short term profitability.\n",
      "neutral 0.9211194515228271\n"
     ]
    }
   ],
   "source": [
    "# Second possibility: sentence to sentence emotion classification\n",
    "\n",
    "#the emotions are anger, fear, joy, love, sadness, surprise and neutral\n",
    "\n",
    "classifier = pipeline(\"text-classification\", model=\"j-hartmann/emotion-english-distilroberta-base\", return_all_scores=True)\n",
    "\n",
    "for t in df_test_clean['summary'].sample(1):\n",
    "    for sentence in nltk.sent_tokenize(t):\n",
    "        print(sentence)\n",
    "        out = classifier(sentence)[0]\n",
    "        best_emotion_dict = max(out, key=lambda x: x['score'])\n",
    "        best_label = best_emotion_dict['label']\n",
    "        best_score = best_emotion_dict['score']\n",
    "        print(best_label, best_score)    "
   ]
  }
 ],
 "metadata": {
  "kernelspec": {
   "display_name": "ada",
   "language": "python",
   "name": "python3"
  },
  "language_info": {
   "codemirror_mode": {
    "name": "ipython",
    "version": 3
   },
   "file_extension": ".py",
   "mimetype": "text/x-python",
   "name": "python",
   "nbconvert_exporter": "python",
   "pygments_lexer": "ipython3",
   "version": "3.11.9"
  }
 },
 "nbformat": 4,
 "nbformat_minor": 2
}

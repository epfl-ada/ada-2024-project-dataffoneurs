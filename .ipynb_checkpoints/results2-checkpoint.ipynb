{
 "cells": [
  {
   "cell_type": "markdown",
   "metadata": {},
   "source": [
    "# Key Findings from Our Preliminary Analysis"
   ]
  },
  {
   "cell_type": "markdown",
   "metadata": {},
   "source": [
    "### What’s in the data?"
   ]
  },
  {
   "cell_type": "markdown",
   "metadata": {},
   "source": [
    "Let's take a look at the percentage of missing data"
   ]
  },
  {
   "cell_type": "markdown",
   "metadata": {},
   "source": [
    "<img src=\"src/scripts/plots/movie_exploration/Percentage_of_Missing_Data_for_Movie_Characteristics.png\" alt=\"box off per cat\" width=\"700\">"
   ]
  },
  {
   "cell_type": "markdown",
   "metadata": {},
   "source": [
    "<img src=\"src/scripts/plots/actor_exploration/Percentage_of_Missing_Data_for_Actor_Characteristics.png\" alt=\"box off per cat\" width=\"700\">\n"
   ]
  },
  {
   "cell_type": "markdown",
   "metadata": {},
   "source": [
    "# Parler du scrapping ? "
   ]
  },
  {
   "cell_type": "markdown",
   "metadata": {},
   "source": [
    "What's the format of the summaries ? "
   ]
  },
  {
   "cell_type": "markdown",
   "metadata": {},
   "source": [
    "<img src=\"src/scripts/plots/movie_exploration/Distribution_of_the_summary_that_have_length_inf_to_5000_and_1000.png\" alt=\"box off per cat\" width=\"900\">"
   ]
  },
  {
   "cell_type": "markdown",
   "metadata": {},
   "source": [
    "What's the distribution of movies and genres by continent ? "
   ]
  },
  {
   "cell_type": "markdown",
   "metadata": {},
   "source": [
    "<img src=\"src/scripts/plots/movie_exploration/Distribution_of_Movies_by_Continent.png\" alt=\"box off per cat\" width=\"500\">"
   ]
  },
  {
   "cell_type": "markdown",
   "metadata": {},
   "source": [
    "<img src=\"src/scripts/plots/movie_exploration/Distribution_of_Movies_genres.png\" alt=\"box off per cat\" width=\"500\">"
   ]
  },
  {
   "cell_type": "markdown",
   "metadata": {},
   "source": [
    "<img src=\"src/scripts/plots/movie_exploration/distribution_of_film_per_continent.png\" alt=\"box off per cat\" width=\"1000\">"
   ]
  },
  {
   "cell_type": "markdown",
   "metadata": {},
   "source": [
    "Is there a correlation between box office and movie release date?"
   ]
  },
  {
   "cell_type": "markdown",
   "metadata": {},
   "source": [
    "<img src=\"src/scripts/plots/movie_exploration/Number_of_Movies_per_Decade.png\" alt=\"box off per cat\" width=\"700\">"
   ]
  },
  {
   "cell_type": "markdown",
   "metadata": {},
   "source": [
    "<img src=\"src/scripts/plots/movie_exploration/Mean_Box_Office_Earnings_by_Decade.png\" alt=\"box off per cat\" width=\"700\">"
   ]
  },
  {
   "cell_type": "markdown",
   "metadata": {},
   "source": [
    "<img src=\"src/scripts/plots/movie_exploration/Box_Office_Revenue_by_Movie_Category_by_Continent.png\" alt=\"box off per cat\" width=\"1000\">"
   ]
  },
  {
   "cell_type": "markdown",
   "metadata": {},
   "source": [
    "What's the distribution of gender proportion across time ? "
   ]
  },
  {
   "cell_type": "markdown",
   "metadata": {},
   "source": [
    "<img src=\"src/scripts/plots/actor_exploration/Gender_Proportion_Across_Decades_by_Continent.png\" alt=\"box off per cat\" width=\"1000\">"
   ]
  },
  {
   "cell_type": "markdown",
   "metadata": {},
   "source": [
    "### Sentiment analysis"
   ]
  },
  {
   "cell_type": "markdown",
   "metadata": {},
   "source": [
    "How do emotions progress over the course of a movie? "
   ]
  },
  {
   "cell_type": "markdown",
   "metadata": {},
   "source": [
    "<img src=\"src\\scripts\\plots\\sentiment_analysis\\Normalized_Average_Evolution_of_Emotions_Across_Timesteps_for_All_Movies.png\" alt=\"box off per cat\" width=\"1400\">"
   ]
  },
  {
   "cell_type": "markdown",
   "metadata": {},
   "source": [
    "Now, let's take a closer look at each emotion."
   ]
  },
  {
   "cell_type": "markdown",
   "metadata": {},
   "source": [
    "<img src=\"src\\scripts\\plots\\sentiment_analysis\\Normalized_Evolution_of_Anger_across_Timesteps_for_Each_Genre.png\" alt=\"box off per cat\" width=\"850\">"
   ]
  },
  {
   "cell_type": "markdown",
   "metadata": {},
   "source": [
    "<img src=\"src\\scripts\\plots\\sentiment_analysis\\Normalized_Evolution_of_Disgust_across_Timesteps_for_Each_Genre.png\" alt=\"box off per cat\" width=\"850\">"
   ]
  },
  {
   "cell_type": "markdown",
   "metadata": {},
   "source": [
    "<img src=\"src\\scripts\\plots\\sentiment_analysis\\Normalized_Evolution_of_Fear_across_Timesteps_for_Each_Genre.png\" alt=\"box off per cat\" width=\"850\">"
   ]
  },
  {
   "cell_type": "markdown",
   "metadata": {},
   "source": [
    "<img src=\"src\\scripts\\plots\\sentiment_analysis\\Normalized_Evolution_of_Sadness_across_Timesteps_for_Each_Genre.png\" alt=\"box off per cat\" width=\"850\">"
   ]
  },
  {
   "cell_type": "markdown",
   "metadata": {},
   "source": [
    "<img src=\"src\\scripts\\plots\\sentiment_analysis\\Normalized_Evolution_of_Joy_across_Timesteps_for_Each_Genre.png\" alt=\"box off per cat\" width=\"850\">"
   ]
  },
  {
   "cell_type": "markdown",
   "metadata": {},
   "source": [
    "<img src=\"src\\scripts\\plots\\sentiment_analysis\\Normalized_Evolution_of_Surprise_across_Timesteps_for_Each_Genre.png\" alt=\"box off per cat\" width=\"850\">"
   ]
  },
  {
   "cell_type": "markdown",
   "metadata": {},
   "source": [
    "<img src=\"src\\scripts\\plots\\sentiment_analysis\\Normalized_Evolution_of_Neutral_across_Timesteps_for_Each_Genre.png\" alt=\"box off per cat\" width=\"850\">"
   ]
  },
  {
   "cell_type": "markdown",
   "metadata": {},
   "source": [
    "Does it differ across continents?"
   ]
  },
  {
   "cell_type": "markdown",
   "metadata": {},
   "source": [
    "<img src=\"src\\scripts\\plots\\sentiment_analysis\\Normalized_Evolution_of_Emotions_across_Timesteps_in_Oceania.png\" alt=\"box off per cat\" width=\"1600\">"
   ]
  },
  {
   "cell_type": "markdown",
   "metadata": {},
   "source": [
    "<img src=\"src\\scripts\\plots\\sentiment_analysis\\Normalized_Evolution_of_Emotions_across_Timesteps_in_South_America.png\" alt=\"box off per cat\" width=\"1600\">"
   ]
  },
  {
   "cell_type": "markdown",
   "metadata": {},
   "source": [
    "<img src=\"src\\scripts\\plots\\sentiment_analysis\\Normalized_Evolution_of_Emotions_across_Timesteps_in_North_America.png\" alt=\"box off per cat\" width=\"1600\">"
   ]
  },
  {
   "cell_type": "markdown",
   "metadata": {},
   "source": [
    "<img src=\"src\\scripts\\plots\\sentiment_analysis\\Normalized_Evolution_of_Emotions_across_Timesteps_in_Europe.png\" alt=\"box off per cat\" width=\"1600\">"
   ]
  },
  {
   "cell_type": "markdown",
   "metadata": {},
   "source": [
    "<img src=\"src\\scripts\\plots\\sentiment_analysis\\Normalized_Evolution_of_Emotions_across_Timesteps_in_Asia.png\" alt=\"box off per cat\" width=\"1600\">"
   ]
  },
  {
   "cell_type": "markdown",
   "metadata": {},
   "source": [
    "<img src=\"src\\scripts\\plots\\sentiment_analysis\\Normalized_Evolution_of_Emotions_across_Timesteps_in_Africa.png\" alt=\"box off per cat\" width=\"1600\">"
   ]
  },
  {
   "cell_type": "markdown",
   "metadata": {},
   "source": [
    "Can we predict a movie's box office performance based on the data we have?"
   ]
  },
  {
   "cell_type": "markdown",
   "metadata": {},
   "source": [
    "<img src=\"src\\scripts\\plots\\sentiment_analysis\\box_office_prediction.png\" alt=\"box off per cat\" width=\"800\">"
   ]
  },
  {
   "cell_type": "markdown",
   "metadata": {},
   "source": [
    "<img src=\"src\\scripts\\plots\\sentiment_analysis\\Feature_Importances_from_Random_Forest.png\" alt=\"box off per cat\" width=\"800\">"
   ]
  }
 ],
 "metadata": {
  "kernelspec": {
   "display_name": "Python 3 (ipykernel)",
   "language": "python",
   "name": "python3"
  },
  "language_info": {
   "codemirror_mode": {
    "name": "ipython",
    "version": 3
   },
   "file_extension": ".py",
   "mimetype": "text/x-python",
   "name": "python",
   "nbconvert_exporter": "python",
   "pygments_lexer": "ipython3",
   "version": "3.8.10"
  }
 },
 "nbformat": 4,
 "nbformat_minor": 2
}

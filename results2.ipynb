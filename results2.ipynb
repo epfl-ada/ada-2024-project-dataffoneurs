{
 "cells": [
  {
   "cell_type": "markdown",
   "metadata": {},
   "source": [
    "# Key Findings from Our Preliminary Analysis"
   ]
  },
  {
   "cell_type": "markdown",
   "metadata": {},
   "source": [
    "This analysis dives into various aspects of cinema data, exploring questions such as the distribution of movie genres, gender representation over decades, and the emotions expressed in films."
   ]
  },
  {
   "cell_type": "markdown",
   "metadata": {},
   "source": [
    "## What’s in the data?"
   ]
  },
  {
   "cell_type": "markdown",
   "metadata": {},
   "source": [
    "### Missing values"
   ]
  },
  {
   "cell_type": "markdown",
   "metadata": {},
   "source": [
    "Let's take a look at the percentage of missing data"
   ]
  },
  {
   "cell_type": "markdown",
   "metadata": {},
   "source": [
    "<img src=\"src/scripts/plots/movie_exploration/Percentage_of_Missing_Data_for_Movie_Characteristics.png\" alt=\"box off per cat\" width=\"700\">"
   ]
  },
  {
   "cell_type": "markdown",
   "metadata": {},
   "source": [
    "<img src=\"src/scripts/plots/actor_exploration/Percentage_of_Missing_Data_for_Actor_Characteristics.png\" alt=\"box off per cat\" width=\"700\">\n"
   ]
  },
  {
   "cell_type": "markdown",
   "metadata": {},
   "source": [
    "These visualizations highlight the percentage of missing data for both movie and actor characteristics. Some key insight from these two plots is that some categories, like movie summaries or box office revenue have significant gaps that could affect our following analysis."
   ]
  },
  {
   "cell_type": "markdown",
   "metadata": {},
   "source": [
    "<img src=\"src/scripts/plots/movie_exploration/Distribution_of_the_summary_that_have_length_inf_to_5000_and_1000.png\" alt=\"box off per cat\" width=\"900\">"
   ]
  },
  {
   "cell_type": "markdown",
   "metadata": {},
   "source": [
    "Digging deeper into the plot summaries data, we can observe that a certain amount of summary have less than 200 words, we then decided to do some data scrapping.\n",
    "::: INES ///;;;::::==;;;"
   ]
  },
  {
   "cell_type": "markdown",
   "metadata": {},
   "source": [
    "### Scrapping"
   ]
  },
  {
   "cell_type": "markdown",
   "metadata": {},
   "source": [
    "INES ELLE PARLE ICI"
   ]
  },
  {
   "cell_type": "markdown",
   "metadata": {},
   "source": [
    "### Gender parity"
   ]
  },
  {
   "cell_type": "markdown",
   "metadata": {},
   "source": [
    "Does the proportion of male and female in the movie industry vary accross time and continent ? "
   ]
  },
  {
   "cell_type": "markdown",
   "metadata": {},
   "source": [
    "<img src=\"src/scripts/plots/actor_exploration/Gender_Proportion_Across_Decades_by_Continent.png\" alt=\"box off per cat\" width=\"1000\">"
   ]
  },
  {
   "cell_type": "markdown",
   "metadata": {},
   "source": [
    "\n",
    "The charts show that male characters consistently dominate across all continents and decades."
   ]
  },
  {
   "cell_type": "markdown",
   "metadata": {},
   "source": [
    "### Genres and Geographic Distribution \n",
    "\\\n",
    "Which continent contributes the most to film production?"
   ]
  },
  {
   "cell_type": "markdown",
   "metadata": {},
   "source": [
    "<img src=\"src/scripts/plots/movie_exploration/Distribution_of_Movies_by_Continent.png\" alt=\"box off per cat\" width=\"500\">"
   ]
  },
  {
   "cell_type": "markdown",
   "metadata": {},
   "source": [
    "We can see that North America is predominant in the field, followed by Europe and Asia. The other continents represent less than 5% of the film industry.\n"
   ]
  },
  {
   "cell_type": "markdown",
   "metadata": {},
   "source": [
    "Now let's take a look at the genres distribution in films."
   ]
  },
  {
   "cell_type": "markdown",
   "metadata": {},
   "source": [
    "<img src=\"src/scripts/plots/movie_exploration/Distribution_of_Movies_genres.png\" alt=\"box off per cat\" width=\"500\">"
   ]
  },
  {
   "cell_type": "markdown",
   "metadata": {},
   "source": [
    "Drama is the most common genre, accounting for the largest proportion at approximately 26%. This is followed by comedy and thriller, which hold significant but smaller shares. The distribution suggests a diverse set of genres without a single overwhelmingly dominant category, reflecting the varied preferences in cinematic storytelling."
   ]
  },
  {
   "cell_type": "markdown",
   "metadata": {},
   "source": [
    "Let's explore how the distribution of movie genres differs across continents."
   ]
  },
  {
   "cell_type": "markdown",
   "metadata": {},
   "source": [
    "<img src=\"src/scripts/plots/movie_exploration/distribution_of_film_per_continent.png\" alt=\"box off per cat\" width=\"1000\">"
   ]
  },
  {
   "cell_type": "markdown",
   "metadata": {},
   "source": [
    "The charts show drama as a dominant genre globally, with variations in preferences across continents. Comedy is more prominent in North America and Oceania, while action/adventure stands out in Asia. The \"others\" category highlights regional diversity and niche genres."
   ]
  },
  {
   "cell_type": "markdown",
   "metadata": {},
   "source": [
    "<img src=\"src/scripts/plots/movie_exploration/Number_of_Movies_per_Decade.png\" alt=\"box off per cat\" width=\"700\">\n",
    "grosse merde trop genant "
   ]
  },
  {
   "cell_type": "markdown",
   "metadata": {},
   "source": [
    "### Box office analysis "
   ]
  },
  {
   "cell_type": "markdown",
   "metadata": {},
   "source": [
    "Is there a relationship between box office earnings and the decade of movie release?"
   ]
  },
  {
   "cell_type": "markdown",
   "metadata": {},
   "source": [
    "<img src=\"src/scripts/plots/movie_exploration/Mean_Box_Office_Earnings_by_Decade.png\" alt=\"box off per cat\" width=\"700\">"
   ]
  },
  {
   "cell_type": "markdown",
   "metadata": {},
   "source": [
    "The bar chart shows a clear upward trend in average box office earnings by decade, which could partly be attributed to inflation over time. Earnings rose gradually from the 1910s to the 1960s, with a sharper increase starting in the 1970s, likely driven by advancements in technology, global market expansion, and blockbuster productions. The slight dip in the 2010s might be due to the data ending around 2015, capturing only part of the decade. This trend reflects both economic factors like inflation and the evolving scale of the film industry."
   ]
  },
  {
   "cell_type": "markdown",
   "metadata": {},
   "source": [
    "How does the box office revenue varies accross genres and continent ? (We won't be looking at Africa or South America because we don't have enough box office revenue data for these continent.) "
   ]
  },
  {
   "cell_type": "markdown",
   "metadata": {},
   "source": [
    "<img src=\"src\\scripts\\plots\\movie_exploration\\Box_Office_Revenue_by_Movie_Category_by_Continent2.png\" alt=\"box off per cat\" width=\"1000\">"
   ]
  },
  {
   "cell_type": "markdown",
   "metadata": {},
   "source": [
    "The mean box office revenue clearly varies across continents. Interestingly, some film genres achieve high box office success despite being minimally represented in the overall distribution. For instance, the Family/Animation category performs exceptionally well in Europe, even though it accounts for only 2.5% of the film distribution across continents."
   ]
  },
  {
   "cell_type": "markdown",
   "metadata": {},
   "source": [
    "## Sentiment analysis"
   ]
  },
  {
   "cell_type": "markdown",
   "metadata": {},
   "source": [
    "### methodes utilise Xavier et Mathieu <3"
   ]
  },
  {
   "cell_type": "markdown",
   "metadata": {},
   "source": [
    "### Evolution of emotions "
   ]
  },
  {
   "cell_type": "markdown",
   "metadata": {},
   "source": [
    "How do emotions progress over the course of a movie? "
   ]
  },
  {
   "cell_type": "markdown",
   "metadata": {},
   "source": [
    "<img src=\"src\\scripts\\plots\\sentiment_analysis\\Normalized_Average_Evolution_of_Emotions_Across_Timesteps_for_All_Movies.png\" alt=\"box off per cat\" width=\"1400\">"
   ]
  },
  {
   "cell_type": "markdown",
   "metadata": {},
   "source": [
    "The first graph shows the averaged evolution of emotions over the course of a movie, with neutral emotions being the most prominent and steadily increasing toward the end. Disgust, on the other hand, maintains a consistent presence throughout the movie. The second graph, which normalizes the emotions, reveals more dynamic changes, with surprise and fear peaking early on and then declining, while neutral emotions gradually dominate as the movie progresses. These trends reflect typical emotional pacing in storytelling, balancing tension and resolution."
   ]
  },
  {
   "cell_type": "markdown",
   "metadata": {},
   "source": [
    "Now, let's take a closer look at each emotion."
   ]
  },
  {
   "cell_type": "markdown",
   "metadata": {},
   "source": [
    "<img src=\"src\\scripts\\plots\\sentiment_analysis\\Normalized_Evolution_of_Anger_across_Timesteps_for_Each_Genre.png\" alt=\"box off per cat\" width=\"850\">"
   ]
  },
  {
   "cell_type": "markdown",
   "metadata": {},
   "source": [
    "<img src=\"src\\scripts\\plots\\sentiment_analysis\\Normalized_Evolution_of_Disgust_across_Timesteps_for_Each_Genre.png\" alt=\"box off per cat\" width=\"850\">"
   ]
  },
  {
   "cell_type": "markdown",
   "metadata": {},
   "source": [
    "<img src=\"src\\scripts\\plots\\sentiment_analysis\\Normalized_Evolution_of_Fear_across_Timesteps_for_Each_Genre.png\" alt=\"box off per cat\" width=\"850\">"
   ]
  },
  {
   "cell_type": "markdown",
   "metadata": {},
   "source": [
    "<img src=\"src\\scripts\\plots\\sentiment_analysis\\Normalized_Evolution_of_Sadness_across_Timesteps_for_Each_Genre.png\" alt=\"box off per cat\" width=\"850\">"
   ]
  },
  {
   "cell_type": "markdown",
   "metadata": {},
   "source": [
    "<img src=\"src\\scripts\\plots\\sentiment_analysis\\Normalized_Evolution_of_Joy_across_Timesteps_for_Each_Genre.png\" alt=\"box off per cat\" width=\"850\">"
   ]
  },
  {
   "cell_type": "markdown",
   "metadata": {},
   "source": [
    "<img src=\"src\\scripts\\plots\\sentiment_analysis\\Normalized_Evolution_of_Surprise_across_Timesteps_for_Each_Genre.png\" alt=\"box off per cat\" width=\"850\">"
   ]
  },
  {
   "cell_type": "markdown",
   "metadata": {},
   "source": [
    "<img src=\"src\\scripts\\plots\\sentiment_analysis\\Normalized_Evolution_of_Neutral_across_Timesteps_for_Each_Genre.png\" alt=\"box off per cat\" width=\"850\">"
   ]
  },
  {
   "cell_type": "markdown",
   "metadata": {},
   "source": [
    "No matter the genre, the evolution of emotions follows a similar pattern. Negative emotions like anger, fear, and disgust tend to rise during the first half of a movie, building tension, while emotions like neutrality and joy increase towards the end, reflecting narrative resolution. This consistency suggests that filmmakers across genres rely on a common emotional arc to engage audiences."
   ]
  },
  {
   "cell_type": "markdown",
   "metadata": {},
   "source": [
    "### Evolution of emotions across continents"
   ]
  },
  {
   "cell_type": "markdown",
   "metadata": {},
   "source": [
    "Does it differ across continents?"
   ]
  },
  {
   "cell_type": "markdown",
   "metadata": {},
   "source": [
    "<img src=\"src\\scripts\\plots\\sentiment_analysis\\Normalized_Evolution_of_Emotions_across_Timesteps_in_North_America.png\" alt=\"box off per cat\" width=\"1600\">"
   ]
  },
  {
   "cell_type": "markdown",
   "metadata": {},
   "source": [
    "<img src=\"src\\scripts\\plots\\sentiment_analysis\\Normalized_Evolution_of_Emotions_across_Timesteps_in_Europe.png\" alt=\"box off per cat\" width=\"1600\">"
   ]
  },
  {
   "cell_type": "markdown",
   "metadata": {},
   "source": [
    "<img src=\"src\\scripts\\plots\\sentiment_analysis\\Normalized_Evolution_of_Emotions_across_Timesteps_in_Asia.png\" alt=\"box off per cat\" width=\"1600\">"
   ]
  },
  {
   "cell_type": "markdown",
   "metadata": {},
   "source": [
    "<img src=\"src\\scripts\\plots\\sentiment_analysis\\Normalized_Evolution_of_Emotions_across_Timesteps_in_Oceania.png\" alt=\"box off per cat\" width=\"1600\">"
   ]
  },
  {
   "cell_type": "markdown",
   "metadata": {},
   "source": [
    "Across North America, Europe, Asia, and Oceania, movies follow a consistent emotional pattern: negative emotions like anger, disgust, and fear rise early to build tension, while joy and neutrality increase toward the end, signaling resolution. Sadness dips mid-story but often peaks near the conclusion, aligning with emotional climaxes. \n",
    "\n",
    "We can also observe that North America follows a fixed emotional pattern, with steady rises and falls in emotions."
   ]
  },
  {
   "cell_type": "markdown",
   "metadata": {},
   "source": [
    "<img src=\"src\\scripts\\plots\\sentiment_analysis\\Normalized_Evolution_of_Emotions_across_Timesteps_in_South_America.png\" alt=\"box off per cat\" width=\"1600\">"
   ]
  },
  {
   "cell_type": "markdown",
   "metadata": {},
   "source": [
    "<img src=\"src\\scripts\\plots\\sentiment_analysis\\Normalized_Evolution_of_Emotions_across_Timesteps_in_Africa.png\" alt=\"box off per cat\" width=\"1600\">"
   ]
  },
  {
   "cell_type": "markdown",
   "metadata": {},
   "source": [
    "We can note that the results for South America and Africa might be different from the four other continents because we lacks data for these two."
   ]
  },
  {
   "cell_type": "markdown",
   "metadata": {},
   "source": [
    "Can we predict a movie's box office performance based on the data we have?"
   ]
  },
  {
   "cell_type": "markdown",
   "metadata": {},
   "source": [
    "<img src=\"src\\scripts\\plots\\sentiment_analysis\\box_office_prediction2.png\" alt=\"box off per cat\" width=\"800\">"
   ]
  }
 ],
 "metadata": {
  "kernelspec": {
   "display_name": "ada",
   "language": "python",
   "name": "python3"
  },
  "language_info": {
   "codemirror_mode": {
    "name": "ipython",
    "version": 3
   },
   "file_extension": ".py",
   "mimetype": "text/x-python",
   "name": "python",
   "nbconvert_exporter": "python",
   "pygments_lexer": "ipython3",
   "version": "3.11.9"
  }
 },
 "nbformat": 4,
 "nbformat_minor": 2
}

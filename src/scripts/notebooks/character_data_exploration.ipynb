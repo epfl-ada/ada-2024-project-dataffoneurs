{
 "cells": [
  {
   "cell_type": "markdown",
   "metadata": {},
   "source": [
    "# Exploring character data"
   ]
  },
  {
   "cell_type": "code",
   "execution_count": 1,
   "metadata": {},
   "outputs": [],
   "source": [
    "import pandas as pd\n",
    "import numpy as np\n",
    "import matplotlib.pyplot as plt"
   ]
  },
  {
   "cell_type": "code",
   "execution_count": 2,
   "metadata": {},
   "outputs": [],
   "source": [
    "DATA_PATH = \"../../../data/our_character2_data.csv\"\n",
    "pd.set_option(\"max_colwidth\", None)"
   ]
  },
  {
   "cell_type": "code",
   "execution_count": 3,
   "metadata": {},
   "outputs": [
    {
     "name": "stdout",
     "output_type": "stream",
     "text": [
      "<class 'pandas.core.frame.DataFrame'>\n",
      "RangeIndex: 497 entries, 0 to 496\n",
      "Data columns (total 15 columns):\n",
      " #   Column                           Non-Null Count  Dtype  \n",
      "---  ------                           --------------  -----  \n",
      " 0   Actor_name                       497 non-null    object \n",
      " 1   character_types                  497 non-null    object \n",
      " 2   character                        497 non-null    object \n",
      " 3   Freebase_character_ID            497 non-null    object \n",
      " 4   Freebase_actor_ID                497 non-null    object \n",
      " 5   Freebase_character/actor_map_ID  497 non-null    object \n",
      " 6   Actor_gender                     496 non-null    object \n",
      " 7   Actor_age_at_movie_release       479 non-null    float64\n",
      " 8   Actor_date_of_birth              493 non-null    float64\n",
      " 9   Actor_height_(in meters)         466 non-null    float64\n",
      " 10  Actor_ethnicity_(Freebase ID)    332 non-null    object \n",
      " 11  unique_character_name            101 non-null    object \n",
      " 12  movie                            497 non-null    object \n",
      " 13  Wikipedia_movie_ID               497 non-null    int64  \n",
      " 14  Freebase_movie_ID                497 non-null    object \n",
      "dtypes: float64(3), int64(1), object(11)\n",
      "memory usage: 58.4+ KB\n",
      "None\n"
     ]
    },
    {
     "data": {
      "text/plain": [
       "Actor_name                          0.000000\n",
       "character_types                     0.000000\n",
       "character                           0.000000\n",
       "Freebase_character_ID               0.000000\n",
       "Freebase_actor_ID                   0.000000\n",
       "Freebase_character/actor_map_ID     0.000000\n",
       "Actor_gender                        0.201207\n",
       "Actor_age_at_movie_release          3.621730\n",
       "Actor_date_of_birth                 0.804829\n",
       "Actor_height_(in meters)            6.237425\n",
       "Actor_ethnicity_(Freebase ID)      33.199195\n",
       "unique_character_name              79.678068\n",
       "movie                               0.000000\n",
       "Wikipedia_movie_ID                  0.000000\n",
       "Freebase_movie_ID                   0.000000\n",
       "dtype: float64"
      ]
     },
     "execution_count": 3,
     "metadata": {},
     "output_type": "execute_result"
    }
   ],
   "source": [
    "df_character = pd.read_csv(DATA_PATH)\n",
    "print(df_character.info())\n",
    "df_character.isna().sum() / len(df_character) * 100"
   ]
  },
  {
   "cell_type": "markdown",
   "metadata": {},
   "source": [
    "There are only 497 data points for the character type, which is insufficient for a reliable analysis. Therefore, we will not include it in our analysis as the results would lack accuracy due to the limited data."
   ]
  }
 ],
 "metadata": {
  "kernelspec": {
   "display_name": "ada",
   "language": "python",
   "name": "python3"
  },
  "language_info": {
   "codemirror_mode": {
    "name": "ipython",
    "version": 3
   },
   "file_extension": ".py",
   "mimetype": "text/x-python",
   "name": "python",
   "nbconvert_exporter": "python",
   "pygments_lexer": "ipython3",
   "version": "3.11.9"
  }
 },
 "nbformat": 4,
 "nbformat_minor": 2
}

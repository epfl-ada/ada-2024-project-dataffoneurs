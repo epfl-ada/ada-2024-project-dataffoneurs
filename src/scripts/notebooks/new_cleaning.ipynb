{
 "cells": [
  {
   "cell_type": "code",
   "execution_count": 41,
   "metadata": {},
   "outputs": [
    {
     "name": "stderr",
     "output_type": "stream",
     "text": [
      "[nltk_data] Downloading package punkt to\n",
      "[nltk_data]     C:\\Users\\march\\AppData\\Roaming\\nltk_data...\n",
      "[nltk_data]   Package punkt is already up-to-date!\n"
     ]
    },
    {
     "data": {
      "text/plain": [
       "True"
      ]
     },
     "execution_count": 41,
     "metadata": {},
     "output_type": "execute_result"
    }
   ],
   "source": [
    "import pandas as pd\n",
    "import numpy as np \n",
    "import ast\n",
    "import nltk\n",
    "from nltk.tokenize import sent_tokenize, word_tokenize\n",
    "import pickle\n",
    "from scipy.interpolate import interp1d\n",
    "import seaborn as sns\n",
    "sns.set(style=\"darkgrid\")\n",
    "\n",
    "\n",
    "# Download necessary NLTK data (only needs to be done once)\n",
    "nltk.download('punkt')"
   ]
  },
  {
   "cell_type": "code",
   "execution_count": 19,
   "metadata": {},
   "outputs": [],
   "source": [
    "DATA_PATH = \"../../../data/final_dataset.csv\""
   ]
  },
  {
   "cell_type": "code",
   "execution_count": 20,
   "metadata": {},
   "outputs": [
    {
     "name": "stdout",
     "output_type": "stream",
     "text": [
      "Index(['Unnamed: 0', 'Wikipedia_movie_ID', 'summary', 'Freebase_movie_ID',\n",
      "       'Movie_name', 'Movie_release_date', 'Movie_box_office_revenue',\n",
      "       'Movie_runtime', 'Movie_languages', 'Movie_countries', 'Movie_genres',\n",
      "       'category', 'continent', 'Rating'],\n",
      "      dtype='object')\n"
     ]
    },
    {
     "data": {
      "text/plain": [
       "(42718, 14)"
      ]
     },
     "execution_count": 20,
     "metadata": {},
     "output_type": "execute_result"
    }
   ],
   "source": [
    "df = pd.read_csv(DATA_PATH)\n",
    "print(df.columns)\n",
    "df.shape"
   ]
  },
  {
   "cell_type": "code",
   "execution_count": 22,
   "metadata": {},
   "outputs": [],
   "source": [
    "def count_words(text):\n",
    "    return len(word_tokenize(str(text)))\n",
    "\n",
    "def count_sentences(text):\n",
    "    return len(sent_tokenize(str(text)))"
   ]
  },
  {
   "cell_type": "code",
   "execution_count": 23,
   "metadata": {},
   "outputs": [],
   "source": [
    "df = df.drop(columns=df.columns[0])\n",
    "df['Rating'] = df['Rating'].apply(lambda x: x if 0 <= x <= 10 else np.nan)\n",
    "\n",
    "\n",
    "# Filter rows where summary has at least 100 words and 2 sentences\n",
    "df = df[df['summary'].apply(lambda x: count_words(x) >= 100 and count_sentences(x) >= 2)]"
   ]
  },
  {
   "cell_type": "code",
   "execution_count": 24,
   "metadata": {},
   "outputs": [
    {
     "data": {
      "text/plain": [
       "(34342, 13)"
      ]
     },
     "execution_count": 24,
     "metadata": {},
     "output_type": "execute_result"
    }
   ],
   "source": [
    "df.shape"
   ]
  },
  {
   "cell_type": "code",
   "execution_count": 25,
   "metadata": {},
   "outputs": [],
   "source": [
    "df[\"category\"] = df[\"category\"].apply(lambda x: ast.literal_eval(x))"
   ]
  },
  {
   "cell_type": "code",
   "execution_count": 27,
   "metadata": {},
   "outputs": [],
   "source": [
    "df.to_csv(\"../../../data/final_dataset.csv\")"
   ]
  },
  {
   "cell_type": "code",
   "execution_count": 28,
   "metadata": {},
   "outputs": [],
   "source": [
    "df.to_pickle(\"../../../data/final_dataset.pkl\")"
   ]
  },
  {
   "cell_type": "code",
   "execution_count": 32,
   "metadata": {},
   "outputs": [
    {
     "data": {
      "text/plain": [
       "(745637, 10)"
      ]
     },
     "execution_count": 32,
     "metadata": {},
     "output_type": "execute_result"
    }
   ],
   "source": [
    "df_emotions = pd.read_pickle(\"../../../data/emotions_data.pkl\")\n",
    "df_emotions.shape"
   ]
  },
  {
   "cell_type": "code",
   "execution_count": 34,
   "metadata": {},
   "outputs": [
    {
     "data": {
      "text/plain": [
       "(723658, 10)"
      ]
     },
     "execution_count": 34,
     "metadata": {},
     "output_type": "execute_result"
    }
   ],
   "source": [
    "new_df_emotions =  df_emotions[df_emotions['Wikipedia_movie_ID'].isin(df['Wikipedia_movie_ID'])]\n",
    "new_df_emotions.shape"
   ]
  },
  {
   "cell_type": "code",
   "execution_count": 35,
   "metadata": {},
   "outputs": [],
   "source": [
    "new_df_emotions.to_pickle(\"../../../data/emotions_data_raw.pkl\")"
   ]
  },
  {
   "cell_type": "code",
   "execution_count": 36,
   "metadata": {},
   "outputs": [],
   "source": [
    "new_df_emotions.to_pickle(\"../../../data/emotions_data_raw.csv\")"
   ]
  },
  {
   "cell_type": "markdown",
   "metadata": {},
   "source": [
    "Interpolating"
   ]
  },
  {
   "cell_type": "code",
   "execution_count": 38,
   "metadata": {},
   "outputs": [
    {
     "data": {
      "text/html": [
       "<div>\n",
       "<style scoped>\n",
       "    .dataframe tbody tr th:only-of-type {\n",
       "        vertical-align: middle;\n",
       "    }\n",
       "\n",
       "    .dataframe tbody tr th {\n",
       "        vertical-align: top;\n",
       "    }\n",
       "\n",
       "    .dataframe thead th {\n",
       "        text-align: right;\n",
       "    }\n",
       "</style>\n",
       "<table border=\"1\" class=\"dataframe\">\n",
       "  <thead>\n",
       "    <tr style=\"text-align: right;\">\n",
       "      <th></th>\n",
       "      <th>Wikipedia_movie_ID</th>\n",
       "      <th>summary</th>\n",
       "      <th>Freebase_movie_ID</th>\n",
       "      <th>Movie_name</th>\n",
       "      <th>Movie_release_date</th>\n",
       "      <th>Movie_box_office_revenue</th>\n",
       "      <th>Movie_runtime</th>\n",
       "      <th>Movie_languages</th>\n",
       "      <th>Movie_countries</th>\n",
       "      <th>Movie_genres</th>\n",
       "      <th>category</th>\n",
       "      <th>continent</th>\n",
       "      <th>Rating</th>\n",
       "    </tr>\n",
       "  </thead>\n",
       "  <tbody>\n",
       "    <tr>\n",
       "      <th>26057</th>\n",
       "      <td>17778990</td>\n",
       "      <td>Laida Magtalas is a modern-day Belle who work...</td>\n",
       "      <td>/m/047gs0x</td>\n",
       "      <td>A Very Special Love</td>\n",
       "      <td>2008.0</td>\n",
       "      <td>₱185,235,324.00(US$3,836,701.00)</td>\n",
       "      <td>66.0</td>\n",
       "      <td>Tagalog language, Filipino language, English L...</td>\n",
       "      <td>Philippines</td>\n",
       "      <td>Romance Film, Comedy film</td>\n",
       "      <td>[Comedy, Romance]</td>\n",
       "      <td>Asia</td>\n",
       "      <td>6.5</td>\n",
       "    </tr>\n",
       "    <tr>\n",
       "      <th>18871</th>\n",
       "      <td>10507423</td>\n",
       "      <td>Thomas \"Babe\" Levy  is a history Ph.D. candida...</td>\n",
       "      <td>/m/02qg5zq</td>\n",
       "      <td>Marathon Man</td>\n",
       "      <td>1976.0</td>\n",
       "      <td>28204261.0</td>\n",
       "      <td>126.0</td>\n",
       "      <td>English Language</td>\n",
       "      <td>United States of America</td>\n",
       "      <td>Thriller, Crime Fiction, Psychological thrille...</td>\n",
       "      <td>[Action/Adventure, Drama, Thriller]</td>\n",
       "      <td>North America</td>\n",
       "      <td>7.4</td>\n",
       "    </tr>\n",
       "    <tr>\n",
       "      <th>19414</th>\n",
       "      <td>10888233</td>\n",
       "      <td>In ancient times in India there was a time whe...</td>\n",
       "      <td>/m/02qt2qq</td>\n",
       "      <td>Balika Badhu</td>\n",
       "      <td>NaN</td>\n",
       "      <td>NaN</td>\n",
       "      <td>130.0</td>\n",
       "      <td>Hindi Language</td>\n",
       "      <td>India</td>\n",
       "      <td>Romance Film, Drama, Family Film</td>\n",
       "      <td>[Drama, Family/Animation, Romance]</td>\n",
       "      <td>Asia</td>\n",
       "      <td>7.0</td>\n",
       "    </tr>\n",
       "  </tbody>\n",
       "</table>\n",
       "</div>"
      ],
      "text/plain": [
       "       Wikipedia_movie_ID                                            summary  \\\n",
       "26057            17778990   Laida Magtalas is a modern-day Belle who work...   \n",
       "18871            10507423  Thomas \"Babe\" Levy  is a history Ph.D. candida...   \n",
       "19414            10888233  In ancient times in India there was a time whe...   \n",
       "\n",
       "      Freebase_movie_ID           Movie_name  Movie_release_date  \\\n",
       "26057        /m/047gs0x  A Very Special Love              2008.0   \n",
       "18871        /m/02qg5zq         Marathon Man              1976.0   \n",
       "19414        /m/02qt2qq         Balika Badhu                 NaN   \n",
       "\n",
       "               Movie_box_office_revenue  Movie_runtime  \\\n",
       "26057  ₱185,235,324.00(US$3,836,701.00)           66.0   \n",
       "18871                        28204261.0          126.0   \n",
       "19414                               NaN          130.0   \n",
       "\n",
       "                                         Movie_languages  \\\n",
       "26057  Tagalog language, Filipino language, English L...   \n",
       "18871                                   English Language   \n",
       "19414                                     Hindi Language   \n",
       "\n",
       "                Movie_countries  \\\n",
       "26057               Philippines   \n",
       "18871  United States of America   \n",
       "19414                     India   \n",
       "\n",
       "                                            Movie_genres  \\\n",
       "26057                          Romance Film, Comedy film   \n",
       "18871  Thriller, Crime Fiction, Psychological thrille...   \n",
       "19414                   Romance Film, Drama, Family Film   \n",
       "\n",
       "                                  category      continent  Rating  \n",
       "26057                    [Comedy, Romance]           Asia     6.5  \n",
       "18871  [Action/Adventure, Drama, Thriller]  North America     7.4  \n",
       "19414   [Drama, Family/Animation, Romance]           Asia     7.0  "
      ]
     },
     "execution_count": 38,
     "metadata": {},
     "output_type": "execute_result"
    }
   ],
   "source": [
    "DATA_PATH = \"../../../data/emotions_data_raw.pkl\"  # Path to the CSV file containing sentence emotions data\n",
    "DATA_PATH_MOVIE_METADATA = \"../../../data/final_dataset.pkl\"  # Path to the pickle file containing movie metadata\n",
    "\n",
    "df_emotions = pd.read_pickle(DATA_PATH)\n",
    "\n",
    "with open(DATA_PATH_MOVIE_METADATA, 'rb') as f:\n",
    "    df_metadata = pickle.load(f)\n",
    "\n",
    "df_metadata.sample(3)"
   ]
  },
  {
   "cell_type": "code",
   "execution_count": 53,
   "metadata": {},
   "outputs": [],
   "source": [
    "target_timesteps = 20  # Number of timesteps to which we want to interpolate the data\n",
    "emotions = [\"anger\", \"disgust\", \"fear\", \"joy\", \"neutral\", \"sadness\", \"surprise\"] \n",
    "\n",
    "def interpolate_emotions(movie_data, target_timesteps):\n",
    "    \"\"\"\n",
    "    Interpolates emotion values over a fixed number of timesteps for a given movie data.\n",
    "\n",
    "    This function takes a DataFrame containing emotion values over time for a specific movie\n",
    "    and interpolates each emotion to fit a fixed number of timesteps. This is useful for standardizing\n",
    "    the data across movies with different numbers of timestamps, allowing for easier comparison.\n",
    "\n",
    "    Args:\n",
    "        movie_data (pd.DataFrame): A DataFrame containing emotion values for a specific movie.\n",
    "            Each row represents a timestep, and columns should include:\n",
    "            - \"Wikipedia_movie_ID\" (int or str): The unique identifier for the movie.\n",
    "            - One column per emotion (e.g., \"anger\", \"disgust\", \"fear\", etc.).\n",
    "        target_timesteps (int): The target number of timesteps for interpolation. The function\n",
    "            will output a DataFrame with this fixed number of rows.\n",
    "\n",
    "    Returns:\n",
    "        pd.DataFrame: A DataFrame with `target_timesteps` rows, containing the interpolated\n",
    "        emotion values. Columns include:\n",
    "            - \"Wikipedia_movie_ID\" (int or str): Repeated ID of the movie for each row.\n",
    "            - One column per emotion (e.g., \"anger\", \"disgust\", \"fear\", etc.) with interpolated values.\n",
    "            \n",
    "    Notes:\n",
    "        - This function uses linear interpolation. For other types of interpolation,\n",
    "          change the `kind` parameter in `interp1d`.\n",
    "        - The function extrapolates values if the target positions extend beyond the range\n",
    "          of `movie_data`.\n",
    "\n",
    "    \"\"\"\n",
    "    # Define the original positions based on the length of the input data\n",
    "    original_positions = np.arange(len(movie_data))\n",
    "    # Define the target positions for interpolation based on the target timesteps\n",
    "    target_positions = np.linspace(0, len(movie_data) - 1, target_timesteps)\n",
    "    \n",
    "    # Initialize a dictionary to store the interpolated data\n",
    "    interpolated_data = {emotion: [] for emotion in emotions}\n",
    "    # Add the Wikipedia_movie_ID to the dictionary, repeating it for each target timestep\n",
    "    interpolated_data[\"Wikipedia_movie_ID\"] = [movie_data[\"Wikipedia_movie_ID\"].iloc[0]] * target_timesteps\n",
    "    \n",
    "    # Interpolate each emotion's values over the target positions\n",
    "    for emotion in emotions:\n",
    "        # Create a linear interpolation function for the current emotion\n",
    "        interp_function = interp1d(original_positions, movie_data[emotion], kind=\"linear\", fill_value=\"extrapolate\")\n",
    "        interpolated_data[emotion] = interp_function(target_positions)\n",
    "\n",
    "    return pd.DataFrame(interpolated_data)"
   ]
  },
  {
   "cell_type": "code",
   "execution_count": 54,
   "metadata": {},
   "outputs": [],
   "source": [
    "interpolated_movies = []\n",
    "\n",
    "for movie_id, movie_data in df_emotions.groupby(\"Wikipedia_movie_ID\"):\n",
    "    # Apply the interpolate_emotions function to get a fixed number of timesteps for this movie\n",
    "    interpolated_movie = interpolate_emotions(movie_data, target_timesteps)\n",
    "    interpolated_movies.append(interpolated_movie)\n",
    "\n",
    "interpolated_df = pd.concat(interpolated_movies, ignore_index=True)\n",
    "\n",
    "# Add a timestep column to indicate the timestep index within each movie\n",
    "interpolated_df['timestep'] = interpolated_df.groupby(\"Wikipedia_movie_ID\").cumcount()"
   ]
  },
  {
   "cell_type": "code",
   "execution_count": 55,
   "metadata": {},
   "outputs": [
    {
     "data": {
      "text/plain": [
       "(686840, 9)"
      ]
     },
     "execution_count": 55,
     "metadata": {},
     "output_type": "execute_result"
    }
   ],
   "source": [
    "interpolated_df.shape"
   ]
  },
  {
   "cell_type": "code",
   "execution_count": 56,
   "metadata": {},
   "outputs": [],
   "source": [
    "interpolated_df.to_pickle(\"../../../data/emotions_interpolated_20.pkl\")\n",
    "interpolated_df.to_csv(\"../../../data/emotions_interpolated_20.csv\")"
   ]
  }
 ],
 "metadata": {
  "kernelspec": {
   "display_name": "ada",
   "language": "python",
   "name": "python3"
  },
  "language_info": {
   "codemirror_mode": {
    "name": "ipython",
    "version": 3
   },
   "file_extension": ".py",
   "mimetype": "text/x-python",
   "name": "python",
   "nbconvert_exporter": "python",
   "pygments_lexer": "ipython3",
   "version": "3.11.9"
  }
 },
 "nbformat": 4,
 "nbformat_minor": 2
}

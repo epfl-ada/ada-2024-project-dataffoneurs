{
 "cells": [
  {
   "cell_type": "markdown",
   "metadata": {},
   "source": [
    "# Key Findings from Our Preliminary Analysis"
   ]
  },
  {
   "cell_type": "code",
   "execution_count": 1,
   "metadata": {},
   "outputs": [
    {
     "name": "stderr",
     "output_type": "stream",
     "text": [
      "c:\\Users\\papad\\Anaconda3\\envs\\ada\\Lib\\site-packages\\tqdm\\auto.py:21: TqdmWarning: IProgress not found. Please update jupyter and ipywidgets. See https://ipywidgets.readthedocs.io/en/stable/user_install.html\n",
      "  from .autonotebook import tqdm as notebook_tqdm\n",
      "[nltk_data] Downloading package punkt to\n",
      "[nltk_data]     C:\\Users\\papad\\AppData\\Roaming\\nltk_data...\n",
      "[nltk_data]   Package punkt is already up-to-date!\n"
     ]
    }
   ],
   "source": [
    "import pandas as pd\n",
    "from src.scripts import data_cleaning\n",
    "from src.scripts import data_modification\n",
    "from src.scripts import sentiment_analysis"
   ]
  },
  {
   "cell_type": "markdown",
   "metadata": {},
   "source": [
    "This analysis dives into various aspects of cinema data, exploring questions such as the distribution of movie genres, gender representation over decades, and the emotions expressed in films. We focus mostly on movie related data for our project since it is our main focus point, however, we did also clean and browse character and actor data in case we decide that we want to include them for any reason. \n",
    "\n",
    "We have decided to only report images of our plots without the code to avoid cluttering this notebook but in case you would need it, you can find all related code and the plots in the src/scripts/notebook folder for a detailed step-by-step walkthrough. Concerning functional data pipelines like data cleaning, sentiment analysis and data modifications, we will call them from this notebook to give an idea of what the dataframes we work with look like. The scripts are located in src/scripts."
   ]
  },
  {
   "cell_type": "markdown",
   "metadata": {},
   "source": [
    "## What’s in the data?"
   ]
  },
  {
   "cell_type": "markdown",
   "metadata": {},
   "source": [
    "### Data cleaning"
   ]
  },
  {
   "cell_type": "markdown",
   "metadata": {},
   "source": [
    "As a first step, we tried to thoroughly clean the data in its entirety but especially plot summaries and movie related data. We removed tags, citations and most of weird characters from the movie summaries. We unified dates and in some cases removed the complete dates to keep only the year. We cleaned box office data by removing strings or changing them into numerical values and checked the bounds on some field (for example age should not be negative). We removed ids and columns we will mostly not use."
   ]
  },
  {
   "cell_type": "code",
   "execution_count": 2,
   "metadata": {},
   "outputs": [
    {
     "name": "stdout",
     "output_type": "stream",
     "text": [
      "Index(['Wikipedia_movie_ID', 'summary', 'Freebase_movie_ID', 'Movie_name',\n",
      "       'Movie_release_date', 'Movie_box_office_revenue', 'Movie_runtime',\n",
      "       'Movie_languages', 'Movie_countries', 'Movie_genres'],\n",
      "      dtype='object')\n"
     ]
    },
    {
     "data": {
      "text/html": [
       "<div>\n",
       "<style scoped>\n",
       "    .dataframe tbody tr th:only-of-type {\n",
       "        vertical-align: middle;\n",
       "    }\n",
       "\n",
       "    .dataframe tbody tr th {\n",
       "        vertical-align: top;\n",
       "    }\n",
       "\n",
       "    .dataframe thead th {\n",
       "        text-align: right;\n",
       "    }\n",
       "</style>\n",
       "<table border=\"1\" class=\"dataframe\">\n",
       "  <thead>\n",
       "    <tr style=\"text-align: right;\">\n",
       "      <th></th>\n",
       "      <th>Wikipedia_movie_ID</th>\n",
       "      <th>summary</th>\n",
       "      <th>Freebase_movie_ID</th>\n",
       "      <th>Movie_name</th>\n",
       "      <th>Movie_release_date</th>\n",
       "      <th>Movie_box_office_revenue</th>\n",
       "      <th>Movie_runtime</th>\n",
       "      <th>Movie_languages</th>\n",
       "      <th>Movie_countries</th>\n",
       "      <th>Movie_genres</th>\n",
       "    </tr>\n",
       "  </thead>\n",
       "  <tbody>\n",
       "    <tr>\n",
       "      <th>66117</th>\n",
       "      <td>29146560</td>\n",
       "      <td>NaN</td>\n",
       "      <td>/m/0dlm9db</td>\n",
       "      <td>The Nut</td>\n",
       "      <td>1921.0</td>\n",
       "      <td>NaN</td>\n",
       "      <td>74.0</td>\n",
       "      <td>English Language</td>\n",
       "      <td>United States of America</td>\n",
       "      <td>Romance Film, Comedy</td>\n",
       "    </tr>\n",
       "  </tbody>\n",
       "</table>\n",
       "</div>"
      ],
      "text/plain": [
       "       Wikipedia_movie_ID summary Freebase_movie_ID Movie_name  \\\n",
       "66117            29146560     NaN        /m/0dlm9db    The Nut   \n",
       "\n",
       "       Movie_release_date  Movie_box_office_revenue  Movie_runtime  \\\n",
       "66117              1921.0                       NaN           74.0   \n",
       "\n",
       "        Movie_languages           Movie_countries          Movie_genres  \n",
       "66117  English Language  United States of America  Romance Film, Comedy  "
      ]
     },
     "execution_count": 2,
     "metadata": {},
     "output_type": "execute_result"
    }
   ],
   "source": [
    "cleaned_data_movie = data_cleaning.movie_data_cleaning_pipeline()\n",
    "print(cleaned_data_movie.columns)\n",
    "cleaned_data_movie.sample(1)"
   ]
  },
  {
   "cell_type": "code",
   "execution_count": 3,
   "metadata": {},
   "outputs": [
    {
     "data": {
      "text/html": [
       "<div>\n",
       "<style scoped>\n",
       "    .dataframe tbody tr th:only-of-type {\n",
       "        vertical-align: middle;\n",
       "    }\n",
       "\n",
       "    .dataframe tbody tr th {\n",
       "        vertical-align: top;\n",
       "    }\n",
       "\n",
       "    .dataframe thead th {\n",
       "        text-align: right;\n",
       "    }\n",
       "</style>\n",
       "<table border=\"1\" class=\"dataframe\">\n",
       "  <thead>\n",
       "    <tr style=\"text-align: right;\">\n",
       "      <th></th>\n",
       "      <th>Wikipedia_movie_ID</th>\n",
       "      <th>Movie_release_date</th>\n",
       "      <th>Movie_box_office_revenue</th>\n",
       "      <th>Movie_runtime</th>\n",
       "    </tr>\n",
       "  </thead>\n",
       "  <tbody>\n",
       "    <tr>\n",
       "      <th>count</th>\n",
       "      <td>8.184000e+04</td>\n",
       "      <td>39372.000000</td>\n",
       "      <td>8.401000e+03</td>\n",
       "      <td>6.129100e+04</td>\n",
       "    </tr>\n",
       "    <tr>\n",
       "      <th>mean</th>\n",
       "      <td>1.741181e+07</td>\n",
       "      <td>1977.548816</td>\n",
       "      <td>4.799363e+07</td>\n",
       "      <td>1.118192e+02</td>\n",
       "    </tr>\n",
       "    <tr>\n",
       "      <th>std</th>\n",
       "      <td>1.098881e+07</td>\n",
       "      <td>30.938137</td>\n",
       "      <td>1.121753e+08</td>\n",
       "      <td>4.360070e+03</td>\n",
       "    </tr>\n",
       "    <tr>\n",
       "      <th>min</th>\n",
       "      <td>3.300000e+02</td>\n",
       "      <td>1892.000000</td>\n",
       "      <td>1.000000e+04</td>\n",
       "      <td>0.000000e+00</td>\n",
       "    </tr>\n",
       "    <tr>\n",
       "      <th>25%</th>\n",
       "      <td>7.324745e+06</td>\n",
       "      <td>1952.000000</td>\n",
       "      <td>2.083193e+06</td>\n",
       "      <td>8.100000e+01</td>\n",
       "    </tr>\n",
       "    <tr>\n",
       "      <th>50%</th>\n",
       "      <td>1.779234e+07</td>\n",
       "      <td>1989.000000</td>\n",
       "      <td>1.063969e+07</td>\n",
       "      <td>9.300000e+01</td>\n",
       "    </tr>\n",
       "    <tr>\n",
       "      <th>75%</th>\n",
       "      <td>2.716129e+07</td>\n",
       "      <td>2005.000000</td>\n",
       "      <td>4.071696e+07</td>\n",
       "      <td>1.060000e+02</td>\n",
       "    </tr>\n",
       "    <tr>\n",
       "      <th>max</th>\n",
       "      <td>3.750192e+07</td>\n",
       "      <td>2016.000000</td>\n",
       "      <td>2.782275e+09</td>\n",
       "      <td>1.079281e+06</td>\n",
       "    </tr>\n",
       "  </tbody>\n",
       "</table>\n",
       "</div>"
      ],
      "text/plain": [
       "       Wikipedia_movie_ID  Movie_release_date  Movie_box_office_revenue  \\\n",
       "count        8.184000e+04        39372.000000              8.401000e+03   \n",
       "mean         1.741181e+07         1977.548816              4.799363e+07   \n",
       "std          1.098881e+07           30.938137              1.121753e+08   \n",
       "min          3.300000e+02         1892.000000              1.000000e+04   \n",
       "25%          7.324745e+06         1952.000000              2.083193e+06   \n",
       "50%          1.779234e+07         1989.000000              1.063969e+07   \n",
       "75%          2.716129e+07         2005.000000              4.071696e+07   \n",
       "max          3.750192e+07         2016.000000              2.782275e+09   \n",
       "\n",
       "       Movie_runtime  \n",
       "count   6.129100e+04  \n",
       "mean    1.118192e+02  \n",
       "std     4.360070e+03  \n",
       "min     0.000000e+00  \n",
       "25%     8.100000e+01  \n",
       "50%     9.300000e+01  \n",
       "75%     1.060000e+02  \n",
       "max     1.079281e+06  "
      ]
     },
     "execution_count": 3,
     "metadata": {},
     "output_type": "execute_result"
    }
   ],
   "source": [
    "cleaned_data_movie.describe()"
   ]
  },
  {
   "cell_type": "code",
   "execution_count": 4,
   "metadata": {},
   "outputs": [
    {
     "name": "stdout",
     "output_type": "stream",
     "text": [
      "Index(['Wikipedia_movie_ID', 'Freebase_movie_ID', 'Movie_release_date',\n",
      "       'Character_name', 'Actor_date_of_birth', 'Actor_gender',\n",
      "       'Actor_height_(in meters)', 'Actor_ethnicity_(Freebase ID)',\n",
      "       'Actor_name', 'Actor_age_at_movie_release',\n",
      "       'Freebase_character/actor_map_ID', 'Freebase_character_ID',\n",
      "       'Freebase_actor_ID', 'unique_character_name', 'character_types',\n",
      "       'character', 'movie'],\n",
      "      dtype='object')\n"
     ]
    },
    {
     "data": {
      "text/html": [
       "<div>\n",
       "<style scoped>\n",
       "    .dataframe tbody tr th:only-of-type {\n",
       "        vertical-align: middle;\n",
       "    }\n",
       "\n",
       "    .dataframe tbody tr th {\n",
       "        vertical-align: top;\n",
       "    }\n",
       "\n",
       "    .dataframe thead th {\n",
       "        text-align: right;\n",
       "    }\n",
       "</style>\n",
       "<table border=\"1\" class=\"dataframe\">\n",
       "  <thead>\n",
       "    <tr style=\"text-align: right;\">\n",
       "      <th></th>\n",
       "      <th>Wikipedia_movie_ID</th>\n",
       "      <th>Freebase_movie_ID</th>\n",
       "      <th>Movie_release_date</th>\n",
       "      <th>Character_name</th>\n",
       "      <th>Actor_date_of_birth</th>\n",
       "      <th>Actor_gender</th>\n",
       "      <th>Actor_height_(in meters)</th>\n",
       "      <th>Actor_ethnicity_(Freebase ID)</th>\n",
       "      <th>Actor_name</th>\n",
       "      <th>Actor_age_at_movie_release</th>\n",
       "      <th>Freebase_character/actor_map_ID</th>\n",
       "      <th>Freebase_character_ID</th>\n",
       "      <th>Freebase_actor_ID</th>\n",
       "      <th>unique_character_name</th>\n",
       "      <th>character_types</th>\n",
       "      <th>character</th>\n",
       "      <th>movie</th>\n",
       "    </tr>\n",
       "  </thead>\n",
       "  <tbody>\n",
       "    <tr>\n",
       "      <th>162000</th>\n",
       "      <td>876728.0</td>\n",
       "      <td>/m/03kx49</td>\n",
       "      <td>1979.0</td>\n",
       "      <td>NaN</td>\n",
       "      <td>1928.0</td>\n",
       "      <td>M</td>\n",
       "      <td>1.88</td>\n",
       "      <td>NaN</td>\n",
       "      <td>James Coburn</td>\n",
       "      <td>50.0</td>\n",
       "      <td>/m/0cg2wc7</td>\n",
       "      <td>NaN</td>\n",
       "      <td>/m/01337_</td>\n",
       "      <td>NaN</td>\n",
       "      <td>NaN</td>\n",
       "      <td>NaN</td>\n",
       "      <td>NaN</td>\n",
       "    </tr>\n",
       "  </tbody>\n",
       "</table>\n",
       "</div>"
      ],
      "text/plain": [
       "        Wikipedia_movie_ID Freebase_movie_ID  Movie_release_date  \\\n",
       "162000            876728.0         /m/03kx49              1979.0   \n",
       "\n",
       "       Character_name  Actor_date_of_birth Actor_gender  \\\n",
       "162000            NaN               1928.0            M   \n",
       "\n",
       "        Actor_height_(in meters) Actor_ethnicity_(Freebase ID)    Actor_name  \\\n",
       "162000                      1.88                           NaN  James Coburn   \n",
       "\n",
       "        Actor_age_at_movie_release Freebase_character/actor_map_ID  \\\n",
       "162000                        50.0                      /m/0cg2wc7   \n",
       "\n",
       "       Freebase_character_ID Freebase_actor_ID unique_character_name  \\\n",
       "162000                   NaN         /m/01337_                   NaN   \n",
       "\n",
       "       character_types character movie  \n",
       "162000             NaN       NaN   NaN  "
      ]
     },
     "execution_count": 4,
     "metadata": {},
     "output_type": "execute_result"
    }
   ],
   "source": [
    "clean_character_data = data_cleaning.character_data_cleaning_pipeline()\n",
    "print(clean_character_data.columns)\n",
    "clean_character_data.sample(1)"
   ]
  },
  {
   "cell_type": "markdown",
   "metadata": {},
   "source": [
    "### Missing values"
   ]
  },
  {
   "cell_type": "markdown",
   "metadata": {},
   "source": [
    "<img src=\"src/scripts/plots/movie_exploration/Percentage_of_Missing_Data_for_Movie_Characteristics.png\" alt=\"box off per cat\" width=\"700\">"
   ]
  },
  {
   "cell_type": "markdown",
   "metadata": {},
   "source": [
    "<img src=\"src/scripts/plots/actor_exploration/Percentage_of_Missing_Data_for_Actor_Characteristics.png\" alt=\"box off per cat\" width=\"700\">\n"
   ]
  },
  {
   "cell_type": "markdown",
   "metadata": {},
   "source": [
    "These visualizations highlight the percentage of missing data for both movie and actor characteristics. Some key insights from these two plots are that some categories, like movie summaries, have significant gaps that could affect our following analysis. Since our main points of interest are summaries and ratings, we used scraping to remediate the situation. Initially, we considered using box office revenue to evaluate the success of a movie. However, after further deliberation, we decided it wasn’t the most reliable metric for assessing success due to its dependence on external factors like marketing and distribution. Instead, we opted to use ratings as a more representative measure of audience perception and movie quality. Unfortunately, ratings were missing in our dataset, necessitating additional scraping."
   ]
  },
  {
   "cell_type": "markdown",
   "metadata": {},
   "source": [
    "<img src=\"src/scripts/plots/movie_exploration/Distribution_of_the_summary_that_have_length_inf_to_5000_and_1000.png\" alt=\"box off per cat\" width=\"900\">"
   ]
  },
  {
   "cell_type": "markdown",
   "metadata": {},
   "source": [
    "Digging deeper into the plot summaries data, we can observe that a certain amount of summary have less than 200 words. To thoroughly analyze emotion evolution throughout the summaries, we decided to decide on a cutoff value and scrape both missing plots from Wikipiedia when possible and summaries that are to short.\n"
   ]
  },
  {
   "cell_type": "markdown",
   "metadata": {},
   "source": [
    "### Web-Scraping"
   ]
  },
  {
   "cell_type": "markdown",
   "metadata": {},
   "source": [
    "As observed in the various plots, approximately 40% of film summaries and all of the ratings are missing, both of which are critical for our analysis. To address these gaps in the original CMU dataset, we have decided to supplement it with additional information from the films' Wikipedia pages.\n",
    "\n",
    "Our focus is on films with missing or very short summaries (fewer than 200 words), for which we retrieve more detailed summaries from Wikipedia. This approach ensures that the sentiment analysis performed later has a sufficiently robust dataset to yield meaningful insights. Additionally, since predicting the success of a movie is a key objective, we also scrape ratings data from Wikipedia to enrich the dataset.\n",
    "\n",
    "The results presented here reflect the outcome of scraping applied to a sample of 2,000 films from the CMU dataset. This process enriches our data, specifically targeting films with incomplete summaries (replacing those under 200 words with the Wikipedia entry) and adding ratings."
   ]
  },
  {
   "cell_type": "markdown",
   "metadata": {},
   "source": [
    "<img src=\"src\\scripts\\plots\\results\\summary_lenghts_comparison.png\" alt=\"Dist plots\" width=\"1100\"/>"
   ]
  },
  {
   "cell_type": "markdown",
   "metadata": {},
   "source": [
    "Here, we present the distribution of summary lengths for the original CMU dataset (labeled \"Before\") alongside the enriched CMU dataset, supplemented with web-scraped data from Wikipedia (labeled \"After\").\n",
    "\n",
    "When comparing the two distributions of summary lengths, we observe that after scraping, there is an increase in the number of longer summaries, subsequently accompanied by a decrease in the number of shorter ones. This shift is further balanced by the fact that some previously missing summaries (NaN values) have now been populated."
   ]
  },
  {
   "cell_type": "markdown",
   "metadata": {},
   "source": [
    "To complete our dataset, we scraped ratings for 92.85% of the movies, a process that took approximately 9 hours. Using libraries like requests and BeautifulSoup, we resolved title variations and handled redirects to ensure accurate data collection. The validated ratings significantly improved our dataset's completeness and analytical potential. \n",
    "\n",
    "The full code for this process is available in `src/scripts/notebook/summaries_scraping.ipynb` and `src/scripts/notebook/movie_rating_scraping.ipynb`."
   ]
  },
  {
   "cell_type": "markdown",
   "metadata": {},
   "source": [
    "### Ratings analysis"
   ]
  },
  {
   "cell_type": "markdown",
   "metadata": {},
   "source": [
    "To understand the relationship between film genres and ratings, we present two histograms. The first shows the distribution of overall ratings for all films in the dataset, while the second breaks down ratings by genre, allowing us to observe how different genres tend to perform in terms of audience perception."
   ]
  },
  {
   "cell_type": "markdown",
   "metadata": {},
   "source": [
    "<img src=\"src/scripts/plots/results/ratings.png\" alt=\"Dist plots\" width=\"1100\"/>"
   ]
  },
  {
   "cell_type": "markdown",
   "metadata": {},
   "source": [
    "As seen in the histograms, the overall distribution of ratings is fairly concentrated around the middle, with most films receiving ratings between 5 and 7. Genres like Drama and Thriller show a broader distribution, indicating a more mixed reception than the others. The Horror genre has a wider spread, with a higher number of films receiving lower ratings, likely reflecting the polarized nature of this genre."
   ]
  },
  {
   "cell_type": "markdown",
   "metadata": {},
   "source": [
    "### Genres and Geographic Distribution \n",
    "\n",
    "Because of the astronomic number of genres in the data (about 360), we decided to handcraft a mapping to go down from 300 plus genres of movies to about a dozen. While our mapping may be a point of discussion among movie enthousiasts, we find it a good approximation to a more general genre classification. We also took the same route about geographical location, classifying countries by continent. The mapping themselves can be found in the notebook or scripts about data modifications. Our dataframe is therefore added with a continent and category column. This allows us to draw distribution per genre/continent"
   ]
  },
  {
   "cell_type": "code",
   "execution_count": 5,
   "metadata": {},
   "outputs": [
    {
     "data": {
      "text/html": [
       "<div>\n",
       "<style scoped>\n",
       "    .dataframe tbody tr th:only-of-type {\n",
       "        vertical-align: middle;\n",
       "    }\n",
       "\n",
       "    .dataframe tbody tr th {\n",
       "        vertical-align: top;\n",
       "    }\n",
       "\n",
       "    .dataframe thead th {\n",
       "        text-align: right;\n",
       "    }\n",
       "</style>\n",
       "<table border=\"1\" class=\"dataframe\">\n",
       "  <thead>\n",
       "    <tr style=\"text-align: right;\">\n",
       "      <th></th>\n",
       "      <th>Wikipedia_movie_ID</th>\n",
       "      <th>summary</th>\n",
       "      <th>Freebase_movie_ID</th>\n",
       "      <th>Movie_name</th>\n",
       "      <th>Movie_release_date</th>\n",
       "      <th>Movie_box_office_revenue</th>\n",
       "      <th>Movie_runtime</th>\n",
       "      <th>Movie_languages</th>\n",
       "      <th>Movie_countries</th>\n",
       "      <th>Movie_genres</th>\n",
       "      <th>category</th>\n",
       "      <th>continent</th>\n",
       "    </tr>\n",
       "  </thead>\n",
       "  <tbody>\n",
       "    <tr>\n",
       "      <th>13947</th>\n",
       "      <td>4544022</td>\n",
       "      <td>Aloyisius T. McKeever , a New York City hobo, ...</td>\n",
       "      <td>/m/0c824q</td>\n",
       "      <td>It Happened on 5th Avenue</td>\n",
       "      <td>NaN</td>\n",
       "      <td>NaN</td>\n",
       "      <td>116.0</td>\n",
       "      <td>English Language</td>\n",
       "      <td>United States of America</td>\n",
       "      <td>Screwball comedy, Comedy</td>\n",
       "      <td>[Comedy]</td>\n",
       "      <td>North America</td>\n",
       "    </tr>\n",
       "  </tbody>\n",
       "</table>\n",
       "</div>"
      ],
      "text/plain": [
       "       Wikipedia_movie_ID                                            summary  \\\n",
       "13947             4544022  Aloyisius T. McKeever , a New York City hobo, ...   \n",
       "\n",
       "      Freebase_movie_ID                 Movie_name  Movie_release_date  \\\n",
       "13947         /m/0c824q  It Happened on 5th Avenue                 NaN   \n",
       "\n",
       "       Movie_box_office_revenue  Movie_runtime   Movie_languages  \\\n",
       "13947                       NaN          116.0  English Language   \n",
       "\n",
       "                Movie_countries              Movie_genres  category  \\\n",
       "13947  United States of America  Screwball comedy, Comedy  [Comedy]   \n",
       "\n",
       "           continent  \n",
       "13947  North America  "
      ]
     },
     "execution_count": 5,
     "metadata": {},
     "output_type": "execute_result"
    }
   ],
   "source": [
    "modified_data = data_modification.all_data_transformations()\n",
    "modified_data.sample(1)"
   ]
  },
  {
   "cell_type": "markdown",
   "metadata": {},
   "source": [
    "<img src=\"src/scripts/plots/results/movie_continent.png\" alt=\"box off per cat\" width=\"900\">"
   ]
  },
  {
   "cell_type": "markdown",
   "metadata": {},
   "source": [
    "North America dominates the film industry, followed by Europe and Asia, while the other continents collectively account for less than 5% of film production. Additionally, most movies in the dataset were produced in the 21st century. Although the number of films appears to decline after 2010, this is due to the dataset ending around 2015. \n",
    "\n",
    "Now, let's examine the distribution of genres in films."
   ]
  },
  {
   "cell_type": "markdown",
   "metadata": {},
   "source": [
    "<img src=\"src/scripts/plots/results/genre_distr.png\" alt=\"box off per cat\" width=\"1100\">"
   ]
  },
  {
   "cell_type": "markdown",
   "metadata": {},
   "source": [
    "Drama emerges as the most common genre, making up approximately 26% of the dataset, followed by comedy and thriller, which also hold significant shares. The distribution highlights a diverse range of genres, reflecting varied audience preferences in cinematic storytelling. To streamline our analysis and gain a broader perspective, we grouped the numerous film genres into eight main categories: drama, comedy, thriller, romance, action/adventure, fantasy/sci-fi, horror, and family/animation. This approach allows for more comprehensive and global insights. For instance, here is an overview of the Action and Adventure category."
   ]
  },
  {
   "cell_type": "markdown",
   "metadata": {},
   "source": [
    "<img src=\"src/scripts/plots/results/action.png\" alt=\"box off per cat\" width=\"600\">"
   ]
  },
  {
   "cell_type": "markdown",
   "metadata": {},
   "source": [
    "Now, let's examine the distribution of genres across continents to uncover regional preferences and trends in cinematic storytelling."
   ]
  },
  {
   "cell_type": "markdown",
   "metadata": {},
   "source": [
    "<img src=\"src/scripts/plots/results/genre_cont.png\" alt=\"box off per cat\" width=\"750\">"
   ]
  },
  {
   "cell_type": "markdown",
   "metadata": {},
   "source": [
    "The charts show drama as a dominant genre globally, with variations in preferences across continents. Comedy is more prominent in North America and Oceania, while action/adventure stands out in Asia."
   ]
  },
  {
   "cell_type": "markdown",
   "metadata": {},
   "source": [
    "## Technical part: sentiment analysis, PCA/clustering, K-shape clustering"
   ]
  },
  {
   "cell_type": "markdown",
   "metadata": {},
   "source": [
    "### Sentiment analysis"
   ]
  },
  {
   "cell_type": "markdown",
   "metadata": {},
   "source": [
    "Most of our datastory will rely on sentiment analysis to analyze possible emotions throughout a movie approximated via its summary. We considered three possible sentiment analysis:\n",
    "\n",
    "1) We first use a semantic similarity model to aggregate sentences of close meaning together and segment the plot summary. This means we would first pass every sentence in the model that projects them into a high-dimension embedding and then use cosine similarity with a threshold to group our sentences. Finally, we would pass each segment through a sentiment analysis model that gives back scores across 7 emotions: anger, disgust, fear, joy, neutral, sadness, or surprise.\n",
    "2) Passing sentence by sentence in the same sentiment analysis model that gives back scores across 7 emotions: anger, disgust, fear, joy, neutral, sadness, or surprise.\n",
    "3) Using a simpler sentiment analysis model that gives only a positive/negative score per sentence.\n",
    "\n",
    "We remarked that segmenting plot summaries with the semantic model and a threshold of 0.5 would only group about 13% of sentences, so we decided to go with the sentences option. We choose to use option 2 with emotion classification but have an idea of double checking our results with the positive/negative classifier to make sure positive and negative emotions match a positive/negative score."
   ]
  },
  {
   "cell_type": "code",
   "execution_count": 10,
   "metadata": {},
   "outputs": [
    {
     "ename": "FileNotFoundError",
     "evalue": "[Errno 2] No such file or directory: 'data/our_movie_data_extended.csv'",
     "output_type": "error",
     "traceback": [
      "\u001b[1;31m---------------------------------------------------------------------------\u001b[0m",
      "\u001b[1;31mFileNotFoundError\u001b[0m                         Traceback (most recent call last)",
      "Cell \u001b[1;32mIn[10], line 2\u001b[0m\n\u001b[0;32m      1\u001b[0m \u001b[38;5;66;03m#As an example, we run it on 2 plot\u001b[39;00m\n\u001b[1;32m----> 2\u001b[0m sentiment_df \u001b[38;5;241m=\u001b[39m sentiment_analysis\u001b[38;5;241m.\u001b[39msentiment_analysis_sentences(limit\u001b[38;5;241m=\u001b[39m\u001b[38;5;241m2\u001b[39m)\n\u001b[0;32m      3\u001b[0m sentiment_df\n",
      "File \u001b[1;32mc:\\Users\\papad\\Documents\\EPFL\\MA 1\\ADA\\projet\\ada-2024-project-dataffoneurs\\src\\scripts\\sentiment_analysis.py:82\u001b[0m, in \u001b[0;36msentiment_analysis_sentences\u001b[1;34m(limit)\u001b[0m\n\u001b[0;32m     80\u001b[0m \u001b[38;5;28;01mdef\u001b[39;00m \u001b[38;5;21msentiment_analysis_sentences\u001b[39m(limit\u001b[38;5;241m=\u001b[39m\u001b[38;5;241m1000\u001b[39m):\n\u001b[1;32m---> 82\u001b[0m     df_extended \u001b[38;5;241m=\u001b[39m preprocess()\n\u001b[0;32m     84\u001b[0m     \u001b[38;5;66;03m#model\u001b[39;00m\n\u001b[0;32m     85\u001b[0m     device \u001b[38;5;241m=\u001b[39m \u001b[38;5;241m0\u001b[39m \u001b[38;5;28;01mif\u001b[39;00m torch\u001b[38;5;241m.\u001b[39mcuda\u001b[38;5;241m.\u001b[39mis_available() \u001b[38;5;28;01melse\u001b[39;00m \u001b[38;5;124m'\u001b[39m\u001b[38;5;124mcpu\u001b[39m\u001b[38;5;124m'\u001b[39m\n",
      "File \u001b[1;32mc:\\Users\\papad\\Documents\\EPFL\\MA 1\\ADA\\projet\\ada-2024-project-dataffoneurs\\src\\scripts\\sentiment_analysis.py:24\u001b[0m, in \u001b[0;36mpreprocess\u001b[1;34m()\u001b[0m\n\u001b[0;32m     22\u001b[0m \u001b[38;5;28;01mdef\u001b[39;00m \u001b[38;5;21mpreprocess\u001b[39m():\n\u001b[1;32m---> 24\u001b[0m     df_extended \u001b[38;5;241m=\u001b[39m pd\u001b[38;5;241m.\u001b[39mread_csv(DATA_PATH)[[\u001b[38;5;124m\"\u001b[39m\u001b[38;5;124mWikipedia_movie_ID\u001b[39m\u001b[38;5;124m\"\u001b[39m, \u001b[38;5;124m\"\u001b[39m\u001b[38;5;124msummary\u001b[39m\u001b[38;5;124m\"\u001b[39m, \u001b[38;5;124m\"\u001b[39m\u001b[38;5;124mcategory\u001b[39m\u001b[38;5;124m\"\u001b[39m]]\n\u001b[0;32m     25\u001b[0m     df_extended\u001b[38;5;241m.\u001b[39mdropna(subset\u001b[38;5;241m=\u001b[39m[\u001b[38;5;124m\"\u001b[39m\u001b[38;5;124msummary\u001b[39m\u001b[38;5;124m\"\u001b[39m], inplace\u001b[38;5;241m=\u001b[39m\u001b[38;5;28;01mTrue\u001b[39;00m)\n\u001b[0;32m     26\u001b[0m     \u001b[38;5;28;01mreturn\u001b[39;00m df_extended\n",
      "File \u001b[1;32mc:\\Users\\papad\\Anaconda3\\envs\\ada\\Lib\\site-packages\\pandas\\io\\parsers\\readers.py:1026\u001b[0m, in \u001b[0;36mread_csv\u001b[1;34m(filepath_or_buffer, sep, delimiter, header, names, index_col, usecols, dtype, engine, converters, true_values, false_values, skipinitialspace, skiprows, skipfooter, nrows, na_values, keep_default_na, na_filter, verbose, skip_blank_lines, parse_dates, infer_datetime_format, keep_date_col, date_parser, date_format, dayfirst, cache_dates, iterator, chunksize, compression, thousands, decimal, lineterminator, quotechar, quoting, doublequote, escapechar, comment, encoding, encoding_errors, dialect, on_bad_lines, delim_whitespace, low_memory, memory_map, float_precision, storage_options, dtype_backend)\u001b[0m\n\u001b[0;32m   1013\u001b[0m kwds_defaults \u001b[38;5;241m=\u001b[39m _refine_defaults_read(\n\u001b[0;32m   1014\u001b[0m     dialect,\n\u001b[0;32m   1015\u001b[0m     delimiter,\n\u001b[1;32m   (...)\u001b[0m\n\u001b[0;32m   1022\u001b[0m     dtype_backend\u001b[38;5;241m=\u001b[39mdtype_backend,\n\u001b[0;32m   1023\u001b[0m )\n\u001b[0;32m   1024\u001b[0m kwds\u001b[38;5;241m.\u001b[39mupdate(kwds_defaults)\n\u001b[1;32m-> 1026\u001b[0m \u001b[38;5;28;01mreturn\u001b[39;00m _read(filepath_or_buffer, kwds)\n",
      "File \u001b[1;32mc:\\Users\\papad\\Anaconda3\\envs\\ada\\Lib\\site-packages\\pandas\\io\\parsers\\readers.py:620\u001b[0m, in \u001b[0;36m_read\u001b[1;34m(filepath_or_buffer, kwds)\u001b[0m\n\u001b[0;32m    617\u001b[0m _validate_names(kwds\u001b[38;5;241m.\u001b[39mget(\u001b[38;5;124m\"\u001b[39m\u001b[38;5;124mnames\u001b[39m\u001b[38;5;124m\"\u001b[39m, \u001b[38;5;28;01mNone\u001b[39;00m))\n\u001b[0;32m    619\u001b[0m \u001b[38;5;66;03m# Create the parser.\u001b[39;00m\n\u001b[1;32m--> 620\u001b[0m parser \u001b[38;5;241m=\u001b[39m TextFileReader(filepath_or_buffer, \u001b[38;5;241m*\u001b[39m\u001b[38;5;241m*\u001b[39mkwds)\n\u001b[0;32m    622\u001b[0m \u001b[38;5;28;01mif\u001b[39;00m chunksize \u001b[38;5;129;01mor\u001b[39;00m iterator:\n\u001b[0;32m    623\u001b[0m     \u001b[38;5;28;01mreturn\u001b[39;00m parser\n",
      "File \u001b[1;32mc:\\Users\\papad\\Anaconda3\\envs\\ada\\Lib\\site-packages\\pandas\\io\\parsers\\readers.py:1620\u001b[0m, in \u001b[0;36mTextFileReader.__init__\u001b[1;34m(self, f, engine, **kwds)\u001b[0m\n\u001b[0;32m   1617\u001b[0m     \u001b[38;5;28mself\u001b[39m\u001b[38;5;241m.\u001b[39moptions[\u001b[38;5;124m\"\u001b[39m\u001b[38;5;124mhas_index_names\u001b[39m\u001b[38;5;124m\"\u001b[39m] \u001b[38;5;241m=\u001b[39m kwds[\u001b[38;5;124m\"\u001b[39m\u001b[38;5;124mhas_index_names\u001b[39m\u001b[38;5;124m\"\u001b[39m]\n\u001b[0;32m   1619\u001b[0m \u001b[38;5;28mself\u001b[39m\u001b[38;5;241m.\u001b[39mhandles: IOHandles \u001b[38;5;241m|\u001b[39m \u001b[38;5;28;01mNone\u001b[39;00m \u001b[38;5;241m=\u001b[39m \u001b[38;5;28;01mNone\u001b[39;00m\n\u001b[1;32m-> 1620\u001b[0m \u001b[38;5;28mself\u001b[39m\u001b[38;5;241m.\u001b[39m_engine \u001b[38;5;241m=\u001b[39m \u001b[38;5;28mself\u001b[39m\u001b[38;5;241m.\u001b[39m_make_engine(f, \u001b[38;5;28mself\u001b[39m\u001b[38;5;241m.\u001b[39mengine)\n",
      "File \u001b[1;32mc:\\Users\\papad\\Anaconda3\\envs\\ada\\Lib\\site-packages\\pandas\\io\\parsers\\readers.py:1880\u001b[0m, in \u001b[0;36mTextFileReader._make_engine\u001b[1;34m(self, f, engine)\u001b[0m\n\u001b[0;32m   1878\u001b[0m     \u001b[38;5;28;01mif\u001b[39;00m \u001b[38;5;124m\"\u001b[39m\u001b[38;5;124mb\u001b[39m\u001b[38;5;124m\"\u001b[39m \u001b[38;5;129;01mnot\u001b[39;00m \u001b[38;5;129;01min\u001b[39;00m mode:\n\u001b[0;32m   1879\u001b[0m         mode \u001b[38;5;241m+\u001b[39m\u001b[38;5;241m=\u001b[39m \u001b[38;5;124m\"\u001b[39m\u001b[38;5;124mb\u001b[39m\u001b[38;5;124m\"\u001b[39m\n\u001b[1;32m-> 1880\u001b[0m \u001b[38;5;28mself\u001b[39m\u001b[38;5;241m.\u001b[39mhandles \u001b[38;5;241m=\u001b[39m get_handle(\n\u001b[0;32m   1881\u001b[0m     f,\n\u001b[0;32m   1882\u001b[0m     mode,\n\u001b[0;32m   1883\u001b[0m     encoding\u001b[38;5;241m=\u001b[39m\u001b[38;5;28mself\u001b[39m\u001b[38;5;241m.\u001b[39moptions\u001b[38;5;241m.\u001b[39mget(\u001b[38;5;124m\"\u001b[39m\u001b[38;5;124mencoding\u001b[39m\u001b[38;5;124m\"\u001b[39m, \u001b[38;5;28;01mNone\u001b[39;00m),\n\u001b[0;32m   1884\u001b[0m     compression\u001b[38;5;241m=\u001b[39m\u001b[38;5;28mself\u001b[39m\u001b[38;5;241m.\u001b[39moptions\u001b[38;5;241m.\u001b[39mget(\u001b[38;5;124m\"\u001b[39m\u001b[38;5;124mcompression\u001b[39m\u001b[38;5;124m\"\u001b[39m, \u001b[38;5;28;01mNone\u001b[39;00m),\n\u001b[0;32m   1885\u001b[0m     memory_map\u001b[38;5;241m=\u001b[39m\u001b[38;5;28mself\u001b[39m\u001b[38;5;241m.\u001b[39moptions\u001b[38;5;241m.\u001b[39mget(\u001b[38;5;124m\"\u001b[39m\u001b[38;5;124mmemory_map\u001b[39m\u001b[38;5;124m\"\u001b[39m, \u001b[38;5;28;01mFalse\u001b[39;00m),\n\u001b[0;32m   1886\u001b[0m     is_text\u001b[38;5;241m=\u001b[39mis_text,\n\u001b[0;32m   1887\u001b[0m     errors\u001b[38;5;241m=\u001b[39m\u001b[38;5;28mself\u001b[39m\u001b[38;5;241m.\u001b[39moptions\u001b[38;5;241m.\u001b[39mget(\u001b[38;5;124m\"\u001b[39m\u001b[38;5;124mencoding_errors\u001b[39m\u001b[38;5;124m\"\u001b[39m, \u001b[38;5;124m\"\u001b[39m\u001b[38;5;124mstrict\u001b[39m\u001b[38;5;124m\"\u001b[39m),\n\u001b[0;32m   1888\u001b[0m     storage_options\u001b[38;5;241m=\u001b[39m\u001b[38;5;28mself\u001b[39m\u001b[38;5;241m.\u001b[39moptions\u001b[38;5;241m.\u001b[39mget(\u001b[38;5;124m\"\u001b[39m\u001b[38;5;124mstorage_options\u001b[39m\u001b[38;5;124m\"\u001b[39m, \u001b[38;5;28;01mNone\u001b[39;00m),\n\u001b[0;32m   1889\u001b[0m )\n\u001b[0;32m   1890\u001b[0m \u001b[38;5;28;01massert\u001b[39;00m \u001b[38;5;28mself\u001b[39m\u001b[38;5;241m.\u001b[39mhandles \u001b[38;5;129;01mis\u001b[39;00m \u001b[38;5;129;01mnot\u001b[39;00m \u001b[38;5;28;01mNone\u001b[39;00m\n\u001b[0;32m   1891\u001b[0m f \u001b[38;5;241m=\u001b[39m \u001b[38;5;28mself\u001b[39m\u001b[38;5;241m.\u001b[39mhandles\u001b[38;5;241m.\u001b[39mhandle\n",
      "File \u001b[1;32mc:\\Users\\papad\\Anaconda3\\envs\\ada\\Lib\\site-packages\\pandas\\io\\common.py:873\u001b[0m, in \u001b[0;36mget_handle\u001b[1;34m(path_or_buf, mode, encoding, compression, memory_map, is_text, errors, storage_options)\u001b[0m\n\u001b[0;32m    868\u001b[0m \u001b[38;5;28;01melif\u001b[39;00m \u001b[38;5;28misinstance\u001b[39m(handle, \u001b[38;5;28mstr\u001b[39m):\n\u001b[0;32m    869\u001b[0m     \u001b[38;5;66;03m# Check whether the filename is to be opened in binary mode.\u001b[39;00m\n\u001b[0;32m    870\u001b[0m     \u001b[38;5;66;03m# Binary mode does not support 'encoding' and 'newline'.\u001b[39;00m\n\u001b[0;32m    871\u001b[0m     \u001b[38;5;28;01mif\u001b[39;00m ioargs\u001b[38;5;241m.\u001b[39mencoding \u001b[38;5;129;01mand\u001b[39;00m \u001b[38;5;124m\"\u001b[39m\u001b[38;5;124mb\u001b[39m\u001b[38;5;124m\"\u001b[39m \u001b[38;5;129;01mnot\u001b[39;00m \u001b[38;5;129;01min\u001b[39;00m ioargs\u001b[38;5;241m.\u001b[39mmode:\n\u001b[0;32m    872\u001b[0m         \u001b[38;5;66;03m# Encoding\u001b[39;00m\n\u001b[1;32m--> 873\u001b[0m         handle \u001b[38;5;241m=\u001b[39m \u001b[38;5;28mopen\u001b[39m(\n\u001b[0;32m    874\u001b[0m             handle,\n\u001b[0;32m    875\u001b[0m             ioargs\u001b[38;5;241m.\u001b[39mmode,\n\u001b[0;32m    876\u001b[0m             encoding\u001b[38;5;241m=\u001b[39mioargs\u001b[38;5;241m.\u001b[39mencoding,\n\u001b[0;32m    877\u001b[0m             errors\u001b[38;5;241m=\u001b[39merrors,\n\u001b[0;32m    878\u001b[0m             newline\u001b[38;5;241m=\u001b[39m\u001b[38;5;124m\"\u001b[39m\u001b[38;5;124m\"\u001b[39m,\n\u001b[0;32m    879\u001b[0m         )\n\u001b[0;32m    880\u001b[0m     \u001b[38;5;28;01melse\u001b[39;00m:\n\u001b[0;32m    881\u001b[0m         \u001b[38;5;66;03m# Binary mode\u001b[39;00m\n\u001b[0;32m    882\u001b[0m         handle \u001b[38;5;241m=\u001b[39m \u001b[38;5;28mopen\u001b[39m(handle, ioargs\u001b[38;5;241m.\u001b[39mmode)\n",
      "\u001b[1;31mFileNotFoundError\u001b[0m: [Errno 2] No such file or directory: 'data/our_movie_data_extended.csv'"
     ]
    }
   ],
   "source": [
    "#As an example, we run it on 2 plot\n",
    "sentiment_df = sentiment_analysis.sentiment_analysis_sentences(limit=2)\n",
    "sentiment_df"
   ]
  },
  {
   "cell_type": "markdown",
   "metadata": {},
   "source": [
    "As you see, we now have an emotion score for each sentence. The next is to make it comparable across movies. We remarked that the average plot length for now (before scraping) is about 20 sentences and chose 20 as the number of timesteps across a movie where we will consider the emotions. This number may change as the length of our overall plots augments. In the data, we now use simple interpolation and fill missing values with extrapolation to obtain the emotional evolution of movies across 20 points."
   ]
  },
  {
   "cell_type": "code",
   "execution_count": null,
   "metadata": {},
   "outputs": [
    {
     "name": "stderr",
     "output_type": "stream",
     "text": [
      "c:\\Users\\march\\anaconda3\\envs\\ada\\Lib\\site-packages\\scipy\\interpolate\\_interpolate.py:712: RuntimeWarning: invalid value encountered in divide\n",
      "  slope = (y_hi - y_lo) / (x_hi - x_lo)[:, None]\n"
     ]
    },
    {
     "data": {
      "text/html": [
       "<div>\n",
       "<style scoped>\n",
       "    .dataframe tbody tr th:only-of-type {\n",
       "        vertical-align: middle;\n",
       "    }\n",
       "\n",
       "    .dataframe tbody tr th {\n",
       "        vertical-align: top;\n",
       "    }\n",
       "\n",
       "    .dataframe thead th {\n",
       "        text-align: right;\n",
       "    }\n",
       "</style>\n",
       "<table border=\"1\" class=\"dataframe\">\n",
       "  <thead>\n",
       "    <tr style=\"text-align: right;\">\n",
       "      <th></th>\n",
       "      <th>anger</th>\n",
       "      <th>disgust</th>\n",
       "      <th>fear</th>\n",
       "      <th>joy</th>\n",
       "      <th>neutral</th>\n",
       "      <th>sadness</th>\n",
       "      <th>surprise</th>\n",
       "      <th>Wikipedia_movie_ID</th>\n",
       "      <th>timestep</th>\n",
       "    </tr>\n",
       "  </thead>\n",
       "  <tbody>\n",
       "    <tr>\n",
       "      <th>20</th>\n",
       "      <td>0.040454</td>\n",
       "      <td>0.007021</td>\n",
       "      <td>0.818398</td>\n",
       "      <td>0.002523</td>\n",
       "      <td>0.061496</td>\n",
       "      <td>0.003478</td>\n",
       "      <td>0.066630</td>\n",
       "      <td>3217</td>\n",
       "      <td>0</td>\n",
       "    </tr>\n",
       "    <tr>\n",
       "      <th>21</th>\n",
       "      <td>0.232376</td>\n",
       "      <td>0.408861</td>\n",
       "      <td>0.068319</td>\n",
       "      <td>0.002593</td>\n",
       "      <td>0.150711</td>\n",
       "      <td>0.128344</td>\n",
       "      <td>0.008796</td>\n",
       "      <td>3217</td>\n",
       "      <td>1</td>\n",
       "    </tr>\n",
       "    <tr>\n",
       "      <th>22</th>\n",
       "      <td>0.086556</td>\n",
       "      <td>0.400418</td>\n",
       "      <td>0.035418</td>\n",
       "      <td>0.320368</td>\n",
       "      <td>0.090185</td>\n",
       "      <td>0.046314</td>\n",
       "      <td>0.020742</td>\n",
       "      <td>3217</td>\n",
       "      <td>2</td>\n",
       "    </tr>\n",
       "    <tr>\n",
       "      <th>23</th>\n",
       "      <td>0.017997</td>\n",
       "      <td>0.084273</td>\n",
       "      <td>0.002142</td>\n",
       "      <td>0.323199</td>\n",
       "      <td>0.532759</td>\n",
       "      <td>0.013941</td>\n",
       "      <td>0.025689</td>\n",
       "      <td>3217</td>\n",
       "      <td>3</td>\n",
       "    </tr>\n",
       "    <tr>\n",
       "      <th>24</th>\n",
       "      <td>0.016314</td>\n",
       "      <td>0.049796</td>\n",
       "      <td>0.009207</td>\n",
       "      <td>0.014102</td>\n",
       "      <td>0.860136</td>\n",
       "      <td>0.041091</td>\n",
       "      <td>0.009353</td>\n",
       "      <td>3217</td>\n",
       "      <td>4</td>\n",
       "    </tr>\n",
       "    <tr>\n",
       "      <th>25</th>\n",
       "      <td>0.009452</td>\n",
       "      <td>0.018085</td>\n",
       "      <td>0.068621</td>\n",
       "      <td>0.036484</td>\n",
       "      <td>0.477986</td>\n",
       "      <td>0.382164</td>\n",
       "      <td>0.007207</td>\n",
       "      <td>3217</td>\n",
       "      <td>5</td>\n",
       "    </tr>\n",
       "    <tr>\n",
       "      <th>26</th>\n",
       "      <td>0.010108</td>\n",
       "      <td>0.007101</td>\n",
       "      <td>0.719488</td>\n",
       "      <td>0.204552</td>\n",
       "      <td>0.045629</td>\n",
       "      <td>0.006602</td>\n",
       "      <td>0.006521</td>\n",
       "      <td>3217</td>\n",
       "      <td>6</td>\n",
       "    </tr>\n",
       "    <tr>\n",
       "      <th>27</th>\n",
       "      <td>0.120718</td>\n",
       "      <td>0.165876</td>\n",
       "      <td>0.084803</td>\n",
       "      <td>0.409418</td>\n",
       "      <td>0.103597</td>\n",
       "      <td>0.110009</td>\n",
       "      <td>0.005578</td>\n",
       "      <td>3217</td>\n",
       "      <td>7</td>\n",
       "    </tr>\n",
       "    <tr>\n",
       "      <th>28</th>\n",
       "      <td>0.146809</td>\n",
       "      <td>0.604750</td>\n",
       "      <td>0.062461</td>\n",
       "      <td>0.002435</td>\n",
       "      <td>0.102097</td>\n",
       "      <td>0.074810</td>\n",
       "      <td>0.006639</td>\n",
       "      <td>3217</td>\n",
       "      <td>8</td>\n",
       "    </tr>\n",
       "    <tr>\n",
       "      <th>29</th>\n",
       "      <td>0.022271</td>\n",
       "      <td>0.170628</td>\n",
       "      <td>0.010483</td>\n",
       "      <td>0.003933</td>\n",
       "      <td>0.522641</td>\n",
       "      <td>0.042434</td>\n",
       "      <td>0.227610</td>\n",
       "      <td>3217</td>\n",
       "      <td>9</td>\n",
       "    </tr>\n",
       "    <tr>\n",
       "      <th>30</th>\n",
       "      <td>0.013173</td>\n",
       "      <td>0.021961</td>\n",
       "      <td>0.002972</td>\n",
       "      <td>0.011096</td>\n",
       "      <td>0.919574</td>\n",
       "      <td>0.008074</td>\n",
       "      <td>0.023150</td>\n",
       "      <td>3217</td>\n",
       "      <td>10</td>\n",
       "    </tr>\n",
       "    <tr>\n",
       "      <th>31</th>\n",
       "      <td>0.061747</td>\n",
       "      <td>0.366028</td>\n",
       "      <td>0.028962</td>\n",
       "      <td>0.003348</td>\n",
       "      <td>0.502014</td>\n",
       "      <td>0.028536</td>\n",
       "      <td>0.009364</td>\n",
       "      <td>3217</td>\n",
       "      <td>11</td>\n",
       "    </tr>\n",
       "    <tr>\n",
       "      <th>32</th>\n",
       "      <td>0.034653</td>\n",
       "      <td>0.376203</td>\n",
       "      <td>0.528941</td>\n",
       "      <td>0.001548</td>\n",
       "      <td>0.035427</td>\n",
       "      <td>0.017737</td>\n",
       "      <td>0.005491</td>\n",
       "      <td>3217</td>\n",
       "      <td>12</td>\n",
       "    </tr>\n",
       "    <tr>\n",
       "      <th>33</th>\n",
       "      <td>0.092098</td>\n",
       "      <td>0.087798</td>\n",
       "      <td>0.255207</td>\n",
       "      <td>0.007178</td>\n",
       "      <td>0.484561</td>\n",
       "      <td>0.071147</td>\n",
       "      <td>0.002011</td>\n",
       "      <td>3217</td>\n",
       "      <td>13</td>\n",
       "    </tr>\n",
       "    <tr>\n",
       "      <th>34</th>\n",
       "      <td>0.138081</td>\n",
       "      <td>0.200495</td>\n",
       "      <td>0.120315</td>\n",
       "      <td>0.005640</td>\n",
       "      <td>0.308382</td>\n",
       "      <td>0.171071</td>\n",
       "      <td>0.056016</td>\n",
       "      <td>3217</td>\n",
       "      <td>14</td>\n",
       "    </tr>\n",
       "    <tr>\n",
       "      <th>35</th>\n",
       "      <td>0.062053</td>\n",
       "      <td>0.061494</td>\n",
       "      <td>0.014659</td>\n",
       "      <td>0.036686</td>\n",
       "      <td>0.806941</td>\n",
       "      <td>0.013460</td>\n",
       "      <td>0.004708</td>\n",
       "      <td>3217</td>\n",
       "      <td>15</td>\n",
       "    </tr>\n",
       "    <tr>\n",
       "      <th>36</th>\n",
       "      <td>0.036162</td>\n",
       "      <td>0.051692</td>\n",
       "      <td>0.002806</td>\n",
       "      <td>0.258092</td>\n",
       "      <td>0.637437</td>\n",
       "      <td>0.005192</td>\n",
       "      <td>0.008620</td>\n",
       "      <td>3217</td>\n",
       "      <td>16</td>\n",
       "    </tr>\n",
       "    <tr>\n",
       "      <th>37</th>\n",
       "      <td>0.042100</td>\n",
       "      <td>0.373981</td>\n",
       "      <td>0.017044</td>\n",
       "      <td>0.164810</td>\n",
       "      <td>0.353749</td>\n",
       "      <td>0.032616</td>\n",
       "      <td>0.015700</td>\n",
       "      <td>3217</td>\n",
       "      <td>17</td>\n",
       "    </tr>\n",
       "    <tr>\n",
       "      <th>38</th>\n",
       "      <td>0.022704</td>\n",
       "      <td>0.152857</td>\n",
       "      <td>0.013379</td>\n",
       "      <td>0.023999</td>\n",
       "      <td>0.662913</td>\n",
       "      <td>0.020137</td>\n",
       "      <td>0.104011</td>\n",
       "      <td>3217</td>\n",
       "      <td>18</td>\n",
       "    </tr>\n",
       "    <tr>\n",
       "      <th>39</th>\n",
       "      <td>0.017756</td>\n",
       "      <td>0.816511</td>\n",
       "      <td>0.072793</td>\n",
       "      <td>0.001832</td>\n",
       "      <td>0.073305</td>\n",
       "      <td>0.011063</td>\n",
       "      <td>0.006739</td>\n",
       "      <td>3217</td>\n",
       "      <td>19</td>\n",
       "    </tr>\n",
       "  </tbody>\n",
       "</table>\n",
       "</div>"
      ],
      "text/plain": [
       "       anger   disgust      fear       joy   neutral   sadness  surprise  \\\n",
       "20  0.040454  0.007021  0.818398  0.002523  0.061496  0.003478  0.066630   \n",
       "21  0.232376  0.408861  0.068319  0.002593  0.150711  0.128344  0.008796   \n",
       "22  0.086556  0.400418  0.035418  0.320368  0.090185  0.046314  0.020742   \n",
       "23  0.017997  0.084273  0.002142  0.323199  0.532759  0.013941  0.025689   \n",
       "24  0.016314  0.049796  0.009207  0.014102  0.860136  0.041091  0.009353   \n",
       "25  0.009452  0.018085  0.068621  0.036484  0.477986  0.382164  0.007207   \n",
       "26  0.010108  0.007101  0.719488  0.204552  0.045629  0.006602  0.006521   \n",
       "27  0.120718  0.165876  0.084803  0.409418  0.103597  0.110009  0.005578   \n",
       "28  0.146809  0.604750  0.062461  0.002435  0.102097  0.074810  0.006639   \n",
       "29  0.022271  0.170628  0.010483  0.003933  0.522641  0.042434  0.227610   \n",
       "30  0.013173  0.021961  0.002972  0.011096  0.919574  0.008074  0.023150   \n",
       "31  0.061747  0.366028  0.028962  0.003348  0.502014  0.028536  0.009364   \n",
       "32  0.034653  0.376203  0.528941  0.001548  0.035427  0.017737  0.005491   \n",
       "33  0.092098  0.087798  0.255207  0.007178  0.484561  0.071147  0.002011   \n",
       "34  0.138081  0.200495  0.120315  0.005640  0.308382  0.171071  0.056016   \n",
       "35  0.062053  0.061494  0.014659  0.036686  0.806941  0.013460  0.004708   \n",
       "36  0.036162  0.051692  0.002806  0.258092  0.637437  0.005192  0.008620   \n",
       "37  0.042100  0.373981  0.017044  0.164810  0.353749  0.032616  0.015700   \n",
       "38  0.022704  0.152857  0.013379  0.023999  0.662913  0.020137  0.104011   \n",
       "39  0.017756  0.816511  0.072793  0.001832  0.073305  0.011063  0.006739   \n",
       "\n",
       "    Wikipedia_movie_ID  timestep  \n",
       "20                3217         0  \n",
       "21                3217         1  \n",
       "22                3217         2  \n",
       "23                3217         3  \n",
       "24                3217         4  \n",
       "25                3217         5  \n",
       "26                3217         6  \n",
       "27                3217         7  \n",
       "28                3217         8  \n",
       "29                3217         9  \n",
       "30                3217        10  \n",
       "31                3217        11  \n",
       "32                3217        12  \n",
       "33                3217        13  \n",
       "34                3217        14  \n",
       "35                3217        15  \n",
       "36                3217        16  \n",
       "37                3217        17  \n",
       "38                3217        18  \n",
       "39                3217        19  "
      ]
     },
     "execution_count": 10,
     "metadata": {},
     "output_type": "execute_result"
    }
   ],
   "source": [
    "interpolated_data = sentiment_analyis.interpolate_df(sentiment_df)\n",
    "interpolated_data.dropna(inplace=True)\n",
    "interpolated_data"
   ]
  },
  {
   "cell_type": "markdown",
   "metadata": {},
   "source": [
    "Now that we have this, it is easy to groupby anything we would want (continent, category, revenue etc etc) and we will show our preliminary results."
   ]
  },
  {
   "cell_type": "markdown",
   "metadata": {},
   "source": [
    "#### Technical notes on runtime"
   ]
  },
  {
   "cell_type": "markdown",
   "metadata": {},
   "source": [
    "We have evaluated our pipeline over 5000 thousand films only for now in order to make sure that it runs smoothly and to see if we obtained results that are interesting. Running 5000 movies on a google colab notebook with an A100 GPU takes about 10-13 minutes, so we estimate that after data scraping and we will most likely evaluate about 80% of the dataset, which is about 60'000 movies for an estimated runtime of 2-3 hours.\n",
    "\n",
    "The following results are therefore only a 5000 movies subset but we expect trends to generalize."
   ]
  },
  {
   "cell_type": "markdown",
   "metadata": {},
   "source": [
    "### PCA/clustering"
   ]
  },
  {
   "cell_type": "markdown",
   "metadata": {},
   "source": [
    "### K-shape clustering"
   ]
  },
  {
   "cell_type": "markdown",
   "metadata": {},
   "source": [
    "## Patterns in film sentiment "
   ]
  },
  {
   "cell_type": "markdown",
   "metadata": {},
   "source": [
    "How do emotions progress over the course of a movie? "
   ]
  },
  {
   "cell_type": "markdown",
   "metadata": {},
   "source": [
    "<img src=\"src/scripts/plots/results/evol_emotion.png\" alt=\"box off per cat\" width=\"800\">"
   ]
  },
  {
   "cell_type": "markdown",
   "metadata": {},
   "source": [
    "<img src=\"src/scripts/plots/results/norm_emotion.png\" alt=\"box off per cat\" width=\"800\">"
   ]
  },
  {
   "cell_type": "markdown",
   "metadata": {},
   "source": [
    "The first graph shows the averaged evolution of emotions over the course of a movie, with neutral emotions being the most prominent and steadily increasing toward the end. Disgust, on the other hand, maintains a consistent presence throughout the movie. The second graph, which normalizes the emotions, reveals more dynamic changes, with surprise and fear peaking early on and then declining, while neutral emotions gradually dominate as the movie progresses. These trends reflect typical emotional pacing in storytelling, balancing tension and resolution."
   ]
  },
  {
   "cell_type": "markdown",
   "metadata": {},
   "source": [
    "Now, let's take a closer look at each emotion."
   ]
  },
  {
   "cell_type": "markdown",
   "metadata": {},
   "source": [
    "<img src=\"src\\scripts\\plots\\sentiment_analysis\\Normalized_Evolution_of_Anger_across_Timesteps_for_Each_Genre.png\" alt=\"box off per cat\" width=\"850\">"
   ]
  },
  {
   "cell_type": "markdown",
   "metadata": {},
   "source": [
    "<img src=\"src\\scripts\\plots\\sentiment_analysis\\Normalized_Evolution_of_Disgust_across_Timesteps_for_Each_Genre.png\" alt=\"box off per cat\" width=\"850\">"
   ]
  },
  {
   "cell_type": "markdown",
   "metadata": {},
   "source": [
    "<img src=\"src\\scripts\\plots\\sentiment_analysis\\Normalized_Evolution_of_Fear_across_Timesteps_for_Each_Genre.png\" alt=\"box off per cat\" width=\"850\">"
   ]
  },
  {
   "cell_type": "markdown",
   "metadata": {},
   "source": [
    "<img src=\"src\\scripts\\plots\\sentiment_analysis\\Normalized_Evolution_of_Sadness_across_Timesteps_for_Each_Genre.png\" alt=\"box off per cat\" width=\"850\">"
   ]
  },
  {
   "cell_type": "markdown",
   "metadata": {},
   "source": [
    "<img src=\"src\\scripts\\plots\\sentiment_analysis\\Normalized_Evolution_of_Joy_across_Timesteps_for_Each_Genre.png\" alt=\"box off per cat\" width=\"850\">"
   ]
  },
  {
   "cell_type": "markdown",
   "metadata": {},
   "source": [
    "<img src=\"src\\scripts\\plots\\sentiment_analysis\\Normalized_Evolution_of_Surprise_across_Timesteps_for_Each_Genre.png\" alt=\"box off per cat\" width=\"850\">"
   ]
  },
  {
   "cell_type": "markdown",
   "metadata": {},
   "source": [
    "<img src=\"src\\scripts\\plots\\sentiment_analysis\\Normalized_Evolution_of_Neutral_across_Timesteps_for_Each_Genre.png\" alt=\"box off per cat\" width=\"850\">"
   ]
  },
  {
   "cell_type": "markdown",
   "metadata": {},
   "source": [
    "No matter the genre, the evolution of emotions follows a similar pattern. Negative emotions like anger, fear, and disgust tend to rise during the first half of a movie, building tension, while emotions like neutrality and joy increase towards the end, reflecting narrative resolution. This consistency suggests that filmmakers across genres rely on a common emotional arc to engage audiences."
   ]
  },
  {
   "cell_type": "markdown",
   "metadata": {},
   "source": [
    "### Evolution of emotions across continents"
   ]
  },
  {
   "cell_type": "markdown",
   "metadata": {},
   "source": [
    "Does it differ across continents?"
   ]
  },
  {
   "cell_type": "markdown",
   "metadata": {},
   "source": [
    "<img src=\"src\\scripts\\plots\\sentiment_analysis\\Normalized_Evolution_of_Emotions_across_Timesteps_in_North_America.png\" alt=\"box off per cat\" width=\"1600\">"
   ]
  },
  {
   "cell_type": "markdown",
   "metadata": {},
   "source": [
    "<img src=\"src\\scripts\\plots\\sentiment_analysis\\Normalized_Evolution_of_Emotions_across_Timesteps_in_Europe.png\" alt=\"box off per cat\" width=\"1600\">"
   ]
  },
  {
   "cell_type": "markdown",
   "metadata": {},
   "source": [
    "<img src=\"src\\scripts\\plots\\sentiment_analysis\\Normalized_Evolution_of_Emotions_across_Timesteps_in_Asia.png\" alt=\"box off per cat\" width=\"1600\">"
   ]
  },
  {
   "cell_type": "markdown",
   "metadata": {},
   "source": [
    "<img src=\"src\\scripts\\plots\\sentiment_analysis\\Normalized_Evolution_of_Emotions_across_Timesteps_in_Oceania.png\" alt=\"box off per cat\" width=\"1600\">"
   ]
  },
  {
   "cell_type": "markdown",
   "metadata": {},
   "source": [
    "Across North America, Europe, Asia, and Oceania, movies follow a consistent emotional pattern: negative emotions like anger, disgust, and fear rise early to build tension, while joy and neutrality increase toward the end, signaling resolution. Sadness dips mid-story but often peaks near the conclusion, aligning with emotional climaxes. \n",
    "\n",
    "We can also observe that North America follows a fixed emotional pattern, with steady rises and falls in emotions. It may be due to the bigger amount of films in that region."
   ]
  },
  {
   "cell_type": "markdown",
   "metadata": {},
   "source": [
    "<img src=\"src\\scripts\\plots\\sentiment_analysis\\Normalized_Evolution_of_Emotions_across_Timesteps_in_South_America.png\" alt=\"box off per cat\" width=\"1600\">"
   ]
  },
  {
   "cell_type": "markdown",
   "metadata": {},
   "source": [
    "<img src=\"src\\scripts\\plots\\sentiment_analysis\\Normalized_Evolution_of_Emotions_across_Timesteps_in_Africa.png\" alt=\"box off per cat\" width=\"1600\">"
   ]
  },
  {
   "cell_type": "markdown",
   "metadata": {},
   "source": [
    "We can note that the results for South America and Africa might be different from the four other continents because we lacks data for these two."
   ]
  },
  {
   "cell_type": "markdown",
   "metadata": {},
   "source": [
    "## Historical analysis"
   ]
  },
  {
   "cell_type": "markdown",
   "metadata": {},
   "source": [
    "### The Impact of Color and Sound on Early Cinema"
   ]
  },
  {
   "cell_type": "markdown",
   "metadata": {},
   "source": [
    "The evolution of emotions in movies provides valuable insight into how storytelling adapts to technological advancements and societal changes. By examining key emotional trends across two periods: before 1922 and between 1930 and 1940, we stopped our analysis at 1940 to ensure that any changes in emotions would not be influenced by World War II. We aim to understand how the introduction of sound and color influenced emotional representation in films. The first set of graphs presents the normalized evolution of seven emotions: anger, disgust, fear, joy, neutral, sadness, and surprise."
   ]
  },
  {
   "cell_type": "markdown",
   "metadata": {},
   "source": [
    "<img src=\"src/scripts/plots/results/1922_full.png\" alt=\"box off per cat\" width=\"1000\">"
   ]
  },
  {
   "cell_type": "markdown",
   "metadata": {},
   "source": [
    "<img src=\"src/scripts/plots/results/1930_full.png\" alt=\"box off per cat\" width=\"1000\">"
   ]
  },
  {
   "cell_type": "markdown",
   "metadata": {},
   "source": [
    "From the initial graphs, we identified joy, fear, disgust, sadness, and surprise as the emotions with the most significant differences between the two periods. These emotions showed distinct trends that warranted deeper analysis, as they appeared to be the most impacted by technological and cultural shifts. In contrast, anger and neutral exhibited relatively stable patterns and were excluded from further analysis."
   ]
  },
  {
   "cell_type": "markdown",
   "metadata": {},
   "source": [
    "<img src=\"src/scripts/plots/results/1922_part.png\" alt=\"box off per cat\" width=\"1000\">"
   ]
  },
  {
   "cell_type": "markdown",
   "metadata": {},
   "source": [
    "<img src=\"src/scripts/plots/results/1930_part.png\" alt=\"box off per cat\" width=\"1000\">"
   ]
  },
  {
   "cell_type": "markdown",
   "metadata": {},
   "source": [
    "The second set of graphs focuses exclusively on the five selected emotions, offering a clearer view of how their trajectories evolved:\n",
    "\n",
    "- Joy shows a muted presence before 1922, with a sharp increase towards the end. Between 1930 and 1940, it fluctuates more dynamically, reflecting changes in storytelling enabled by sound and color.\n",
    "- Fear maintains a consistent peak near the middle of the timeline in both periods but displays greater variation in the later era, likely due to enhanced audio techniques that heightened suspense.\n",
    "- Disgust declines more sharply before 1922, indicating its earlier prevalence in silent films, possibly as a visual tool for evoking moral or visceral reactions.\n",
    "- Sadness demonstrates higher variability and intensity before 1922.\n",
    "- Surprise rises significantly in the later period, benefiting from plot twists and sound effects that amplified its impact.\n",
    "\n",
    "This focused analysis highlights how the adoption of sound and color reshaped the emotional arcs in movies, making them more dynamic and nuanced."
   ]
  },
  {
   "cell_type": "markdown",
   "metadata": {},
   "source": [
    "### Impact of WW1"
   ]
  },
  {
   "cell_type": "markdown",
   "metadata": {},
   "source": [
    "World War I was a transformative event that left a profound imprint on all aspects of society, including cinema. To evaluate how this global conflict shaped the emotional tone of movies, we examined the evolution of seven emotions—anger, disgust, fear, joy, neutral, sadness, and surprise—in films released before 1914 and during the war years (1914–1922). The first set of graphs provides a comparative view of these emotional dynamics over time."
   ]
  },
  {
   "cell_type": "markdown",
   "metadata": {},
   "source": [
    "<img src=\"src/scripts/plots/results/1914_full.png\" alt=\"box off per cat\" width=\"1000\">"
   ]
  },
  {
   "cell_type": "markdown",
   "metadata": {},
   "source": [
    "<img src=\"src/scripts/plots/results/1914_22_full.png\" alt=\"box off per cat\" width=\"1000\">"
   ]
  },
  {
   "cell_type": "markdown",
   "metadata": {},
   "source": [
    "Upon reviewing the initial graphs, it becomes clear that disgust and fear display the most pronounced changes between the two periods. While other emotions exhibit minor fluctuations, the stark variations in these two emotions are particularly noteworthy. This suggests that the context of war may have specifically influenced how filmmakers used these emotions to convey narratives. To gain deeper insights, we focused on the trends of disgust and fear, isolating them in subsequent visualizations."
   ]
  },
  {
   "cell_type": "markdown",
   "metadata": {},
   "source": [
    "<img src=\"src/scripts/plots/results/1914_part.png\" alt=\"box off per cat\" width=\"700\">"
   ]
  },
  {
   "cell_type": "markdown",
   "metadata": {},
   "source": [
    "<img src=\"src/scripts/plots/results/1914_22_part.png\" alt=\"box off per cat\" width=\"700\">"
   ]
  },
  {
   "cell_type": "markdown",
   "metadata": {},
   "source": [
    "The focused graphs reveal distinct patterns for these emotions. Disgust shows a consistent decline before 1914, followed by a steeper drop during the war years. This may indicate a societal shift in tolerance for graphic depictions or an intentional effort by filmmakers to avoid overly unsettling themes during a time of widespread trauma. Conversely, fear exhibits a significant rise during the wartime period, peaking more consistently. This trend likely mirrors the pervasive anxiety and dread experienced by audiences during the war, as filmmakers sought to capture and reflect the heightened emotional state of the time."
   ]
  },
  {
   "cell_type": "markdown",
   "metadata": {},
   "source": [
    "### Impact of 9/11"
   ]
  },
  {
   "cell_type": "markdown",
   "metadata": {},
   "source": [
    "To analyze the emotional impact of the 9/11 attacks on cinema, we focused exclusively on movies produced in the United States. By examining films from two time periods—1998 to 2000 (pre-9/11) and 2001 to 2003 (post-9/11)—we aimed to minimize the influence of other events and isolate the effects of this pivotal moment. The analysis tracks the normalized evolution of emotions such as anger, disgust, fear, joy, neutral, sadness, and surprise across different genres, providing a detailed view of how storytelling may have shifted during this era."
   ]
  },
  {
   "cell_type": "markdown",
   "metadata": {},
   "source": [
    "<img src=\"src/scripts/plots/results/Before_911_full.png\" alt=\"box off per cat\" width=\"1400\">"
   ]
  },
  {
   "cell_type": "markdown",
   "metadata": {},
   "source": [
    "<img src=\"src/scripts/plots/results/After_911_full.png\" alt=\"box off per cat\" width=\"1400\">"
   ]
  },
  {
   "cell_type": "markdown",
   "metadata": {},
   "source": [
    "From the first set of graphs, we notice that sadness shows distinct variations before and after 9/11, particularly in the genres of romance and family/animation. This observation led us to narrow our focus to these two genres, as they displayed the most striking emotional shifts. Sadness in family/animation films appears to decrease after the attacks, reflecting a potential trend toward lighter, more uplifting narratives for younger audiences. Conversely, sadness rises in romance films, suggesting a deeper exploration of emotional vulnerability and connection in response to societal grief.\n",
    "\n",
    "To better understand these patterns, we plotted the evolution of sadness specifically for these two genres before and after 9/11."
   ]
  },
  {
   "cell_type": "markdown",
   "metadata": {},
   "source": [
    "<img src=\"src/scripts/plots/results/911_part.png\" alt=\"box off per cat\" width=\"900\">"
   ]
  },
  {
   "cell_type": "markdown",
   "metadata": {},
   "source": [
    "The final graphs reveal contrasting trends. Sadness in family/animation films declines sharply post-9/11, likely reflecting an industry-wide attempt to provide escapism and comfort to audiences. In contrast, sadness in romance films increases during the same period, suggesting a shift toward more poignant and reflective storytelling that resonates with societal mourning. These findings underscore the varied emotional responses of different genres to the same historical event, highlighting the adaptive nature of cinema in addressing collective emotions."
   ]
  },
  {
   "cell_type": "markdown",
   "metadata": {},
   "source": [
    "## Correlation between emotions and ratings"
   ]
  },
  {
   "cell_type": "markdown",
   "metadata": {},
   "source": [
    "# Conclusion\n",
    "\n",
    "Our analysis provides an in-depth exploration of cinema-related data, focusing on various dimensions such as genre distribution, gender representation, box office trends, and the evolution of emotions in movies. The insights gained highlight several key aspects of the film industry while revealing areas where data limitations affect our conclusions.\n",
    "\n",
    "#### Key Findings:\n",
    "1. **Data Cleaning and Enrichment**:\n",
    "   - A significant portion of the original dataset, including movie summaries and box office data, contained missing or incomplete values.\n",
    "   - Through web scraping, we successfully enriched the dataset, reducing missing values by over 25% for box office data and improving the average quality of movie summaries.\n",
    "\n",
    "2. **Emotional Evolution in Movies**:\n",
    "   - Emotions in movies follow a consistent narrative arc across genres and continents:\n",
    "     - Negative emotions such as anger, fear, and disgust rise during the initial stages, building tension.\n",
    "     - Joy and neutrality increase toward the conclusion, reflecting narrative resolution.\n",
    "   - The trends suggest that filmmakers across the globe rely on a shared emotional structure to engage audiences.\n",
    "\n",
    "3. **Genre and Geographic Trends**:\n",
    "   - Drama dominates globally, accounting for 26% of films, followed by comedy and thriller.\n",
    "   - North America leads in film production, contributing the majority of the dataset, with Europe and Asia trailing behind. Other continents, such as South America and Africa, are underrepresented, limiting our ability to generalize findings for these regions.\n",
    "\n",
    "4. **Box Office Performance**:\n",
    "   - Our attempt to predict box office performance using a Random Forest Regressor yielded a low R-squared score of 0.124, indicating that the selected features (release date, runtime, categories, continent, and mean emotions) are insufficient for accurate prediction.\n",
    "   - The limited predictive power suggests that other factors, such as marketing budgets, star power, and audience reception, likely play a significant role in box office success.\n",
    "\n",
    "#### Limitations:\n",
    "- **Data Imbalance**: The overrepresentation of North American films skews global trends, making it difficult to draw conclusions for underrepresented regions.\n",
    "- **Feature Limitations**: Emotional arcs and basic film metadata, while insightful, are not strong predictors of box office performance without additional contextual factors.\n",
    "- **Incomplete Data**: Despite web scraping, some gaps remain, particularly for smaller film industries in South America and Africa.\n",
    "\n",
    "#### Next Steps:\n",
    "1. **Expand the Dataset**: Further scraping and validation for missing data, particularly in underrepresented regions, could improve the robustness of the analysis.\n",
    "2. **Explore Advanced Models**: Incorporating advanced machine learning models could enhance box office prediction.\n",
    "3. **Conduct Detailed Analyses**: Focused investigations into differences across genres, time, and continents could uncover unique patterns in movie dynamics. Additionally, examining the relationship between emotions and factors such as box office performance, reviews, and awards may provide deeper insights into how storytelling elements influence audience reception and commercial success.\n",
    "\n",
    "\n",
    "In conclusion, this work lays a foundation for understanding emotional storytelling and genre trends in global cinema, while identifying areas for future research and data enrichment. The results emphasize the universal appeal of emotional arcs in movies and the challenges of predicting commercial success in such a complex and multi-faceted industry.\n"
   ]
  }
 ],
 "metadata": {
  "kernelspec": {
   "display_name": "Python 3 (ipykernel)",
   "language": "python",
   "name": "python3"
  },
  "language_info": {
   "codemirror_mode": {
    "name": "ipython",
    "version": 3
   },
   "file_extension": ".py",
   "mimetype": "text/x-python",
   "name": "python",
   "nbconvert_exporter": "python",
   "pygments_lexer": "ipython3",
   "version": "3.8.10"
  }
 },
 "nbformat": 4,
 "nbformat_minor": 2
}

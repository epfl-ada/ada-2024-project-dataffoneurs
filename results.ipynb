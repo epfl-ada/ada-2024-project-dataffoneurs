{
 "cells": [
  {
   "cell_type": "markdown",
   "metadata": {},
   "source": [
    "# Key Findings from Our Preliminary Analysis"
   ]
  },
  {
   "cell_type": "code",
   "execution_count": null,
   "execution_count": 5,
   "metadata": {},
   "outputs": [],
   "source": [
    "import pandas as pd\n",
    "from src.scripts import data_cleaning\n",
    "from src.scripts import data_modification\n",
    "from src.scripts import cluster_mean_emotion as cme\n",
    "from src.scripts import sentiment_analysis"
   ]
  },
  {
   "cell_type": "markdown",
   "metadata": {},
   "source": [
    "This analysis dives into various aspects of cinema data, exploring questions such as the distribution of movie genres, gender representation over decades, and the emotions expressed in films. We focus mostly on movie related data for our project since it is our main focus point, however, we did also clean and browse character and actor data in case we decide that we want to include them for any reason. \n",
    "\n",
    "We have decided to only report images of our plots without the code to avoid cluttering this notebook but in case you would need it, you can find all related code and the plots in the src/scripts/notebook folder for a detailed step-by-step walkthrough. Concerning functional data pipelines like data cleaning, sentiment analysis and data modifications, we will call them from this notebook to give an idea of what the dataframes we work with look like. The scripts are located in src/scripts."
   ]
  },
  {
   "cell_type": "markdown",
   "metadata": {},
   "source": [
    "## What’s in the data?"
   ]
  },
  {
   "cell_type": "markdown",
   "metadata": {},
   "source": [
    "### Data cleaning"
   ]
  },
  {
   "cell_type": "markdown",
   "metadata": {},
   "source": [
    "As a first step, we tried to thoroughly clean the data in its entirety but especially plot summaries and movie related data. We removed tags, citations and most of weird characters from the movie summaries. We unified dates and in some cases removed the complete dates to keep only the year. We cleaned box office data by removing strings or changing them into numerical values and checked the bounds on some field (for example age should not be negative). We removed ids and columns we will mostly not use."
   ]
  },
  {
   "cell_type": "code",
   "execution_count": null,
   "metadata": {},
   "outputs": [],
   "source": [
    "cleaned_data_movie = data_cleaning.movie_data_cleaning_pipeline()\n",
    "print(cleaned_data_movie.columns)\n",
    "cleaned_data_movie.sample(1)"
   ]
  },
  {
   "cell_type": "code",
   "execution_count": null,
   "metadata": {},
   "outputs": [],
   "source": [
    "cleaned_data_movie.describe()"
   ]
  },
  {
   "cell_type": "code",
   "execution_count": null,
   "metadata": {},
   "outputs": [],
   "source": [
    "clean_character_data = data_cleaning.character_data_cleaning_pipeline()\n",
    "print(clean_character_data.columns)\n",
    "clean_character_data.sample(1)"
   ]
  },
  {
   "cell_type": "markdown",
   "metadata": {},
   "source": [
    "### Missing values"
   ]
  },
  {
   "cell_type": "markdown",
   "metadata": {},
   "source": [
    "<img src=\"src/scripts/plots/movie_exploration/Percentage_of_Missing_Data_for_Movie_Characteristics.png\" alt=\"box off per cat\" width=\"700\">"
   ]
  },
  {
   "cell_type": "markdown",
   "metadata": {},
   "source": [
    "<img src=\"src/scripts/plots/actor_exploration/Percentage_of_Missing_Data_for_Actor_Characteristics.png\" alt=\"box off per cat\" width=\"700\">\n"
   ]
  },
  {
   "cell_type": "markdown",
   "metadata": {},
   "source": [
    "These visualizations highlight the percentage of missing data for both movie and actor characteristics. Some key insights from these two plots are that some categories, like movie summaries, have significant gaps that could affect our following analysis. Since our main points of interest are summaries and ratings, we used scraping to remediate the situation. Initially, we considered using box office revenue to evaluate the success of a movie. However, after further deliberation, we decided it wasn’t the most reliable metric for assessing success due to its dependence on external factors like marketing and distribution. Instead, we opted to use ratings as a more representative measure of audience perception and movie quality. Unfortunately, ratings were missing in our dataset, necessitating additional scraping."
   ]
  },
  {
   "cell_type": "markdown",
   "metadata": {},
   "source": [
    "<img src=\"src/scripts/plots/movie_exploration/Distribution_of_the_summary_that_have_length_inf_to_5000_and_1000.png\" alt=\"box off per cat\" width=\"900\">"
   ]
  },
  {
   "cell_type": "markdown",
   "metadata": {},
   "source": [
    "Digging deeper into the plot summaries data, we can observe that a certain amount of summary have less than 200 words. To thoroughly analyze emotion evolution throughout the summaries, we decided to decide on a cutoff value and scrape both missing plots from Wikipiedia when possible and summaries that are to short.\n"
   ]
  },
  {
   "cell_type": "markdown",
   "metadata": {},
   "source": [
    "### Web-Scraping"
   ]
  },
  {
   "cell_type": "markdown",
   "metadata": {},
   "source": [
    "As observed in the various plots, approximately 40% of film summaries and all of the ratings are missing, both of which are critical for our analysis. To address these gaps in the original CMU dataset, we have decided to supplement it with additional information from the films' Wikipedia pages.\n",
    "\n",
    "Our focus is on films with missing or very short summaries (fewer than 200 words), for which we retrieve more detailed summaries from Wikipedia. This approach ensures that the sentiment analysis performed later has a sufficiently robust dataset to yield meaningful insights. Additionally, since predicting the success of a movie is a key objective, we also scrape ratings data from Wikipedia to enrich the dataset.\n",
    "\n",
    "The results presented here reflect the outcome of scraping applied to a sample of 2,000 films from the CMU dataset. This process enriches our data, specifically targeting films with incomplete summaries (replacing those under 200 words with the Wikipedia entry) and adding ratings."
   ]
  },
  {
   "cell_type": "markdown",
   "metadata": {},
   "source": [
    "<img src=\"src\\scripts\\plots\\results\\summary_lenghts_comparison.png\" alt=\"Dist plots\" width=\"1100\"/>"
   ]
  },
  {
   "cell_type": "markdown",
   "metadata": {},
   "source": [
    "Here, we present the distribution of summary lengths for the original CMU dataset (labeled \"Before\") alongside the enriched CMU dataset, supplemented with web-scraped data from Wikipedia (labeled \"After\").\n",
    "\n",
    "When comparing the two distributions of summary lengths, we observe that after scraping, there is an increase in the number of longer summaries, subsequently accompanied by a decrease in the number of shorter ones. This shift is further balanced by the fact that some previously missing summaries (NaN values) have now been populated."
   ]
  },
  {
   "cell_type": "markdown",
   "metadata": {},
   "source": [
    "To complete our dataset, we scraped ratings for 92.85% of the movies, a process that took approximately 9 hours. Using libraries like requests and BeautifulSoup, we resolved title variations and handled redirects to ensure accurate data collection. The validated ratings significantly improved our dataset's completeness and analytical potential. \n",
    "\n",
    "The full code for this process is available in `src/scripts/notebook/summaries_scraping.ipynb` and `src/scripts/notebook/movie_rating_scraping.ipynb`."
   ]
  },
  {
   "cell_type": "markdown",
   "metadata": {},
   "source": [
    "### Ratings analysis"
   ]
  },
  {
   "cell_type": "markdown",
   "metadata": {},
   "source": [
    "To understand the relationship between film genres and ratings, we present two histograms. The first shows the distribution of overall ratings for all films in the dataset, while the second breaks down ratings by genre, allowing us to observe how different genres tend to perform in terms of audience perception."
   ]
  },
  {
   "cell_type": "markdown",
   "metadata": {},
   "source": [
    "<img src=\"src/scripts/plots/results/ratings.png\" alt=\"Dist plots\" width=\"1100\"/>"
   ]
  },
  {
   "cell_type": "markdown",
   "metadata": {},
   "source": [
    "As seen in the histograms, the overall distribution of ratings is fairly concentrated around the middle, with most films receiving ratings between 5 and 7. Genres like Drama and Thriller show a broader distribution, indicating a more mixed reception than the others. The Horror genre has a wider spread, with a higher number of films receiving lower ratings, likely reflecting the polarized nature of this genre."
   ]
  },
  {
   "cell_type": "markdown",
   "metadata": {},
   "source": [
    "### Genres and Geographic Distribution \n",
    "\n",
    "Because of the astronomic number of genres in the data (about 360), we decided to handcraft a mapping to go down from 300 plus genres of movies to about a dozen. While our mapping may be a point of discussion among movie enthousiasts, we find it a good approximation to a more general genre classification. We also took the same route about geographical location, classifying countries by continent. The mapping themselves can be found in the notebook or scripts about data modifications. Our dataframe is therefore added with a continent and category column. This allows us to draw distribution per genre/continent"
   ]
  },
  {
   "cell_type": "code",
   "execution_count": null,
   "metadata": {},
   "outputs": [],
   "source": [
    "modified_data = data_modification.all_data_transformations()\n",
    "modified_data.sample(1)"
   ]
  },
  {
   "cell_type": "markdown",
   "metadata": {},
   "source": [
    "<img src=\"src/scripts/plots/results/movie_continent.png\" alt=\"box off per cat\" width=\"900\">"
   ]
  },
  {
   "cell_type": "markdown",
   "metadata": {},
   "source": [
    "North America dominates the film industry, followed by Europe and Asia, while the other continents collectively account for less than 5% of film production. Additionally, most movies in the dataset were produced in the 21st century. Although the number of films appears to decline after 2010, this is due to the dataset ending around 2015. \n",
    "\n",
    "Now, let's examine the distribution of genres in films."
   ]
  },
  {
   "cell_type": "markdown",
   "metadata": {},
   "source": [
    "<img src=\"src/scripts/plots/results/genre_distr.png\" alt=\"box off per cat\" width=\"1100\">"
   ]
  },
  {
   "cell_type": "markdown",
   "metadata": {},
   "source": [
    "Drama emerges as the most common genre, making up approximately 26% of the dataset, followed by comedy and thriller, which also hold significant shares. The distribution highlights a diverse range of genres, reflecting varied audience preferences in cinematic storytelling. To streamline our analysis and gain a broader perspective, we grouped the numerous film genres into eight main categories: drama, comedy, thriller, romance, action/adventure, fantasy/sci-fi, horror, and family/animation. This approach allows for more comprehensive and global insights. For instance, here is an overview of the Action and Adventure category."
   ]
  },
  {
   "cell_type": "markdown",
   "metadata": {},
   "source": [
    "<img src=\"src/scripts/plots/results/action.png\" alt=\"box off per cat\" width=\"600\">"
   ]
  },
  {
   "cell_type": "markdown",
   "metadata": {},
   "source": [
    "Now, let's examine the distribution of genres across continents to uncover regional preferences and trends in cinematic storytelling."
   ]
  },
  {
   "cell_type": "markdown",
   "metadata": {},
   "source": [
    "<img src=\"src/scripts/plots/results/genre_cont.png\" alt=\"box off per cat\" width=\"750\">"
   ]
  },
  {
   "cell_type": "markdown",
   "metadata": {},
   "source": [
    "The charts show drama as a dominant genre globally, with variations in preferences across continents. Comedy is more prominent in North America and Oceania, while action/adventure stands out in Asia."
   ]
  },
  {
   "cell_type": "markdown",
   "metadata": {},
   "source": [
    "## Technical part: sentiment analysis, PCA/clustering, K-shape clustering"
   ]
  },
  {
   "cell_type": "markdown",
   "metadata": {},
   "source": [
    "### Sentiment analysis"
   ]
  },
  {
   "cell_type": "markdown",
   "metadata": {},
   "source": [
    "Most of our datastory will rely on sentiment analysis to analyze possible emotions throughout a movie approximated via its summary. We considered three possible sentiment analysis:\n",
    "\n",
    "1) We first use a semantic similarity model to aggregate sentences of close meaning together and segment the plot summary. This means we would first pass every sentence in the model that projects them into a high-dimension embedding and then use cosine similarity with a threshold to group our sentences. Finally, we would pass each segment through a sentiment analysis model that gives back scores across 7 emotions: anger, disgust, fear, joy, neutral, sadness, or surprise.\n",
    "2) Passing sentence by sentence in the same sentiment analysis model that gives back scores across 7 emotions: anger, disgust, fear, joy, neutral, sadness, or surprise.\n",
    "3) Using a simpler sentiment analysis model that gives only a positive/negative score per sentence.\n",
    "\n",
    "We remarked that segmenting plot summaries with the semantic model and a threshold of 0.5 would only group about 13% of sentences, so we decided to go with the sentences option. We choose to use option 2 with emotion classification but have an idea of double checking our results with the positive/negative classifier to make sure positive and negative emotions match a positive/negative score."
   ]
  },
  {
   "cell_type": "code",
   "execution_count": 10,
   "execution_count": null,
   "metadata": {},
   "outputs": [],
   "source": [
    "#As an example, we run it on 2 plot\n",
    "sentiment_df = sentiment_analysis.sentiment_analysis_sentences(limit=2)\n",
    "sentiment_df"
   ]
  },
  {
   "cell_type": "markdown",
   "metadata": {},
   "source": [
    "As you see, we now have an emotion score for each sentence. The next is to make it comparable across movies. We remarked that the average plot length for now (before scraping) is about 20 sentences and chose 20 as the number of timesteps across a movie where we will consider the emotions. This number may change as the length of our overall plots augments. In the data, we now use simple interpolation and fill missing values with extrapolation to obtain the emotional evolution of movies across 20 points."
   ]
  },
  {
   "cell_type": "code",
   "execution_count": null,
   "metadata": {},
   "outputs": [],
   "source": [
    "interpolated_data = sentiment_analyis.interpolate_df(sentiment_df)\n",
    "interpolated_data.dropna(inplace=True)\n",
    "interpolated_data"
   ]
  },
  {
   "cell_type": "markdown",
   "metadata": {},
   "source": [
    "Now that we have this, it is easy to groupby anything we would want (continent, category, revenue etc etc) and we will show our preliminary results."
   ]
  },
  {
   "cell_type": "markdown",
   "metadata": {},
   "source": [
    "#### Technical notes on runtime"
   ]
  },
  {
   "cell_type": "markdown",
   "metadata": {},
   "source": [
    "We have evaluated our pipeline over 5000 thousand films only for now in order to make sure that it runs smoothly and to see if we obtained results that are interesting. Running 5000 movies on a google colab notebook with an A100 GPU takes about 10-13 minutes, so we estimate that after data scraping and we will most likely evaluate about 80% of the dataset, which is about 60'000 movies for an estimated runtime of 2-3 hours.\n",
    "\n",
    "The following results are therefore only a 5000 movies subset but we expect trends to generalize."
   ]
  },
  {
   "cell_type": "markdown",
   "metadata": {},
   "source": [
    "### PCA/clustering"
   ]
  },
  {
   "cell_type": "markdown",
   "metadata": {},
   "source": [
    "### K-shape clustering"
   ]
  },
  {
   "cell_type": "markdown",
   "metadata": {},
   "source": [
    "## Patterns in film sentiment "
   ]
  },
  {
   "cell_type": "markdown",
   "metadata": {},
   "source": [
    "How do emotions progress over the course of a movie? "
   ]
  },
  {
   "cell_type": "markdown",
   "metadata": {},
   "source": [
    "<img src=\"src/scripts/plots/results/evol_emotion.png\" alt=\"box off per cat\" width=\"800\">"
   ]
  },
  {
   "cell_type": "markdown",
   "metadata": {},
   "source": [
    "<img src=\"src/scripts/plots/results/norm_emotion.png\" alt=\"box off per cat\" width=\"800\">"
   ]
  },
  {
   "cell_type": "markdown",
   "metadata": {},
   "source": [
    "The first graph shows the averaged evolution of emotions over the course of a movie, with neutral emotions being the most prominent and steadily increasing toward the end. Disgust, on the other hand, maintains a consistent presence throughout the movie. The second graph, which normalizes the emotions, reveals more dynamic changes, with surprise and fear peaking early on and then declining, while neutral emotions gradually dominate as the movie progresses. These trends reflect typical emotional pacing in storytelling, balancing tension and resolution."
   ]
  },
  {
   "cell_type": "markdown",
   "metadata": {},
   "source": [
    "Now, let's take a closer look at each emotion, depending on the genre."
   ]
  },
  {
   "cell_type": "markdown",
   "metadata": {},
   "source": [
    "<img src=\"src\\scripts\\plots\\results\\normalized_evolution_across_genres.png\" alt=\"box off per cat\" width=\"850\">"
   ]
  },
  {
   "cell_type": "markdown",
   "metadata": {},
   "source": [
    "We can notice 3 emotions that always follows the same arc regardless of the genres: joy, anger and disgust. \n",
    "On the other hand, emotions like fear, surprise, neutral and sadness have different arcs depending on the genre considered. \n",
    "\n",
    "We can also note that North America has a big influence in certain emotions, and if we do not consider it the change is significant. For example, sadness without North America shows lots of variations, while sadness with North America shows a slight trend."
   ]
  },
  {
   "cell_type": "markdown",
   "metadata": {},
   "source": [
    "<img src=\"src\\scripts\\plots\\sentiment_analysis\\Normalized_Evolution_of_Anger_across_Timesteps_for_Each_Genre.png\" alt=\"box off per cat\" width=\"850\">"
   ]
  },
  {
   "cell_type": "markdown",
   "metadata": {},
   "source": [
    "<img src=\"src\\scripts\\plots\\sentiment_analysis\\Normalized_Evolution_of_Disgust_across_Timesteps_for_Each_Genre.png\" alt=\"box off per cat\" width=\"850\">"
   ]
  },
  {
   "cell_type": "markdown",
   "metadata": {},
   "source": [
    "<img src=\"src\\scripts\\plots\\sentiment_analysis\\Normalized_Evolution_of_Fear_across_Timesteps_for_Each_Genre.png\" alt=\"box off per cat\" width=\"850\">"
   ]
  },
  {
   "cell_type": "markdown",
   "metadata": {},
   "source": [
    "<img src=\"src\\scripts\\plots\\sentiment_analysis\\Normalized_Evolution_of_Sadness_across_Timesteps_for_Each_Genre.png\" alt=\"box off per cat\" width=\"850\">"
   ]
  },
  {
   "cell_type": "markdown",
   "metadata": {},
   "source": [
    "<img src=\"src\\scripts\\plots\\sentiment_analysis\\Normalized_Evolution_of_Joy_across_Timesteps_for_Each_Genre.png\" alt=\"box off per cat\" width=\"850\">"
   ]
  },
  {
   "cell_type": "markdown",
   "metadata": {},
   "source": [
    "<img src=\"src\\scripts\\plots\\sentiment_analysis\\Normalized_Evolution_of_Surprise_across_Timesteps_for_Each_Genre.png\" alt=\"box off per cat\" width=\"850\">"
   ]
  },
  {
   "cell_type": "markdown",
   "metadata": {},
   "source": [
    "<img src=\"src\\scripts\\plots\\sentiment_analysis\\Normalized_Evolution_of_Neutral_across_Timesteps_for_Each_Genre.png\" alt=\"box off per cat\" width=\"850\">"
   ]
  },
  {
   "cell_type": "markdown",
   "metadata": {},
   "source": [
    "No matter the genre, the evolution of emotions follows a similar pattern. Negative emotions like anger, fear, and disgust tend to rise during the first half of a movie, building tension, while emotions like neutrality and joy increase towards the end, reflecting narrative resolution. This consistency suggests that filmmakers across genres rely on a common emotional arc to engage audiences."
   ]
  },
  {
   "cell_type": "markdown",
   "metadata": {},
   "source": [
    "### Evolution of emotions across continents"
   ]
  },
  {
   "cell_type": "markdown",
   "metadata": {},
   "source": [
    "Does it differ across continents?"
   ]
  },
  {
   "cell_type": "markdown",
   "metadata": {},
   "source": []
  },
  {
   "cell_type": "markdown",
   "metadata": {},
   "source": [
    "<img src=\"src\\scripts\\plots\\sentiment_analysis\\Normalized_Evolution_of_Emotions_across_Timesteps_in_North_America.png\" alt=\"box off per cat\" width=\"1600\">"
   ]
  },
  {
   "cell_type": "markdown",
   "metadata": {},
   "source": [
    "<img src=\"src\\scripts\\plots\\sentiment_analysis\\Normalized_Evolution_of_Emotions_across_Timesteps_in_Europe.png\" alt=\"box off per cat\" width=\"1600\">"
   ]
  },
  {
   "cell_type": "markdown",
   "metadata": {},
   "source": [
    "<img src=\"src\\scripts\\plots\\sentiment_analysis\\Normalized_Evolution_of_Emotions_across_Timesteps_in_Asia.png\" alt=\"box off per cat\" width=\"1600\">"
   ]
  },
  {
   "cell_type": "markdown",
   "metadata": {},
   "source": [
    "<img src=\"src\\scripts\\plots\\sentiment_analysis\\Normalized_Evolution_of_Emotions_across_Timesteps_in_Oceania.png\" alt=\"box off per cat\" width=\"1600\">"
   ]
  },
  {
   "cell_type": "markdown",
   "metadata": {},
   "source": [
    "Across North America, Europe, Asia, and Oceania, movies follow a consistent emotional pattern: negative emotions like anger, disgust, and fear rise early to build tension, while joy and neutrality increase toward the end, signaling resolution. Sadness dips mid-story but often peaks near the conclusion, aligning with emotional climaxes. \n",
    "\n",
    "We can also observe that North America follows a fixed emotional pattern, with steady rises and falls in emotions. It may be due to the bigger amount of films in that region."
   ]
  },
  {
   "cell_type": "markdown",
   "metadata": {},
   "source": [
    "<img src=\"src\\scripts\\plots\\sentiment_analysis\\Normalized_Evolution_of_Emotions_across_Timesteps_in_South_America.png\" alt=\"box off per cat\" width=\"1600\">"
   ]
  },
  {
   "cell_type": "markdown",
   "metadata": {},
   "source": [
    "<img src=\"src\\scripts\\plots\\sentiment_analysis\\Normalized_Evolution_of_Emotions_across_Timesteps_in_Africa.png\" alt=\"box off per cat\" width=\"1600\">"
   ]
  },
  {
   "cell_type": "code",
   "execution_count": null,
   "metadata": {},
   "outputs": [],
   "source": []
  },
  {
   "cell_type": "markdown",
   "metadata": {},
   "source": [
    "#### PCA & Clustering"
   ]
  },
  {
   "cell_type": "markdown",
   "metadata": {},
   "source": [
    "to find the best K, we first computed the best K with the elbow method, which did not give any clear result. So we computed the silhouette score to find the best k, which turns out tu be 7"
   ]
  },
  {
   "cell_type": "code",
   "execution_count": 1,
   "metadata": {},
   "outputs": [],
   "source": [
    "from src.scripts import cluster_mean_emotion as cme\n",
    "\n",
    "df_emotions, df_metadata = cme.load_data()\n",
    "data, data_with_category = cme.compute_data(df_emotions, df_metadata)\n",
    "data_kmeans = cme.compute_kmeans(data, df_metadata)"
   ]
  },
  {
   "cell_type": "code",
   "execution_count": null,
   "metadata": {},
   "outputs": [],
   "source": [
    "cme.plot_elbow_and_silhouette(data)"
   ]
  },
  {
   "cell_type": "markdown",
   "metadata": {},
   "source": [
    "We choose k=7, which is like the number of emotions. With this we can compute the kmeans, and visualize it"
   ]
  },
  {
   "cell_type": "code",
   "execution_count": null,
   "metadata": {},
   "outputs": [],
   "source": [
    "cme.visualize_pca_on_kmeans(data_kmeans)"
   ]
  },
  {
   "cell_type": "markdown",
   "metadata": {},
   "source": [
    "First question one may ask, what's the proportion of each category/genre in each cluster "
   ]
  },
  {
   "cell_type": "code",
   "execution_count": null,
   "metadata": {},
   "outputs": [],
   "source": [
    "cme.visualize_prop_genre_cluster(data_with_category, data_kmeans)"
   ]
  },
  {
   "cell_type": "markdown",
   "metadata": {},
   "source": [
    "Second question one may ask is what's the proportion of each emotion in each cluster."
   ]
  },
  {
   "cell_type": "code",
   "execution_count": null,
   "metadata": {},
   "outputs": [],
   "source": [
    "cme.visualize_prop_emotion_cluser(data_kmeans)"
   ]
  },
  {
   "cell_type": "markdown",
   "metadata": {},
   "source": [
    "We can ask the first question the other way around, what's the proportion of each cluster for each genre/category"
   ]
  },
  {
   "cell_type": "code",
   "execution_count": null,
   "metadata": {},
   "outputs": [],
   "source": [
    "cme.visualize_prop_cluster_by_genre(data_kmeans)"
   ]
  },
  {
   "cell_type": "markdown",
   "metadata": {},
   "source": [
    "We want to check now the emotional arc of every cluster for their corresponding emotion. We also want to check one exemple of arc for ome movie for every cluster. We also plot the summary so one can see/feel the main emotion "
   ]
  },
  {
   "cell_type": "code",
   "execution_count": null,
   "metadata": {},
   "outputs": [
    {
     "data": {
      "application/vnd.plotly.v1+json": {
       "config": {
        "plotlyServerURL": "https://plot.ly"
       },
       "data": [
        {
         "line": {
          "color": "#A9A9A9",
          "dash": "dot"
         },
         "marker": {
          "size": 8,
          "symbol": "circle"
         },
         "mode": "lines+markers",
         "name": "Neutral arc of Asterix in Britain",
         "type": "scatter",
         "x": [
          0,
          1,
          2,
          3,
          4,
          5,
          6,
          7,
          8,
          9,
          10,
          11,
          12,
          13,
          14,
          15,
          16,
          17,
          18,
          19
         ],
         "xaxis": "x",
         "y": [
          0.5261818170547485,
          0.39331402904108953,
          0.29215624928474426,
          0.23539248108863825,
          0.14234015031864766,
          0.06456507722798144,
          0.054394914719619186,
          0.044120412712034374,
          0.03376891846327401,
          0.023144376807306872,
          0.020125352336387795,
          0.02471184505051678,
          0.4902462606367308,
          0.8541815845589887,
          0.9311100119038631,
          0.8156198420022666,
          0.6602397686556766,
          0.6261078401615745,
          0.4077708725082248,
          0.05785887688398361
         ],
         "yaxis": "y"
        },
        {
         "line": {
          "color": "blue",
          "dash": "dash"
         },
         "marker": {
          "size": 8,
          "symbol": "triangle-up"
         },
         "mode": "lines+markers",
         "name": "Neutral arc of cluster 7",
         "type": "scatter",
         "x": [
          0,
          1,
          2,
          3,
          4,
          5,
          6,
          7,
          8,
          9,
          10,
          11,
          12,
          13,
          14,
          15,
          16,
          17,
          18,
          19
         ],
         "xaxis": "x",
         "y": [
          0.43495738560330327,
          0.4522221854467591,
          0.46982827543376715,
          0.482810867414646,
          0.48935776065423287,
          0.4955808082239311,
          0.4904210228755305,
          0.4909608013428833,
          0.48715947289512845,
          0.485497518718077,
          0.48262417267921426,
          0.4837448563156591,
          0.4799220566666739,
          0.4776355278707102,
          0.4810844399950764,
          0.47725531574810015,
          0.477664264709556,
          0.4781723047445056,
          0.4898777482328963,
          0.5187978092093806
         ],
         "yaxis": "y"
        },
        {
         "line": {
          "color": "black",
          "dash": "dash"
         },
         "marker": {
          "size": 8,
          "symbol": "cross"
         },
         "mode": "lines+markers",
         "name": "Mean arc of neutral",
         "type": "scatter",
         "x": [
          0,
          1,
          2,
          3,
          4,
          5,
          6,
          7,
          8,
          9,
          10,
          11,
          12,
          13,
          14,
          15,
          16,
          17,
          18,
          19
         ],
         "xaxis": "x",
         "y": [
          0.3200305311181571,
          0.32901540574978083,
          0.3345382905124642,
          0.33574644405782644,
          0.33812378410192084,
          0.33695588033480917,
          0.335166507460061,
          0.3322571343826881,
          0.3333165172221578,
          0.33310156027278487,
          0.32930160210583154,
          0.3297225624669904,
          0.32925684495269575,
          0.3276410762163136,
          0.33147224242697937,
          0.3320435936748583,
          0.3334507156056074,
          0.3390842729413611,
          0.35730168354942804,
          0.3905741661650841
         ],
         "yaxis": "y"
        },
        {
         "cells": {
          "align": "left",
          "fill": {
           "color": "lavender"
          },
          "font": {
           "size": 12
          },
          "values": [
           "Julius Caesar has conquered Britain, but a village in Kent remains independent. One member of the village, Anticlimax, is dispatched to Asterix's village in Gaul to enlist the help of Getafix the druid in providing magic potion for the British rebels. It is decided that his cousin, Asterix, and Obelix should accompany him, to help transport a barrel of the potion; but while beating up a Roman galley in the English Channel, Obelix mentions the mission, which is reported to the Roman high command in Britain.\r\nIn Britain, the barrel containing the potion is confiscated from a pub cellar owned by Dipsomaniax, along with all the barreled \"warm beer\" (bitter) and wine in Londinium, by the Romans, who set about tasting the barrels to find the right one. Soon the whole unit assigned to the testing is hopelessly drunk. Asterix and Obelix steal all the barrels labelled with Dipsomaniax's name, but Obelix drunkenly starts a fight with some passing Roman soldiers. During the commotion a thief steals the cart with the barrels. Anticlimax and Asterix leave Obelix at Dipsomaniax's pub to sleep off his hangover; but while Anticlimax and Asterix go in search of the thief, the Romans capture the sleeping Obelix and Dipsomaniax and raze the pub.\r\nIn the Tower of Londinium, Obelix wakes up and frees himself and Dipsomaniax. The three heroes, after a search, find the potion in use as a pick-me-up for a rugby team. After this team wins their game, the protagonists seize the potion and escape on the river Thames, where the Romans destroy the barrel and release the potion into the water. At the independent village, Asterix eases the Britons' disappointment by feigning to remake the potion with herbs (tea) given to him by Getafix. With a psychological boost, the village prevails against the Romans, and Asterix and Obelix return home to celebrate."
          ]
         },
         "domain": {
          "x": [
           0.685,
           1
          ],
          "y": [
           0,
           1
          ]
         },
         "header": {
          "align": "center",
          "fill": {
           "color": "paleturquoise"
          },
          "font": {
           "size": 14
          },
          "values": [
           "Summary"
          ]
         },
         "type": "table"
        }
       ],
       "layout": {
        "annotations": [
         {
          "font": {
           "size": 16
          },
          "showarrow": false,
          "text": "Neutral arc",
          "x": 0.29250000000000004,
          "xanchor": "center",
          "xref": "paper",
          "y": 1,
          "yanchor": "bottom",
          "yref": "paper"
         },
         {
          "font": {
           "size": 16
          },
          "showarrow": false,
          "text": "Asterix in Britain summary",
          "x": 0.8425,
          "xanchor": "center",
          "xref": "paper",
          "y": 1,
          "yanchor": "bottom",
          "yref": "paper"
         }
        ],
        "height": 400,
        "legend": {
         "font": {
          "size": 12
         },
         "orientation": "h",
         "x": 0.5,
         "xanchor": "center",
         "y": -0.2,
         "yanchor": "top"
        },
        "margin": {
         "b": 100,
         "l": 40,
         "r": 40,
         "t": 80
        },
        "showlegend": true,
        "template": {
         "data": {
          "bar": [
           {
            "error_x": {
             "color": "#2a3f5f"
            },
            "error_y": {
             "color": "#2a3f5f"
            },
            "marker": {
             "line": {
              "color": "white",
              "width": 0.5
             },
             "pattern": {
              "fillmode": "overlay",
              "size": 10,
              "solidity": 0.2
             }
            },
            "type": "bar"
           }
          ],
          "barpolar": [
           {
            "marker": {
             "line": {
              "color": "white",
              "width": 0.5
             },
             "pattern": {
              "fillmode": "overlay",
              "size": 10,
              "solidity": 0.2
             }
            },
            "type": "barpolar"
           }
          ],
          "carpet": [
           {
            "aaxis": {
             "endlinecolor": "#2a3f5f",
             "gridcolor": "#C8D4E3",
             "linecolor": "#C8D4E3",
             "minorgridcolor": "#C8D4E3",
             "startlinecolor": "#2a3f5f"
            },
            "baxis": {
             "endlinecolor": "#2a3f5f",
             "gridcolor": "#C8D4E3",
             "linecolor": "#C8D4E3",
             "minorgridcolor": "#C8D4E3",
             "startlinecolor": "#2a3f5f"
            },
            "type": "carpet"
           }
          ],
          "choropleth": [
           {
            "colorbar": {
             "outlinewidth": 0,
             "ticks": ""
            },
            "type": "choropleth"
           }
          ],
          "contour": [
           {
            "colorbar": {
             "outlinewidth": 0,
             "ticks": ""
            },
            "colorscale": [
             [
              0,
              "#0d0887"
             ],
             [
              0.1111111111111111,
              "#46039f"
             ],
             [
              0.2222222222222222,
              "#7201a8"
             ],
             [
              0.3333333333333333,
              "#9c179e"
             ],
             [
              0.4444444444444444,
              "#bd3786"
             ],
             [
              0.5555555555555556,
              "#d8576b"
             ],
             [
              0.6666666666666666,
              "#ed7953"
             ],
             [
              0.7777777777777778,
              "#fb9f3a"
             ],
             [
              0.8888888888888888,
              "#fdca26"
             ],
             [
              1,
              "#f0f921"
             ]
            ],
            "type": "contour"
           }
          ],
          "contourcarpet": [
           {
            "colorbar": {
             "outlinewidth": 0,
             "ticks": ""
            },
            "type": "contourcarpet"
           }
          ],
          "heatmap": [
           {
            "colorbar": {
             "outlinewidth": 0,
             "ticks": ""
            },
            "colorscale": [
             [
              0,
              "#0d0887"
             ],
             [
              0.1111111111111111,
              "#46039f"
             ],
             [
              0.2222222222222222,
              "#7201a8"
             ],
             [
              0.3333333333333333,
              "#9c179e"
             ],
             [
              0.4444444444444444,
              "#bd3786"
             ],
             [
              0.5555555555555556,
              "#d8576b"
             ],
             [
              0.6666666666666666,
              "#ed7953"
             ],
             [
              0.7777777777777778,
              "#fb9f3a"
             ],
             [
              0.8888888888888888,
              "#fdca26"
             ],
             [
              1,
              "#f0f921"
             ]
            ],
            "type": "heatmap"
           }
          ],
          "heatmapgl": [
           {
            "colorbar": {
             "outlinewidth": 0,
             "ticks": ""
            },
            "colorscale": [
             [
              0,
              "#0d0887"
             ],
             [
              0.1111111111111111,
              "#46039f"
             ],
             [
              0.2222222222222222,
              "#7201a8"
             ],
             [
              0.3333333333333333,
              "#9c179e"
             ],
             [
              0.4444444444444444,
              "#bd3786"
             ],
             [
              0.5555555555555556,
              "#d8576b"
             ],
             [
              0.6666666666666666,
              "#ed7953"
             ],
             [
              0.7777777777777778,
              "#fb9f3a"
             ],
             [
              0.8888888888888888,
              "#fdca26"
             ],
             [
              1,
              "#f0f921"
             ]
            ],
            "type": "heatmapgl"
           }
          ],
          "histogram": [
           {
            "marker": {
             "pattern": {
              "fillmode": "overlay",
              "size": 10,
              "solidity": 0.2
             }
            },
            "type": "histogram"
           }
          ],
          "histogram2d": [
           {
            "colorbar": {
             "outlinewidth": 0,
             "ticks": ""
            },
            "colorscale": [
             [
              0,
              "#0d0887"
             ],
             [
              0.1111111111111111,
              "#46039f"
             ],
             [
              0.2222222222222222,
              "#7201a8"
             ],
             [
              0.3333333333333333,
              "#9c179e"
             ],
             [
              0.4444444444444444,
              "#bd3786"
             ],
             [
              0.5555555555555556,
              "#d8576b"
             ],
             [
              0.6666666666666666,
              "#ed7953"
             ],
             [
              0.7777777777777778,
              "#fb9f3a"
             ],
             [
              0.8888888888888888,
              "#fdca26"
             ],
             [
              1,
              "#f0f921"
             ]
            ],
            "type": "histogram2d"
           }
          ],
          "histogram2dcontour": [
           {
            "colorbar": {
             "outlinewidth": 0,
             "ticks": ""
            },
            "colorscale": [
             [
              0,
              "#0d0887"
             ],
             [
              0.1111111111111111,
              "#46039f"
             ],
             [
              0.2222222222222222,
              "#7201a8"
             ],
             [
              0.3333333333333333,
              "#9c179e"
             ],
             [
              0.4444444444444444,
              "#bd3786"
             ],
             [
              0.5555555555555556,
              "#d8576b"
             ],
             [
              0.6666666666666666,
              "#ed7953"
             ],
             [
              0.7777777777777778,
              "#fb9f3a"
             ],
             [
              0.8888888888888888,
              "#fdca26"
             ],
             [
              1,
              "#f0f921"
             ]
            ],
            "type": "histogram2dcontour"
           }
          ],
          "mesh3d": [
           {
            "colorbar": {
             "outlinewidth": 0,
             "ticks": ""
            },
            "type": "mesh3d"
           }
          ],
          "parcoords": [
           {
            "line": {
             "colorbar": {
              "outlinewidth": 0,
              "ticks": ""
             }
            },
            "type": "parcoords"
           }
          ],
          "pie": [
           {
            "automargin": true,
            "type": "pie"
           }
          ],
          "scatter": [
           {
            "fillpattern": {
             "fillmode": "overlay",
             "size": 10,
             "solidity": 0.2
            },
            "type": "scatter"
           }
          ],
          "scatter3d": [
           {
            "line": {
             "colorbar": {
              "outlinewidth": 0,
              "ticks": ""
             }
            },
            "marker": {
             "colorbar": {
              "outlinewidth": 0,
              "ticks": ""
             }
            },
            "type": "scatter3d"
           }
          ],
          "scattercarpet": [
           {
            "marker": {
             "colorbar": {
              "outlinewidth": 0,
              "ticks": ""
             }
            },
            "type": "scattercarpet"
           }
          ],
          "scattergeo": [
           {
            "marker": {
             "colorbar": {
              "outlinewidth": 0,
              "ticks": ""
             }
            },
            "type": "scattergeo"
           }
          ],
          "scattergl": [
           {
            "marker": {
             "colorbar": {
              "outlinewidth": 0,
              "ticks": ""
             }
            },
            "type": "scattergl"
           }
          ],
          "scattermapbox": [
           {
            "marker": {
             "colorbar": {
              "outlinewidth": 0,
              "ticks": ""
             }
            },
            "type": "scattermapbox"
           }
          ],
          "scatterpolar": [
           {
            "marker": {
             "colorbar": {
              "outlinewidth": 0,
              "ticks": ""
             }
            },
            "type": "scatterpolar"
           }
          ],
          "scatterpolargl": [
           {
            "marker": {
             "colorbar": {
              "outlinewidth": 0,
              "ticks": ""
             }
            },
            "type": "scatterpolargl"
           }
          ],
          "scatterternary": [
           {
            "marker": {
             "colorbar": {
              "outlinewidth": 0,
              "ticks": ""
             }
            },
            "type": "scatterternary"
           }
          ],
          "surface": [
           {
            "colorbar": {
             "outlinewidth": 0,
             "ticks": ""
            },
            "colorscale": [
             [
              0,
              "#0d0887"
             ],
             [
              0.1111111111111111,
              "#46039f"
             ],
             [
              0.2222222222222222,
              "#7201a8"
             ],
             [
              0.3333333333333333,
              "#9c179e"
             ],
             [
              0.4444444444444444,
              "#bd3786"
             ],
             [
              0.5555555555555556,
              "#d8576b"
             ],
             [
              0.6666666666666666,
              "#ed7953"
             ],
             [
              0.7777777777777778,
              "#fb9f3a"
             ],
             [
              0.8888888888888888,
              "#fdca26"
             ],
             [
              1,
              "#f0f921"
             ]
            ],
            "type": "surface"
           }
          ],
          "table": [
           {
            "cells": {
             "fill": {
              "color": "#EBF0F8"
             },
             "line": {
              "color": "white"
             }
            },
            "header": {
             "fill": {
              "color": "#C8D4E3"
             },
             "line": {
              "color": "white"
             }
            },
            "type": "table"
           }
          ]
         },
         "layout": {
          "annotationdefaults": {
           "arrowcolor": "#2a3f5f",
           "arrowhead": 0,
           "arrowwidth": 1
          },
          "autotypenumbers": "strict",
          "coloraxis": {
           "colorbar": {
            "outlinewidth": 0,
            "ticks": ""
           }
          },
          "colorscale": {
           "diverging": [
            [
             0,
             "#8e0152"
            ],
            [
             0.1,
             "#c51b7d"
            ],
            [
             0.2,
             "#de77ae"
            ],
            [
             0.3,
             "#f1b6da"
            ],
            [
             0.4,
             "#fde0ef"
            ],
            [
             0.5,
             "#f7f7f7"
            ],
            [
             0.6,
             "#e6f5d0"
            ],
            [
             0.7,
             "#b8e186"
            ],
            [
             0.8,
             "#7fbc41"
            ],
            [
             0.9,
             "#4d9221"
            ],
            [
             1,
             "#276419"
            ]
           ],
           "sequential": [
            [
             0,
             "#0d0887"
            ],
            [
             0.1111111111111111,
             "#46039f"
            ],
            [
             0.2222222222222222,
             "#7201a8"
            ],
            [
             0.3333333333333333,
             "#9c179e"
            ],
            [
             0.4444444444444444,
             "#bd3786"
            ],
            [
             0.5555555555555556,
             "#d8576b"
            ],
            [
             0.6666666666666666,
             "#ed7953"
            ],
            [
             0.7777777777777778,
             "#fb9f3a"
            ],
            [
             0.8888888888888888,
             "#fdca26"
            ],
            [
             1,
             "#f0f921"
            ]
           ],
           "sequentialminus": [
            [
             0,
             "#0d0887"
            ],
            [
             0.1111111111111111,
             "#46039f"
            ],
            [
             0.2222222222222222,
             "#7201a8"
            ],
            [
             0.3333333333333333,
             "#9c179e"
            ],
            [
             0.4444444444444444,
             "#bd3786"
            ],
            [
             0.5555555555555556,
             "#d8576b"
            ],
            [
             0.6666666666666666,
             "#ed7953"
            ],
            [
             0.7777777777777778,
             "#fb9f3a"
            ],
            [
             0.8888888888888888,
             "#fdca26"
            ],
            [
             1,
             "#f0f921"
            ]
           ]
          },
          "colorway": [
           "#636efa",
           "#EF553B",
           "#00cc96",
           "#ab63fa",
           "#FFA15A",
           "#19d3f3",
           "#FF6692",
           "#B6E880",
           "#FF97FF",
           "#FECB52"
          ],
          "font": {
           "color": "#2a3f5f"
          },
          "geo": {
           "bgcolor": "white",
           "lakecolor": "white",
           "landcolor": "white",
           "showlakes": true,
           "showland": true,
           "subunitcolor": "#C8D4E3"
          },
          "hoverlabel": {
           "align": "left"
          },
          "hovermode": "closest",
          "mapbox": {
           "style": "light"
          },
          "paper_bgcolor": "white",
          "plot_bgcolor": "white",
          "polar": {
           "angularaxis": {
            "gridcolor": "#EBF0F8",
            "linecolor": "#EBF0F8",
            "ticks": ""
           },
           "bgcolor": "white",
           "radialaxis": {
            "gridcolor": "#EBF0F8",
            "linecolor": "#EBF0F8",
            "ticks": ""
           }
          },
          "scene": {
           "xaxis": {
            "backgroundcolor": "white",
            "gridcolor": "#DFE8F3",
            "gridwidth": 2,
            "linecolor": "#EBF0F8",
            "showbackground": true,
            "ticks": "",
            "zerolinecolor": "#EBF0F8"
           },
           "yaxis": {
            "backgroundcolor": "white",
            "gridcolor": "#DFE8F3",
            "gridwidth": 2,
            "linecolor": "#EBF0F8",
            "showbackground": true,
            "ticks": "",
            "zerolinecolor": "#EBF0F8"
           },
           "zaxis": {
            "backgroundcolor": "white",
            "gridcolor": "#DFE8F3",
            "gridwidth": 2,
            "linecolor": "#EBF0F8",
            "showbackground": true,
            "ticks": "",
            "zerolinecolor": "#EBF0F8"
           }
          },
          "shapedefaults": {
           "line": {
            "color": "#2a3f5f"
           }
          },
          "ternary": {
           "aaxis": {
            "gridcolor": "#DFE8F3",
            "linecolor": "#A2B1C6",
            "ticks": ""
           },
           "baxis": {
            "gridcolor": "#DFE8F3",
            "linecolor": "#A2B1C6",
            "ticks": ""
           },
           "bgcolor": "white",
           "caxis": {
            "gridcolor": "#DFE8F3",
            "linecolor": "#A2B1C6",
            "ticks": ""
           }
          },
          "title": {
           "x": 0.05
          },
          "xaxis": {
           "automargin": true,
           "gridcolor": "#EBF0F8",
           "linecolor": "#EBF0F8",
           "ticks": "",
           "title": {
            "standoff": 15
           },
           "zerolinecolor": "#EBF0F8",
           "zerolinewidth": 2
          },
          "yaxis": {
           "automargin": true,
           "gridcolor": "#EBF0F8",
           "linecolor": "#EBF0F8",
           "ticks": "",
           "title": {
            "standoff": 15
           },
           "zerolinecolor": "#EBF0F8",
           "zerolinewidth": 2
          }
         }
        },
        "title": {
         "text": "Neutral arc: comparing all films, cluster 7, and ‘Asterix in Britain’ (from cluster 7)",
         "x": 0.5,
         "xanchor": "center"
        },
        "width": 1000,
        "xaxis": {
         "anchor": "y",
         "domain": [
          0,
          0.5850000000000001
         ],
         "title": {
          "text": "Timestep"
         }
        },
        "yaxis": {
         "anchor": "x",
         "domain": [
          0,
          1
         ],
         "title": {
          "text": "Neutral intensity"
         }
        }
       }
      }
     },
     "metadata": {},
     "output_type": "display_data"
    }
   ],
   "source": [
    "cme.visualize_arc_movie_cluster_overall(df_emotions, data_kmeans, df_metadata, cluster=1)"
   ]
  },
  {
   "cell_type": "markdown",
   "metadata": {},
   "source": [
    "We can note that the results for South America and Africa might be different from the four other continents because we lacks data for these two."
   ]
  },
  {
   "cell_type": "markdown",
   "metadata": {},
   "source": [
    "## Emotional complexity vs Movie runtime\n",
    "\n",
    "Movies are powerful storytelling mediums that evoke a range of emotions. This analysis aims to determine whether movie runtime influences emotional complexity, hypothesizing that longer films, with runtimes exceeding 2 hours, might showcase more intricate emotional arcs. To investigate, we analyzed emotional metrics derived from sentiment analysis of movie plot summaries, correlating these with runtime.\n",
    "\n",
    "## Methodology: measuring emotional complexity\n",
    "\n",
    "### Data sources and preparation\n",
    "\n",
    "We combined sentiment analysis-derived emotional data with metadata on movie runtimes. The dataset included seven primary emotions: anger, disgust, fear, joy, neutral, sadness, and surprise, extracted from plot summaries. Emotional arcs were standardized to 20 timesteps, ensuring consistency across varying plot lengths.\n",
    "\n",
    "### Emotional complexity metrics\n",
    "\n",
    "To quantify emotional complexity, we calculated:\n",
    "\n",
    "- **Amplitude:** The range of emotion values (maximum − minimum) within a movie's emotional arc.\n",
    "- **Standard deviation:** The variability of emotional intensity across the plot.\n",
    "- **Sum of absolute changes:** The cumulative magnitude of emotional transitions between consecutive timesteps.\n",
    "\n",
    "### Runtime categorization\n",
    "\n",
    "Movies were grouped by runtime:\n",
    "- **Short movies:** ≤ 120 minutes.\n",
    "- **Long movies:** > 120 minutes.\n",
    "\n",
    "This classification enabled a structured comparison of emotional complexity metrics.\n",
    "\n",
    "## Results\n",
    "\n",
    "### Emotional complexity vs runtime\n",
    "\n",
    "Analysis of emotional complexity metrics across runtime categories revealed:\n",
    "\n",
    "- **Amplitude:** Long movies exhibited slightly higher amplitude values compared to short movies, indicating broader emotional ranges.\n",
    "- **Standard deviation:** Variability was marginally higher in long movies, suggesting more diverse emotional arcs.\n",
    "- **Sum of absolute changes:** Long movies demonstrated slightly larger cumulative emotional shifts, reflecting greater dynamicity in their narratives.\n",
    "\n",
    "<img src=\"src\\scripts\\plots\\results\\correlation_emotional_complexity_1.png\" alt=\"box off per cat\" width=\"1600\">\n",
    "\n",
    "Despite these differences, the variations were modest, suggesting runtime alone is insufficient to explain emotional complexity.\n",
    "\n",
    "### Emotion-specific correlation analysis\n",
    "\n",
    "We further analyzed correlations between runtime and emotional complexity metrics for individual emotions:\n",
    "\n",
    "<img src=\"src\\scripts\\plots\\results\\correlation_emotional_complexity_2.png\" alt=\"box off per cat\" width=\"1600\">\n",
    "\n",
    "Key observations:\n",
    "- **Joy and surprise:** The strongest positive correlation, suggesting longer movies significantly increase variations in this emotion.\n",
    "- **Neutral and disgust:** Moderate correlations, indicating that runtime contributes to broader emotional arcs in these categories.\n",
    "- **Fear, sadness and anger:** Negative correlations, suggesting longer movies significantly decrease variations in this emotion.\n",
    "\n",
    "### General insights\n",
    "\n",
    "While longer movies exhibited marginally greater emotional complexity, runtime alone does not sufficiently account for emotional storytelling. The results highlight the importance of narrative structure, genre, and thematic elements in shaping emotional arcs. \n",
    "\n",
    "## Conclusion\n",
    "\n",
    "This analysis underscores the nuanced relationship between runtime and emotional complexity. Although longer runtimes provide opportunities for more intricate emotional arcs, they are not definitive indicators of emotional storytelling depth. Future research could explore the interaction between runtime, genre, and audience reception to further illuminate the dynamics of cinematic storytelling.\n"
   ]
  },
  {
   "cell_type": "markdown",
   "metadata": {},
   "source": [
    "## Historical analysis"
   ]
  },
  {
   "cell_type": "markdown",
   "metadata": {},
   "source": [
    "### The Impact of Color and Sound on Early Cinema"
   ]
  },
  {
   "cell_type": "markdown",
   "metadata": {},
   "source": [
    "The evolution of emotions in movies provides valuable insight into how storytelling adapts to technological advancements and societal changes. By examining key emotional trends across two periods: before 1922 and between 1930 and 1940, we stopped our analysis at 1940 to ensure that any changes in emotions would not be influenced by World War II. We aim to understand how the introduction of sound and color influenced emotional representation in films. The first set of graphs presents the normalized evolution of seven emotions: anger, disgust, fear, joy, neutral, sadness, and surprise."
   ]
  },
  {
   "cell_type": "markdown",
   "metadata": {},
   "source": [
    "<img src=\"src/scripts/plots/results/1922_full.png\" alt=\"box off per cat\" width=\"1000\">"
   ]
  },
  {
   "cell_type": "markdown",
   "metadata": {},
   "source": [
    "<img src=\"src/scripts/plots/results/1930_full.png\" alt=\"box off per cat\" width=\"1000\">"
   ]
  },
  {
   "cell_type": "markdown",
   "metadata": {},
   "source": [
    "From the initial graphs, we identified joy, fear, disgust, sadness, and surprise as the emotions with the most significant differences between the two periods. These emotions showed distinct trends that warranted deeper analysis, as they appeared to be the most impacted by technological and cultural shifts. In contrast, anger and neutral exhibited relatively stable patterns and were excluded from further analysis."
   ]
  },
  {
   "cell_type": "markdown",
   "metadata": {},
   "source": [
    "<img src=\"src/scripts/plots/results/1922_part.png\" alt=\"box off per cat\" width=\"1000\">"
   ]
  },
  {
   "cell_type": "markdown",
   "metadata": {},
   "source": [
    "<img src=\"src/scripts/plots/results/1930_part.png\" alt=\"box off per cat\" width=\"1000\">"
   ]
  },
  {
   "cell_type": "markdown",
   "metadata": {},
   "source": [
    "The second set of graphs focuses exclusively on the five selected emotions, offering a clearer view of how their trajectories evolved:\n",
    "\n",
    "- Joy shows a muted presence before 1922, with a sharp increase towards the end. Between 1930 and 1940, it fluctuates more dynamically, reflecting changes in storytelling enabled by sound and color.\n",
    "- Fear maintains a consistent peak near the middle of the timeline in both periods but displays greater variation in the later era, likely due to enhanced audio techniques that heightened suspense.\n",
    "- Disgust declines more sharply before 1922, indicating its earlier prevalence in silent films, possibly as a visual tool for evoking moral or visceral reactions.\n",
    "- Sadness demonstrates higher variability and intensity before 1922.\n",
    "- Surprise rises significantly in the later period, benefiting from plot twists and sound effects that amplified its impact.\n",
    "\n",
    "This focused analysis highlights how the adoption of sound and color reshaped the emotional arcs in movies, making them more dynamic and nuanced."
   ]
  },
  {
   "cell_type": "markdown",
   "metadata": {},
   "source": [
    "### Impact of WW1"
   ]
  },
  {
   "cell_type": "markdown",
   "metadata": {},
   "source": [
    "World War I was a transformative event that left a profound imprint on all aspects of society, including cinema. To evaluate how this global conflict shaped the emotional tone of movies, we examined the evolution of seven emotions—anger, disgust, fear, joy, neutral, sadness, and surprise—in films released before 1914 and during the war years (1914–1922). The first set of graphs provides a comparative view of these emotional dynamics over time."
   ]
  },
  {
   "cell_type": "markdown",
   "metadata": {},
   "source": [
    "<img src=\"src/scripts/plots/results/1914_full.png\" alt=\"box off per cat\" width=\"1000\">"
   ]
  },
  {
   "cell_type": "markdown",
   "metadata": {},
   "source": [
    "<img src=\"src/scripts/plots/results/1914_22_full.png\" alt=\"box off per cat\" width=\"1000\">"
   ]
  },
  {
   "cell_type": "markdown",
   "metadata": {},
   "source": [
    "Looking at the first set of graphs, it might not be clear which emotions vary the most. So let's take a closer look at this."
   ]
  },
  {
   "cell_type": "markdown",
   "metadata": {},
   "source": [
    "<img src=\"src/scripts/plots/results/mean_emotions_WW1.png\" alt=\"box off per cat\" width=\"700\">"
   ]
  },
  {
   "cell_type": "markdown",
   "metadata": {},
   "source": [
    "Now it's clear that anger and disgust show the biggest changes between the two periods. While the other emotions only shift slightly, the differences in these two emotions stand out. This suggests that the war may have had a specific impact on how filmmakers used emotions to tell stories. To understand this better, we focused on anger and disgust in the detailed graphs. "
   ]
  },
  {
   "cell_type": "markdown",
   "metadata": {},
   "source": [
    "<img src=\"src/scripts/plots/results/1914_paart.png\" alt=\"box off per cat\" width=\"700\">"
   ]
  },
  {
   "cell_type": "markdown",
   "metadata": {},
   "source": [
    "<img src=\"src/scripts/plots/results/1914_22_paarts.png\" alt=\"box off per cat\" width=\"700\">"
   ]
  },
  {
   "cell_type": "markdown",
   "metadata": {},
   "source": [
    "\n",
    "The graphs show clear patterns for anger and disgust across the two periods. Anger rises steadily before 1914, peaking around the middle of the timeline, and then drops sharply toward the end. This suggests that stories before the war built up tension and conflict before resolving them. During the war years (1914–1922), anger remains strong, showing a higher and more stable intensity. This could reflect the frustrations and conflicts of the wartime period, as filmmakers tried to capture the emotions of a world at war.\n",
    "\n",
    "On the other hand, disgust consistently declines in both periods. Before 1914, it starts high but gradually decreases, possibly because early filmmakers used unsettling themes to grab attention. During the war, the drop becomes even steeper, suggesting that audiences had less tolerance for disturbing content while dealing with real-world horrors. Filmmakers might have shifted away from such themes to provide some relief."
   ]
  },
  {
   "cell_type": "markdown",
   "metadata": {},
   "source": [
    "### Impact of 9/11"
   ]
  },
  {
   "cell_type": "markdown",
   "metadata": {},
   "source": [
    "To analyze the emotional impact of the 9/11 attacks on cinema, we focused exclusively on movies produced in the United States. By examining films from two time periods—1998 to 2000 (pre-9/11) and 2001 to 2003 (post-9/11)—we aimed to minimize the influence of other events and isolate the effects of this pivotal moment. The analysis tracks the normalized evolution of emotions such as anger, disgust, fear, joy, neutral, sadness, and surprise across different genres, providing a detailed view of how storytelling may have shifted during this era."
   ]
  },
  {
   "cell_type": "markdown",
   "metadata": {},
   "source": [
    "<img src=\"src/scripts/plots/results/Before_911_full.png\" alt=\"box off per cat\" width=\"1400\">"
   ]
  },
  {
   "cell_type": "markdown",
   "metadata": {},
   "source": [
    "<img src=\"src/scripts/plots/results/After_911_full.png\" alt=\"box off per cat\" width=\"1400\">"
   ]
  },
  {
   "cell_type": "markdown",
   "metadata": {},
   "source": [
    "From the first set of graphs, we notice that sadness shows distinct variations before and after 9/11, particularly in the genres of romance and family/animation. This observation led us to narrow our focus to these two genres, as they displayed the most striking emotional shifts. Sadness in family/animation films appears to decrease after the attacks, reflecting a potential trend toward lighter, more uplifting narratives for younger audiences. Conversely, sadness rises in romance films, suggesting a deeper exploration of emotional vulnerability and connection in response to societal grief.\n",
    "\n",
    "To better understand these patterns, we plotted the evolution of sadness specifically for these two genres before and after 9/11."
   ]
  },
  {
   "cell_type": "markdown",
   "metadata": {},
   "source": [
    "<img src=\"src/scripts/plots/results/911_part.png\" alt=\"box off per cat\" width=\"900\">"
   ]
  },
  {
   "cell_type": "markdown",
   "metadata": {},
   "source": [
    "The final graphs reveal contrasting trends. Sadness in family/animation films declines sharply post-9/11, likely reflecting an industry-wide attempt to provide escapism and comfort to audiences. In contrast, sadness in romance films increases during the same period, suggesting a shift toward more poignant and reflective storytelling that resonates with societal mourning. These findings underscore the varied emotional responses of different genres to the same historical event, highlighting the adaptive nature of cinema in addressing collective emotions."
   ]
  },
  {
   "cell_type": "markdown",
   "metadata": {},
   "source": [
    "## Correlation between emotions and ratings"
   ]
  },
  {
   "cell_type": "markdown",
   "metadata": {},
   "source": [
    "# Conclusion\n",
    "\n",
    "Our analysis provides an in-depth exploration of cinema-related data, focusing on various dimensions such as genre distribution, gender representation, box office trends, and the evolution of emotions in movies. The insights gained highlight several key aspects of the film industry while revealing areas where data limitations affect our conclusions.\n",
    "\n",
    "#### Key Findings:\n",
    "1. **Data Cleaning and Enrichment**:\n",
    "   - A significant portion of the original dataset, including movie summaries and box office data, contained missing or incomplete values.\n",
    "   - Through web scraping, we successfully enriched the dataset, reducing missing values by over 25% for box office data and improving the average quality of movie summaries.\n",
    "\n",
    "2. **Emotional Evolution in Movies**:\n",
    "   - Emotions in movies follow a consistent narrative arc across genres and continents:\n",
    "     - Negative emotions such as anger, fear, and disgust rise during the initial stages, building tension.\n",
    "     - Joy and neutrality increase toward the conclusion, reflecting narrative resolution.\n",
    "   - The trends suggest that filmmakers across the globe rely on a shared emotional structure to engage audiences.\n",
    "\n",
    "3. **Genre and Geographic Trends**:\n",
    "   - Drama dominates globally, accounting for 26% of films, followed by comedy and thriller.\n",
    "   - North America leads in film production, contributing the majority of the dataset, with Europe and Asia trailing behind. Other continents, such as South America and Africa, are underrepresented, limiting our ability to generalize findings for these regions.\n",
    "\n",
    "4. **Box Office Performance**:\n",
    "   - Our attempt to predict box office performance using a Random Forest Regressor yielded a low R-squared score of 0.124, indicating that the selected features (release date, runtime, categories, continent, and mean emotions) are insufficient for accurate prediction.\n",
    "   - The limited predictive power suggests that other factors, such as marketing budgets, star power, and audience reception, likely play a significant role in box office success.\n",
    "\n",
    "#### Limitations:\n",
    "- **Data Imbalance**: The overrepresentation of North American films skews global trends, making it difficult to draw conclusions for underrepresented regions.\n",
    "- **Feature Limitations**: Emotional arcs and basic film metadata, while insightful, are not strong predictors of box office performance without additional contextual factors.\n",
    "- **Incomplete Data**: Despite web scraping, some gaps remain, particularly for smaller film industries in South America and Africa.\n",
    "\n",
    "#### Next Steps:\n",
    "1. **Expand the Dataset**: Further scraping and validation for missing data, particularly in underrepresented regions, could improve the robustness of the analysis.\n",
    "2. **Explore Advanced Models**: Incorporating advanced machine learning models could enhance box office prediction.\n",
    "3. **Conduct Detailed Analyses**: Focused investigations into differences across genres, time, and continents could uncover unique patterns in movie dynamics. Additionally, examining the relationship between emotions and factors such as box office performance, reviews, and awards may provide deeper insights into how storytelling elements influence audience reception and commercial success.\n",
    "\n",
    "\n",
    "In conclusion, this work lays a foundation for understanding emotional storytelling and genre trends in global cinema, while identifying areas for future research and data enrichment. The results emphasize the universal appeal of emotional arcs in movies and the challenges of predicting commercial success in such a complex and multi-faceted industry.\n"
   ]
  }
 ],
 "metadata": {
  "kernelspec": {
   "display_name": "Python (ada_2)",
   "language": "python",
   "name": "ada_2"
  },
  "language_info": {
   "codemirror_mode": {
    "name": "ipython",
    "version": 3
   },
   "file_extension": ".py",
   "mimetype": "text/x-python",
   "name": "python",
   "nbconvert_exporter": "python",
   "pygments_lexer": "ipython3",
   "version": "3.12.7"
  }
 },
 "nbformat": 4,
 "nbformat_minor": 2
}
